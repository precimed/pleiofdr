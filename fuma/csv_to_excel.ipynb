{
 "cells": [
  {
   "cell_type": "code",
   "execution_count": 1,
   "id": "edcda8bb",
   "metadata": {},
   "outputs": [],
   "source": [
    "import numpy as np\n",
    "import pandas as pd\n",
    "import glob\n",
    "import os\n",
    "import pip\n",
    "from pandas import ExcelWriter"
   ]
  },
  {
   "cell_type": "code",
   "execution_count": 20,
   "id": "bd99a0d7",
   "metadata": {},
   "outputs": [],
   "source": [
    "w = ExcelWriter('condFDR_0.01_TRAITS.xlsx')\n",
    "for filename in os.listdir('.'):\n",
    "    if filename.endswith('.csv'):\n",
    "        df=pd.read_csv(filename,sep=\"\\t\")\n",
    "        df.to_excel(w, sheet_name=filename[:-4],index=False)\n",
    "        w.save()   "
   ]
  },
  {
   "cell_type": "code",
   "execution_count": 2,
   "id": "f4bbe1a3",
   "metadata": {},
   "outputs": [],
   "source": [
    "g1=pd.read_csv('../fuma_result_fin1/FUMA_conj_scz_bmi_snps_job136702/genes.txt',sep='\\t')"
   ]
  },
  {
   "cell_type": "code",
   "execution_count": 2,
   "id": "e4382ced",
   "metadata": {},
   "outputs": [],
   "source": [
    "#os.listdir('../')\n",
    "#os.mkdir('conj_gene_tables')"
   ]
  },
  {
   "cell_type": "code",
   "execution_count": 62,
   "id": "ed20c4d4",
   "metadata": {},
   "outputs": [
    {
     "name": "stderr",
     "output_type": "stream",
     "text": [
      "/home/ubuntu/.local/lib/python3.8/site-packages/pandas/core/frame.py:4441: SettingWithCopyWarning: \n",
      "A value is trying to be set on a copy of a slice from a DataFrame\n",
      "\n",
      "See the caveats in the documentation: https://pandas.pydata.org/pandas-docs/stable/user_guide/indexing.html#returning-a-view-versus-a-copy\n",
      "  return super().rename(\n",
      "<ipython-input-62-c659734684b6>:9: SettingWithCopyWarning: \n",
      "A value is trying to be set on a copy of a slice from a DataFrame.\n",
      "Try using .loc[row_indexer,col_indexer] = value instead\n",
      "\n",
      "See the caveats in the documentation: https://pandas.pydata.org/pandas-docs/stable/user_guide/indexing.html#returning-a-view-versus-a-copy\n",
      "  g2['posMap'] = np.where(g2[['posMapSNPs']]>0, \"Yes\", \"No\")\n",
      "/home/ubuntu/.local/lib/python3.8/site-packages/pandas/core/frame.py:4441: SettingWithCopyWarning: \n",
      "A value is trying to be set on a copy of a slice from a DataFrame\n",
      "\n",
      "See the caveats in the documentation: https://pandas.pydata.org/pandas-docs/stable/user_guide/indexing.html#returning-a-view-versus-a-copy\n",
      "  return super().rename(\n",
      "<ipython-input-62-c659734684b6>:9: SettingWithCopyWarning: \n",
      "A value is trying to be set on a copy of a slice from a DataFrame.\n",
      "Try using .loc[row_indexer,col_indexer] = value instead\n",
      "\n",
      "See the caveats in the documentation: https://pandas.pydata.org/pandas-docs/stable/user_guide/indexing.html#returning-a-view-versus-a-copy\n",
      "  g2['posMap'] = np.where(g2[['posMapSNPs']]>0, \"Yes\", \"No\")\n",
      "/home/ubuntu/.local/lib/python3.8/site-packages/pandas/core/frame.py:4441: SettingWithCopyWarning: \n",
      "A value is trying to be set on a copy of a slice from a DataFrame\n",
      "\n",
      "See the caveats in the documentation: https://pandas.pydata.org/pandas-docs/stable/user_guide/indexing.html#returning-a-view-versus-a-copy\n",
      "  return super().rename(\n",
      "<ipython-input-62-c659734684b6>:9: SettingWithCopyWarning: \n",
      "A value is trying to be set on a copy of a slice from a DataFrame.\n",
      "Try using .loc[row_indexer,col_indexer] = value instead\n",
      "\n",
      "See the caveats in the documentation: https://pandas.pydata.org/pandas-docs/stable/user_guide/indexing.html#returning-a-view-versus-a-copy\n",
      "  g2['posMap'] = np.where(g2[['posMapSNPs']]>0, \"Yes\", \"No\")\n",
      "/home/ubuntu/.local/lib/python3.8/site-packages/pandas/core/frame.py:4441: SettingWithCopyWarning: \n",
      "A value is trying to be set on a copy of a slice from a DataFrame\n",
      "\n",
      "See the caveats in the documentation: https://pandas.pydata.org/pandas-docs/stable/user_guide/indexing.html#returning-a-view-versus-a-copy\n",
      "  return super().rename(\n",
      "<ipython-input-62-c659734684b6>:9: SettingWithCopyWarning: \n",
      "A value is trying to be set on a copy of a slice from a DataFrame.\n",
      "Try using .loc[row_indexer,col_indexer] = value instead\n",
      "\n",
      "See the caveats in the documentation: https://pandas.pydata.org/pandas-docs/stable/user_guide/indexing.html#returning-a-view-versus-a-copy\n",
      "  g2['posMap'] = np.where(g2[['posMapSNPs']]>0, \"Yes\", \"No\")\n",
      "/home/ubuntu/.local/lib/python3.8/site-packages/pandas/core/frame.py:4441: SettingWithCopyWarning: \n",
      "A value is trying to be set on a copy of a slice from a DataFrame\n",
      "\n",
      "See the caveats in the documentation: https://pandas.pydata.org/pandas-docs/stable/user_guide/indexing.html#returning-a-view-versus-a-copy\n",
      "  return super().rename(\n",
      "<ipython-input-62-c659734684b6>:9: SettingWithCopyWarning: \n",
      "A value is trying to be set on a copy of a slice from a DataFrame.\n",
      "Try using .loc[row_indexer,col_indexer] = value instead\n",
      "\n",
      "See the caveats in the documentation: https://pandas.pydata.org/pandas-docs/stable/user_guide/indexing.html#returning-a-view-versus-a-copy\n",
      "  g2['posMap'] = np.where(g2[['posMapSNPs']]>0, \"Yes\", \"No\")\n",
      "/home/ubuntu/.local/lib/python3.8/site-packages/pandas/core/frame.py:4441: SettingWithCopyWarning: \n",
      "A value is trying to be set on a copy of a slice from a DataFrame\n",
      "\n",
      "See the caveats in the documentation: https://pandas.pydata.org/pandas-docs/stable/user_guide/indexing.html#returning-a-view-versus-a-copy\n",
      "  return super().rename(\n",
      "<ipython-input-62-c659734684b6>:9: SettingWithCopyWarning: \n",
      "A value is trying to be set on a copy of a slice from a DataFrame.\n",
      "Try using .loc[row_indexer,col_indexer] = value instead\n",
      "\n",
      "See the caveats in the documentation: https://pandas.pydata.org/pandas-docs/stable/user_guide/indexing.html#returning-a-view-versus-a-copy\n",
      "  g2['posMap'] = np.where(g2[['posMapSNPs']]>0, \"Yes\", \"No\")\n",
      "/home/ubuntu/.local/lib/python3.8/site-packages/pandas/core/frame.py:4441: SettingWithCopyWarning: \n",
      "A value is trying to be set on a copy of a slice from a DataFrame\n",
      "\n",
      "See the caveats in the documentation: https://pandas.pydata.org/pandas-docs/stable/user_guide/indexing.html#returning-a-view-versus-a-copy\n",
      "  return super().rename(\n",
      "<ipython-input-62-c659734684b6>:9: SettingWithCopyWarning: \n",
      "A value is trying to be set on a copy of a slice from a DataFrame.\n",
      "Try using .loc[row_indexer,col_indexer] = value instead\n",
      "\n",
      "See the caveats in the documentation: https://pandas.pydata.org/pandas-docs/stable/user_guide/indexing.html#returning-a-view-versus-a-copy\n",
      "  g2['posMap'] = np.where(g2[['posMapSNPs']]>0, \"Yes\", \"No\")\n",
      "/home/ubuntu/.local/lib/python3.8/site-packages/pandas/core/frame.py:4441: SettingWithCopyWarning: \n",
      "A value is trying to be set on a copy of a slice from a DataFrame\n",
      "\n",
      "See the caveats in the documentation: https://pandas.pydata.org/pandas-docs/stable/user_guide/indexing.html#returning-a-view-versus-a-copy\n",
      "  return super().rename(\n",
      "<ipython-input-62-c659734684b6>:9: SettingWithCopyWarning: \n",
      "A value is trying to be set on a copy of a slice from a DataFrame.\n",
      "Try using .loc[row_indexer,col_indexer] = value instead\n",
      "\n",
      "See the caveats in the documentation: https://pandas.pydata.org/pandas-docs/stable/user_guide/indexing.html#returning-a-view-versus-a-copy\n",
      "  g2['posMap'] = np.where(g2[['posMapSNPs']]>0, \"Yes\", \"No\")\n",
      "/home/ubuntu/.local/lib/python3.8/site-packages/pandas/core/frame.py:4441: SettingWithCopyWarning: \n",
      "A value is trying to be set on a copy of a slice from a DataFrame\n",
      "\n",
      "See the caveats in the documentation: https://pandas.pydata.org/pandas-docs/stable/user_guide/indexing.html#returning-a-view-versus-a-copy\n",
      "  return super().rename(\n",
      "<ipython-input-62-c659734684b6>:9: SettingWithCopyWarning: \n",
      "A value is trying to be set on a copy of a slice from a DataFrame.\n",
      "Try using .loc[row_indexer,col_indexer] = value instead\n",
      "\n",
      "See the caveats in the documentation: https://pandas.pydata.org/pandas-docs/stable/user_guide/indexing.html#returning-a-view-versus-a-copy\n",
      "  g2['posMap'] = np.where(g2[['posMapSNPs']]>0, \"Yes\", \"No\")\n",
      "/home/ubuntu/.local/lib/python3.8/site-packages/pandas/core/frame.py:4441: SettingWithCopyWarning: \n",
      "A value is trying to be set on a copy of a slice from a DataFrame\n",
      "\n",
      "See the caveats in the documentation: https://pandas.pydata.org/pandas-docs/stable/user_guide/indexing.html#returning-a-view-versus-a-copy\n",
      "  return super().rename(\n",
      "<ipython-input-62-c659734684b6>:9: SettingWithCopyWarning: \n",
      "A value is trying to be set on a copy of a slice from a DataFrame.\n",
      "Try using .loc[row_indexer,col_indexer] = value instead\n",
      "\n",
      "See the caveats in the documentation: https://pandas.pydata.org/pandas-docs/stable/user_guide/indexing.html#returning-a-view-versus-a-copy\n",
      "  g2['posMap'] = np.where(g2[['posMapSNPs']]>0, \"Yes\", \"No\")\n",
      "/home/ubuntu/.local/lib/python3.8/site-packages/pandas/core/frame.py:4441: SettingWithCopyWarning: \n",
      "A value is trying to be set on a copy of a slice from a DataFrame\n",
      "\n",
      "See the caveats in the documentation: https://pandas.pydata.org/pandas-docs/stable/user_guide/indexing.html#returning-a-view-versus-a-copy\n",
      "  return super().rename(\n",
      "<ipython-input-62-c659734684b6>:9: SettingWithCopyWarning: \n",
      "A value is trying to be set on a copy of a slice from a DataFrame.\n",
      "Try using .loc[row_indexer,col_indexer] = value instead\n",
      "\n",
      "See the caveats in the documentation: https://pandas.pydata.org/pandas-docs/stable/user_guide/indexing.html#returning-a-view-versus-a-copy\n",
      "  g2['posMap'] = np.where(g2[['posMapSNPs']]>0, \"Yes\", \"No\")\n"
     ]
    }
   ],
   "source": [
    "w1 = ExcelWriter('conjFDR_0.05_SCZ_vs_Traits_Genes.xlsx')\n",
    "for filename in glob.glob('../fuma_result_fin1/FUMA_conj_scz_*_snps_job*/genes.txt'):\n",
    "    g2=pd.read_csv(filename,sep=\"\\t\")\n",
    "    trait1='SCZ'\n",
    "    trait2=filename.split('/')[-2].split('_')[3].upper()\n",
    "    g2=g1.iloc[:,[0,1,2,3,4,5,6,7,8,11,12,13,14,15,16,17,18,19,20,21,22]]\n",
    "    g2.rename(columns={'ensg':'Ensembl ID','symbol':'Gene','chr':'Chr','start':'Start bp','end':'End bp',\n",
    "                   'strand':'Strand','type':'Type','entrezID':'EntrezID'}, inplace=True)\n",
    "    g2['posMap'] = np.where(g2[['posMapSNPs']]>0, \"Yes\", \"No\")\n",
    "    g2['eqtlMap'] = np.where(g2[['eqtlMapSNPs']]>0, \"Yes\", \"No\")\n",
    "    g2['Credible']=np.where(((g2.posMap =='Yes') & (g2.eqtlMap =='Yes') & (g2.ciMap=='Yes')), 'Yes', 'No')\n",
    "    g3=g2.iloc[:,[0,1,2,3,4,5,6,7,8,21,9,10,22,11,12,13,14,16,17,19,20,23]]\n",
    "    g3.to_excel(w1, sheet_name=f'{trait1}_{trait2}',index=False)\n",
    "    w1.save()   "
   ]
  },
  {
   "cell_type": "code",
   "execution_count": 59,
   "id": "91d85859",
   "metadata": {},
   "outputs": [
    {
     "data": {
      "text/plain": [
       "'BMI'"
      ]
     },
     "execution_count": 59,
     "metadata": {},
     "output_type": "execute_result"
    }
   ],
   "source": [
    "tr1='../fuma_result_fun1/FUMA_conj_scz_bmi_snps_gene2func62842/GS.txt'\n",
    "tr1.split('/')[-2].split('_')[3].upper()"
   ]
  },
  {
   "cell_type": "code",
   "execution_count": 49,
   "id": "3e46c249",
   "metadata": {},
   "outputs": [],
   "source": [
    "g1.to_excel('conjFDR_0.05_SCZ_BMI_genes.xlsx',index=False)"
   ]
  },
  {
   "cell_type": "code",
   "execution_count": 27,
   "id": "0266f3f6",
   "metadata": {},
   "outputs": [],
   "source": [
    "go1=pd.read_csv('../fuma_result_fun1/FUMA_conj_scz_bmi_snps_gene2func62842/GS.txt',sep='\\t')"
   ]
  },
  {
   "cell_type": "code",
   "execution_count": 28,
   "id": "6983f03e",
   "metadata": {},
   "outputs": [
    {
     "data": {
      "text/plain": [
       "GWAScatalog                         198\n",
       "TF_targets                          126\n",
       "Curated_gene_sets                   113\n",
       "Canonical_Pathways                   90\n",
       "Reactome                             83\n",
       "GO_bp                                43\n",
       "Positional_gene_sets                 37\n",
       "microRNA_targets                     26\n",
       "GO_cc                                25\n",
       "Chemical_and_Genetic_pertubation     20\n",
       "Computational_gene_sets              10\n",
       "GO_mf                                10\n",
       "KEGG                                  9\n",
       "Immunologic_signatures                9\n",
       "Cancer_modules                        7\n",
       "Wikipathways                          3\n",
       "Name: Category, dtype: int64"
      ]
     },
     "execution_count": 28,
     "metadata": {},
     "output_type": "execute_result"
    }
   ],
   "source": [
    "go1.Category.value_counts()"
   ]
  },
  {
   "cell_type": "code",
   "execution_count": 10,
   "id": "b5da3a26",
   "metadata": {},
   "outputs": [],
   "source": [
    "go2=go1.loc[go1.Category.isin(['GO_bp','GO_cc','GO_mf'])]"
   ]
  },
  {
   "cell_type": "code",
   "execution_count": 29,
   "id": "cd1a3cfa",
   "metadata": {},
   "outputs": [],
   "source": [
    "path1=go1.loc[go1.Category.isin(['KEGG','Wikipathways','BioCarta'])]"
   ]
  },
  {
   "cell_type": "code",
   "execution_count": 93,
   "id": "c59aa59c",
   "metadata": {},
   "outputs": [
    {
     "data": {
      "text/plain": [
       "'/home/ubuntu/body-brain/bmi/cond_fuma_combined'"
      ]
     },
     "execution_count": 93,
     "metadata": {},
     "output_type": "execute_result"
    }
   ],
   "source": [
    "os.getcwd()"
   ]
  },
  {
   "cell_type": "code",
   "execution_count": 94,
   "id": "d55b9325",
   "metadata": {},
   "outputs": [],
   "source": [
    "w2 = ExcelWriter('conjFDR_0.05_SCZ_vs_Traits_PATH.xlsx')\n",
    "for filename in glob.glob('../fuma_result_fun1/FUMA_conj_scz_*_snps_gene2func*/GS.txt'):\n",
    "    go1=pd.read_csv(filename,sep=\"\\t\")\n",
    "    trait1='SCZ'\n",
    "    trait2=filename.split('/')[-2].split('_')[3].upper()\n",
    "    go2=go1.loc[go1.Category.isin(['KEGG','Wikipathways','BioCarta'])]\n",
    "    go3=go2.iloc[:,[0,1,2,3,4,5,6]]\n",
    "    go3.to_excel(w2, sheet_name=f'{trait1}_{trait2}',index=False)\n",
    "    w2.save() "
   ]
  },
  {
   "cell_type": "code",
   "execution_count": 31,
   "id": "ef2dd5b9",
   "metadata": {},
   "outputs": [],
   "source": [
    "path2=path1.iloc[:,[0,1,2,3,4,5,6]]"
   ]
  },
  {
   "cell_type": "code",
   "execution_count": 32,
   "id": "e8e1efd6",
   "metadata": {},
   "outputs": [],
   "source": [
    "path2.to_excel('conjFDR_0.05_SCZ_BMI_PATH.xlsx',index=False)"
   ]
  },
  {
   "cell_type": "code",
   "execution_count": 14,
   "id": "1fb9d49d",
   "metadata": {},
   "outputs": [
    {
     "data": {
      "text/plain": [
       "Index(['Category', 'GeneSet', 'N_genes', 'N_overlap', 'p', 'adjP', 'genes',\n",
       "       'link'],\n",
       "      dtype='object')"
      ]
     },
     "execution_count": 14,
     "metadata": {},
     "output_type": "execute_result"
    }
   ],
   "source": [
    "go2.columns"
   ]
  },
  {
   "cell_type": "code",
   "execution_count": 15,
   "id": "14c15171",
   "metadata": {},
   "outputs": [],
   "source": [
    "go3=go2.iloc[:,[0,1,2,3,4,5,6]]"
   ]
  },
  {
   "cell_type": "code",
   "execution_count": 17,
   "id": "f44034f6",
   "metadata": {},
   "outputs": [],
   "source": [
    "go3.to_excel('conjFDR_0.05_SCZ_BMI_GO.xlsx',index=False)"
   ]
  },
  {
   "cell_type": "code",
   "execution_count": 25,
   "id": "269fc61a",
   "metadata": {},
   "outputs": [],
   "source": [
    "w2 = ExcelWriter('conjFDR_0.05_SCZ_vs_Traits_GO.xlsx')\n",
    "for filename in glob.glob('../fuma_result_fun1/FUMA_conj_scz_*_snps_gene2func*/GS.txt'):\n",
    "    go1=pd.read_csv(filename,sep=\"\\t\")\n",
    "    trait1='SCZ'\n",
    "    trait2=filename.split('/')[-2].split('_')[3].upper()\n",
    "    go2=go1.loc[go1.Category.isin(['GO_bp','GO_cc','GO_mf'])]\n",
    "    go3=go2.iloc[:,[0,1,2,3,4,5,6]]\n",
    "    go3.to_excel(w2, sheet_name=f'{trait1}_{trait2}',index=False)\n",
    "    w2.save() "
   ]
  },
  {
   "cell_type": "code",
   "execution_count": 12,
   "id": "2c6d1706",
   "metadata": {},
   "outputs": [],
   "source": [
    "g2=g1.iloc[:,[0,1,2,3,4,5,6,7,8,11,12,13,14,15,16,17,18,19,20,21,22]]"
   ]
  },
  {
   "cell_type": "code",
   "execution_count": 13,
   "id": "90a417db",
   "metadata": {},
   "outputs": [
    {
     "name": "stdout",
     "output_type": "stream",
     "text": [
      "<class 'pandas.core.frame.DataFrame'>\n",
      "RangeIndex: 2485 entries, 0 to 2484\n",
      "Data columns (total 21 columns):\n",
      " #   Column         Non-Null Count  Dtype  \n",
      "---  ------         --------------  -----  \n",
      " 0   ensg           2485 non-null   object \n",
      " 1   symbol         2485 non-null   object \n",
      " 2   chr            2485 non-null   int64  \n",
      " 3   start          2485 non-null   int64  \n",
      " 4   end            2485 non-null   int64  \n",
      " 5   strand         2485 non-null   int64  \n",
      " 6   type           2485 non-null   object \n",
      " 7   entrezID       2411 non-null   float64\n",
      " 8   HUGO           2411 non-null   object \n",
      " 9   posMapSNPs     2485 non-null   int64  \n",
      " 10  posMapMaxCADD  2485 non-null   float64\n",
      " 11  eqtlMapSNPs    2485 non-null   int64  \n",
      " 12  eqtlMapminP    1176 non-null   float64\n",
      " 13  eqtlMapminQ    1298 non-null   float64\n",
      " 14  eqtlMapts      1298 non-null   object \n",
      " 15  eqtlDirection  0 non-null      float64\n",
      " 16  ciMap          2485 non-null   object \n",
      " 17  ciMapts        1859 non-null   object \n",
      " 18  minGwasP       2047 non-null   float64\n",
      " 19  IndSigSNPs     2485 non-null   object \n",
      " 20  GenomicLocus   2485 non-null   object \n",
      "dtypes: float64(6), int64(6), object(9)\n",
      "memory usage: 407.8+ KB\n"
     ]
    }
   ],
   "source": [
    "g2.info()"
   ]
  },
  {
   "cell_type": "code",
   "execution_count": 22,
   "id": "10b4c36a",
   "metadata": {},
   "outputs": [],
   "source": [
    "g2.rename(columns={'ensg':'Ensembl ID','symbol':'Gene','chr':'Chr','start':'Start bp','end':'End bp',\n",
    "                   'strand':'Strand','type':'Type','entrezID':'EntrezID'}, inplace=True)"
   ]
  },
  {
   "cell_type": "code",
   "execution_count": 23,
   "id": "0da6bb65",
   "metadata": {},
   "outputs": [
    {
     "name": "stdout",
     "output_type": "stream",
     "text": [
      "<class 'pandas.core.frame.DataFrame'>\n",
      "RangeIndex: 2485 entries, 0 to 2484\n",
      "Data columns (total 21 columns):\n",
      " #   Column         Non-Null Count  Dtype  \n",
      "---  ------         --------------  -----  \n",
      " 0   Ensembl ID     2485 non-null   object \n",
      " 1   Gene           2485 non-null   object \n",
      " 2   Chr            2485 non-null   int64  \n",
      " 3   Start bp       2485 non-null   int64  \n",
      " 4   End bp         2485 non-null   int64  \n",
      " 5   Strand         2485 non-null   int64  \n",
      " 6   Type           2485 non-null   object \n",
      " 7   EntrezID       2411 non-null   float64\n",
      " 8   HUGO           2411 non-null   object \n",
      " 9   posMapSNPs     2485 non-null   int64  \n",
      " 10  posMapMaxCADD  2485 non-null   float64\n",
      " 11  eqtlMapSNPs    2485 non-null   int64  \n",
      " 12  eqtlMapminP    1176 non-null   float64\n",
      " 13  eqtlMapminQ    1298 non-null   float64\n",
      " 14  eqtlMapts      1298 non-null   object \n",
      " 15  eqtlDirection  0 non-null      float64\n",
      " 16  ciMap          2485 non-null   object \n",
      " 17  ciMapts        1859 non-null   object \n",
      " 18  minGwasP       2047 non-null   float64\n",
      " 19  IndSigSNPs     2485 non-null   object \n",
      " 20  GenomicLocus   2485 non-null   object \n",
      "dtypes: float64(6), int64(6), object(9)\n",
      "memory usage: 407.8+ KB\n"
     ]
    }
   ],
   "source": [
    "g2.info()"
   ]
  },
  {
   "cell_type": "code",
   "execution_count": 25,
   "id": "819dc5c8",
   "metadata": {},
   "outputs": [
    {
     "name": "stderr",
     "output_type": "stream",
     "text": [
      "<ipython-input-25-867ac2311a52>:1: SettingWithCopyWarning: \n",
      "A value is trying to be set on a copy of a slice from a DataFrame.\n",
      "Try using .loc[row_indexer,col_indexer] = value instead\n",
      "\n",
      "See the caveats in the documentation: https://pandas.pydata.org/pandas-docs/stable/user_guide/indexing.html#returning-a-view-versus-a-copy\n",
      "  g2['posMap'] = np.where(g2[['posMapSNPs']]>0, \"Yes\", \"No\")\n"
     ]
    }
   ],
   "source": [
    "g2['posMap'] = np.where(g2[['posMapSNPs']]>0, \"Yes\", \"No\")"
   ]
  },
  {
   "cell_type": "code",
   "execution_count": 26,
   "id": "62aae67c",
   "metadata": {},
   "outputs": [
    {
     "data": {
      "text/plain": [
       "No     1468\n",
       "Yes    1017\n",
       "Name: posMap, dtype: int64"
      ]
     },
     "execution_count": 26,
     "metadata": {},
     "output_type": "execute_result"
    }
   ],
   "source": [
    "g2.posMap.value_counts()"
   ]
  },
  {
   "cell_type": "code",
   "execution_count": 27,
   "id": "4df58e74",
   "metadata": {},
   "outputs": [],
   "source": [
    "g2['eqtlMap'] = np.where(g2[['eqtlMapSNPs']]>0, \"Yes\", \"No\")"
   ]
  },
  {
   "cell_type": "code",
   "execution_count": 28,
   "id": "635b1bb7",
   "metadata": {},
   "outputs": [
    {
     "data": {
      "text/plain": [
       "Yes    1298\n",
       "No     1187\n",
       "Name: eqtlMap, dtype: int64"
      ]
     },
     "execution_count": 28,
     "metadata": {},
     "output_type": "execute_result"
    }
   ],
   "source": [
    "g2.eqtlMap.value_counts()"
   ]
  },
  {
   "cell_type": "code",
   "execution_count": 29,
   "id": "b81a8f5f",
   "metadata": {},
   "outputs": [
    {
     "name": "stdout",
     "output_type": "stream",
     "text": [
      "<class 'pandas.core.frame.DataFrame'>\n",
      "RangeIndex: 2485 entries, 0 to 2484\n",
      "Data columns (total 23 columns):\n",
      " #   Column         Non-Null Count  Dtype  \n",
      "---  ------         --------------  -----  \n",
      " 0   Ensembl ID     2485 non-null   object \n",
      " 1   Gene           2485 non-null   object \n",
      " 2   Chr            2485 non-null   int64  \n",
      " 3   Start bp       2485 non-null   int64  \n",
      " 4   End bp         2485 non-null   int64  \n",
      " 5   Strand         2485 non-null   int64  \n",
      " 6   Type           2485 non-null   object \n",
      " 7   EntrezID       2411 non-null   float64\n",
      " 8   HUGO           2411 non-null   object \n",
      " 9   posMapSNPs     2485 non-null   int64  \n",
      " 10  posMapMaxCADD  2485 non-null   float64\n",
      " 11  eqtlMapSNPs    2485 non-null   int64  \n",
      " 12  eqtlMapminP    1176 non-null   float64\n",
      " 13  eqtlMapminQ    1298 non-null   float64\n",
      " 14  eqtlMapts      1298 non-null   object \n",
      " 15  eqtlDirection  0 non-null      float64\n",
      " 16  ciMap          2485 non-null   object \n",
      " 17  ciMapts        1859 non-null   object \n",
      " 18  minGwasP       2047 non-null   float64\n",
      " 19  IndSigSNPs     2485 non-null   object \n",
      " 20  GenomicLocus   2485 non-null   object \n",
      " 21  posMap         2485 non-null   object \n",
      " 22  eqtlMap        2485 non-null   object \n",
      "dtypes: float64(6), int64(6), object(11)\n",
      "memory usage: 446.6+ KB\n"
     ]
    }
   ],
   "source": [
    "g2.info()"
   ]
  },
  {
   "cell_type": "code",
   "execution_count": 31,
   "id": "7e997901",
   "metadata": {},
   "outputs": [],
   "source": [
    "#g2['Credible'] = np.where(g2[['posMap']]== 'Yes' & g2[['eqtlMap']]== 'Yes' & g2[['ciMap']]== 'Yes',\"Yes\", \"No\")\n",
    "g2['Credible']=np.where(((g2.posMap =='Yes') & (g2.eqtlMap =='Yes') & (g2.ciMap=='Yes')), 'Yes', 'No')"
   ]
  },
  {
   "cell_type": "code",
   "execution_count": 32,
   "id": "f3f7de23",
   "metadata": {},
   "outputs": [
    {
     "data": {
      "text/plain": [
       "No     1947\n",
       "Yes     538\n",
       "Name: Credible, dtype: int64"
      ]
     },
     "execution_count": 32,
     "metadata": {},
     "output_type": "execute_result"
    }
   ],
   "source": [
    "g2.Credible.value_counts()"
   ]
  },
  {
   "cell_type": "code",
   "execution_count": 33,
   "id": "a27a9d17",
   "metadata": {},
   "outputs": [
    {
     "name": "stdout",
     "output_type": "stream",
     "text": [
      "<class 'pandas.core.frame.DataFrame'>\n",
      "RangeIndex: 2485 entries, 0 to 2484\n",
      "Data columns (total 24 columns):\n",
      " #   Column         Non-Null Count  Dtype  \n",
      "---  ------         --------------  -----  \n",
      " 0   Ensembl ID     2485 non-null   object \n",
      " 1   Gene           2485 non-null   object \n",
      " 2   Chr            2485 non-null   int64  \n",
      " 3   Start bp       2485 non-null   int64  \n",
      " 4   End bp         2485 non-null   int64  \n",
      " 5   Strand         2485 non-null   int64  \n",
      " 6   Type           2485 non-null   object \n",
      " 7   EntrezID       2411 non-null   float64\n",
      " 8   HUGO           2411 non-null   object \n",
      " 9   posMapSNPs     2485 non-null   int64  \n",
      " 10  posMapMaxCADD  2485 non-null   float64\n",
      " 11  eqtlMapSNPs    2485 non-null   int64  \n",
      " 12  eqtlMapminP    1176 non-null   float64\n",
      " 13  eqtlMapminQ    1298 non-null   float64\n",
      " 14  eqtlMapts      1298 non-null   object \n",
      " 15  eqtlDirection  0 non-null      float64\n",
      " 16  ciMap          2485 non-null   object \n",
      " 17  ciMapts        1859 non-null   object \n",
      " 18  minGwasP       2047 non-null   float64\n",
      " 19  IndSigSNPs     2485 non-null   object \n",
      " 20  GenomicLocus   2485 non-null   object \n",
      " 21  posMap         2485 non-null   object \n",
      " 22  eqtlMap        2485 non-null   object \n",
      " 23  Credible       2485 non-null   object \n",
      "dtypes: float64(6), int64(6), object(12)\n",
      "memory usage: 466.1+ KB\n"
     ]
    }
   ],
   "source": [
    "g2.info()"
   ]
  },
  {
   "cell_type": "code",
   "execution_count": 42,
   "id": "eadefa54",
   "metadata": {},
   "outputs": [],
   "source": [
    "g3=g2.iloc[:,[0,1,2,3,4,5,6,7,8,21,9,10,22,11,12,13,14,16,17,19,20,23]]"
   ]
  },
  {
   "cell_type": "code",
   "execution_count": 43,
   "id": "6ae83091",
   "metadata": {},
   "outputs": [
    {
     "name": "stdout",
     "output_type": "stream",
     "text": [
      "<class 'pandas.core.frame.DataFrame'>\n",
      "RangeIndex: 2485 entries, 0 to 2484\n",
      "Data columns (total 22 columns):\n",
      " #   Column         Non-Null Count  Dtype  \n",
      "---  ------         --------------  -----  \n",
      " 0   Ensembl ID     2485 non-null   object \n",
      " 1   Gene           2485 non-null   object \n",
      " 2   Chr            2485 non-null   int64  \n",
      " 3   Start bp       2485 non-null   int64  \n",
      " 4   End bp         2485 non-null   int64  \n",
      " 5   Strand         2485 non-null   int64  \n",
      " 6   Type           2485 non-null   object \n",
      " 7   EntrezID       2411 non-null   float64\n",
      " 8   HUGO           2411 non-null   object \n",
      " 9   posMap         2485 non-null   object \n",
      " 10  posMapSNPs     2485 non-null   int64  \n",
      " 11  posMapMaxCADD  2485 non-null   float64\n",
      " 12  eqtlMap        2485 non-null   object \n",
      " 13  eqtlMapSNPs    2485 non-null   int64  \n",
      " 14  eqtlMapminP    1176 non-null   float64\n",
      " 15  eqtlMapminQ    1298 non-null   float64\n",
      " 16  eqtlMapts      1298 non-null   object \n",
      " 17  ciMap          2485 non-null   object \n",
      " 18  ciMapts        1859 non-null   object \n",
      " 19  IndSigSNPs     2485 non-null   object \n",
      " 20  GenomicLocus   2485 non-null   object \n",
      " 21  Credible       2485 non-null   object \n",
      "dtypes: float64(4), int64(6), object(12)\n",
      "memory usage: 427.2+ KB\n"
     ]
    }
   ],
   "source": [
    "g3.info()"
   ]
  },
  {
   "cell_type": "code",
   "execution_count": 38,
   "id": "9a4ac345",
   "metadata": {},
   "outputs": [
    {
     "data": {
      "text/html": [
       "<div>\n",
       "<style scoped>\n",
       "    .dataframe tbody tr th:only-of-type {\n",
       "        vertical-align: middle;\n",
       "    }\n",
       "\n",
       "    .dataframe tbody tr th {\n",
       "        vertical-align: top;\n",
       "    }\n",
       "\n",
       "    .dataframe thead th {\n",
       "        text-align: right;\n",
       "    }\n",
       "</style>\n",
       "<table border=\"1\" class=\"dataframe\">\n",
       "  <thead>\n",
       "    <tr style=\"text-align: right;\">\n",
       "      <th></th>\n",
       "      <th>Ensembl ID</th>\n",
       "      <th>Gene</th>\n",
       "      <th>Chr</th>\n",
       "      <th>Start bp</th>\n",
       "      <th>End bp</th>\n",
       "      <th>Strand</th>\n",
       "      <th>Type</th>\n",
       "      <th>EntrezID</th>\n",
       "      <th>HUGO</th>\n",
       "      <th>posMap</th>\n",
       "      <th>...</th>\n",
       "      <th>eqtlMapminP</th>\n",
       "      <th>eqtlMapminQ</th>\n",
       "      <th>eqtlMapts</th>\n",
       "      <th>eqtlDirection</th>\n",
       "      <th>ciMap</th>\n",
       "      <th>ciMapts</th>\n",
       "      <th>minGwasP</th>\n",
       "      <th>IndSigSNPs</th>\n",
       "      <th>GenomicLocus</th>\n",
       "      <th>Credible</th>\n",
       "    </tr>\n",
       "  </thead>\n",
       "  <tbody>\n",
       "    <tr>\n",
       "      <th>0</th>\n",
       "      <td>ENSG00000197785</td>\n",
       "      <td>ATAD3A</td>\n",
       "      <td>1</td>\n",
       "      <td>1447531</td>\n",
       "      <td>1470067</td>\n",
       "      <td>1</td>\n",
       "      <td>protein_coding</td>\n",
       "      <td>55210.0</td>\n",
       "      <td>ATAD3A</td>\n",
       "      <td>No</td>\n",
       "      <td>...</td>\n",
       "      <td>NaN</td>\n",
       "      <td>NaN</td>\n",
       "      <td>NaN</td>\n",
       "      <td>NaN</td>\n",
       "      <td>Yes</td>\n",
       "      <td>Promoter_anchored_loops</td>\n",
       "      <td>7.351549e-10</td>\n",
       "      <td>rs10910078</td>\n",
       "      <td>1</td>\n",
       "      <td>No</td>\n",
       "    </tr>\n",
       "    <tr>\n",
       "      <th>1</th>\n",
       "      <td>ENSG00000008130</td>\n",
       "      <td>NADK</td>\n",
       "      <td>1</td>\n",
       "      <td>1682671</td>\n",
       "      <td>1711896</td>\n",
       "      <td>-1</td>\n",
       "      <td>protein_coding</td>\n",
       "      <td>65220.0</td>\n",
       "      <td>NADK</td>\n",
       "      <td>No</td>\n",
       "      <td>...</td>\n",
       "      <td>NaN</td>\n",
       "      <td>NaN</td>\n",
       "      <td>NaN</td>\n",
       "      <td>NaN</td>\n",
       "      <td>Yes</td>\n",
       "      <td>Promoter_anchored_loops</td>\n",
       "      <td>7.351549e-10</td>\n",
       "      <td>rs10910078</td>\n",
       "      <td>1</td>\n",
       "      <td>No</td>\n",
       "    </tr>\n",
       "    <tr>\n",
       "      <th>2</th>\n",
       "      <td>ENSG00000157911</td>\n",
       "      <td>PEX10</td>\n",
       "      <td>1</td>\n",
       "      <td>2336236</td>\n",
       "      <td>2345236</td>\n",
       "      <td>-1</td>\n",
       "      <td>protein_coding</td>\n",
       "      <td>5192.0</td>\n",
       "      <td>PEX10</td>\n",
       "      <td>No</td>\n",
       "      <td>...</td>\n",
       "      <td>NaN</td>\n",
       "      <td>NaN</td>\n",
       "      <td>NaN</td>\n",
       "      <td>NaN</td>\n",
       "      <td>Yes</td>\n",
       "      <td>Promoter_anchored_loops</td>\n",
       "      <td>7.351549e-10</td>\n",
       "      <td>rs10910078</td>\n",
       "      <td>1</td>\n",
       "      <td>No</td>\n",
       "    </tr>\n",
       "    <tr>\n",
       "      <th>3</th>\n",
       "      <td>ENSG00000149527</td>\n",
       "      <td>PLCH2</td>\n",
       "      <td>1</td>\n",
       "      <td>2357419</td>\n",
       "      <td>2436969</td>\n",
       "      <td>1</td>\n",
       "      <td>protein_coding</td>\n",
       "      <td>9651.0</td>\n",
       "      <td>PLCH2</td>\n",
       "      <td>Yes</td>\n",
       "      <td>...</td>\n",
       "      <td>1.790010e-11</td>\n",
       "      <td>0.0</td>\n",
       "      <td>BIOSQTL/BIOS_eQTL_geneLevel:GTEx/v8/Brain_Spin...</td>\n",
       "      <td>NaN</td>\n",
       "      <td>No</td>\n",
       "      <td>NaN</td>\n",
       "      <td>7.351549e-10</td>\n",
       "      <td>rs10910078</td>\n",
       "      <td>1</td>\n",
       "      <td>No</td>\n",
       "    </tr>\n",
       "    <tr>\n",
       "      <th>4</th>\n",
       "      <td>ENSG00000157870</td>\n",
       "      <td>FAM213B</td>\n",
       "      <td>1</td>\n",
       "      <td>2517930</td>\n",
       "      <td>2522908</td>\n",
       "      <td>1</td>\n",
       "      <td>protein_coding</td>\n",
       "      <td>127281.0</td>\n",
       "      <td>FAM213B</td>\n",
       "      <td>No</td>\n",
       "      <td>...</td>\n",
       "      <td>3.691940e-13</td>\n",
       "      <td>0.0</td>\n",
       "      <td>BIOSQTL/BIOS_eQTL_geneLevel</td>\n",
       "      <td>NaN</td>\n",
       "      <td>No</td>\n",
       "      <td>NaN</td>\n",
       "      <td>7.351549e-10</td>\n",
       "      <td>rs10910078</td>\n",
       "      <td>1</td>\n",
       "      <td>No</td>\n",
       "    </tr>\n",
       "  </tbody>\n",
       "</table>\n",
       "<p>5 rows × 24 columns</p>\n",
       "</div>"
      ],
      "text/plain": [
       "        Ensembl ID     Gene  Chr  Start bp   End bp  Strand            Type  \\\n",
       "0  ENSG00000197785   ATAD3A    1   1447531  1470067       1  protein_coding   \n",
       "1  ENSG00000008130     NADK    1   1682671  1711896      -1  protein_coding   \n",
       "2  ENSG00000157911    PEX10    1   2336236  2345236      -1  protein_coding   \n",
       "3  ENSG00000149527    PLCH2    1   2357419  2436969       1  protein_coding   \n",
       "4  ENSG00000157870  FAM213B    1   2517930  2522908       1  protein_coding   \n",
       "\n",
       "   EntrezID     HUGO posMap  ...   eqtlMapminP  eqtlMapminQ  \\\n",
       "0   55210.0   ATAD3A     No  ...           NaN          NaN   \n",
       "1   65220.0     NADK     No  ...           NaN          NaN   \n",
       "2    5192.0    PEX10     No  ...           NaN          NaN   \n",
       "3    9651.0    PLCH2    Yes  ...  1.790010e-11          0.0   \n",
       "4  127281.0  FAM213B     No  ...  3.691940e-13          0.0   \n",
       "\n",
       "                                           eqtlMapts  eqtlDirection  ciMap  \\\n",
       "0                                                NaN            NaN    Yes   \n",
       "1                                                NaN            NaN    Yes   \n",
       "2                                                NaN            NaN    Yes   \n",
       "3  BIOSQTL/BIOS_eQTL_geneLevel:GTEx/v8/Brain_Spin...            NaN     No   \n",
       "4                        BIOSQTL/BIOS_eQTL_geneLevel            NaN     No   \n",
       "\n",
       "                   ciMapts      minGwasP  IndSigSNPs GenomicLocus Credible  \n",
       "0  Promoter_anchored_loops  7.351549e-10  rs10910078            1       No  \n",
       "1  Promoter_anchored_loops  7.351549e-10  rs10910078            1       No  \n",
       "2  Promoter_anchored_loops  7.351549e-10  rs10910078            1       No  \n",
       "3                      NaN  7.351549e-10  rs10910078            1       No  \n",
       "4                      NaN  7.351549e-10  rs10910078            1       No  \n",
       "\n",
       "[5 rows x 24 columns]"
      ]
     },
     "execution_count": 38,
     "metadata": {},
     "output_type": "execute_result"
    }
   ],
   "source": [
    "g3.head()"
   ]
  },
  {
   "cell_type": "code",
   "execution_count": 39,
   "id": "3dbac8e7",
   "metadata": {},
   "outputs": [],
   "source": [
    "g3.to_excel('conjFDR_0.05_SCZ_BMI_genes.xlsx',index=False)"
   ]
  },
  {
   "cell_type": "code",
   "execution_count": 2,
   "id": "4f2914ab",
   "metadata": {},
   "outputs": [],
   "source": [
    "nv1=pd.read_csv('../../../md_cvd_yunhan/combined_tables/conjFDR_0.05_DEP_vs_BMI.csv')"
   ]
  },
  {
   "cell_type": "code",
   "execution_count": 11,
   "id": "4daa631c",
   "metadata": {},
   "outputs": [
    {
     "data": {
      "text/plain": [
       "Index(['locusnum', 'CHR', 'LEAD_SNP', 'LEAD_BP', 'MinBP', 'MaxBP', 'FDR', 'A1',\n",
       "       'A2', 'nearestGene', 'dist', 'func', 'CADD', 'RDB', 'minChrState',\n",
       "       'commonChrState', 'PVAL_in_DEP', 'Z_in_DEP', 'BETA_in_DEP', 'SE_in_DEP',\n",
       "       'PVAL_in_BMI', 'Z_in_BMI', 'BETA_in_BMI', 'SE_in_BMI'],\n",
       "      dtype='object')"
      ]
     },
     "execution_count": 11,
     "metadata": {},
     "output_type": "execute_result"
    }
   ],
   "source": [
    "nv1.columns"
   ]
  },
  {
   "cell_type": "code",
   "execution_count": 59,
   "id": "9a34cf09",
   "metadata": {},
   "outputs": [],
   "source": [
    "gw1=pd.read_csv('../../../md_cvd_yunhan/fuma_output_fin1/FUMA_conj_bmi_lead_job139938/gwascatalog.txt',sep='\\t')"
   ]
  },
  {
   "cell_type": "code",
   "execution_count": 66,
   "id": "3718d14f",
   "metadata": {},
   "outputs": [],
   "source": [
    "nov='Depress'"
   ]
  },
  {
   "cell_type": "code",
   "execution_count": null,
   "id": "aac2b27b",
   "metadata": {},
   "outputs": [],
   "source": [
    "df[df[\"A\"].str.contains(fr'\\b{variable}\\b', regex=True, case=False)]"
   ]
  },
  {
   "cell_type": "code",
   "execution_count": 68,
   "id": "d160782a",
   "metadata": {},
   "outputs": [],
   "source": [
    "gw2=gw1[gw1['Trait'].str.contains(fr'{nov}(?!$)')]"
   ]
  },
  {
   "cell_type": "code",
   "execution_count": 69,
   "id": "1f4c2e7e",
   "metadata": {},
   "outputs": [
    {
     "data": {
      "text/plain": [
       "<bound method IndexOpsMixin.value_counts of 4      Depressive symptoms (MTAG)\n",
       "10                     Depression\n",
       "14                     Depression\n",
       "21                     Depression\n",
       "26            Depressive symptoms\n",
       "                  ...            \n",
       "458                    Depression\n",
       "475    Depressive symptoms (MTAG)\n",
       "476                    Depression\n",
       "477           Depressive symptoms\n",
       "479           Depressive symptoms\n",
       "Name: Trait, Length: 63, dtype: object>"
      ]
     },
     "execution_count": 69,
     "metadata": {},
     "output_type": "execute_result"
    }
   ],
   "source": [
    "gw2.Trait.value_counts"
   ]
  },
  {
   "cell_type": "code",
   "execution_count": 9,
   "id": "c9adcb22",
   "metadata": {},
   "outputs": [],
   "source": [
    "db1=pd.read_csv('../../../md_cvd_yunhan/novelty_db_dep.csv',sep='\\t')"
   ]
  },
  {
   "cell_type": "code",
   "execution_count": 13,
   "id": "8e2fddef",
   "metadata": {},
   "outputs": [
    {
     "data": {
      "text/plain": [
       "Index(['chromosome', 'min_bp', 'max_bp', 'lead_SNP'], dtype='object')"
      ]
     },
     "execution_count": 13,
     "metadata": {},
     "output_type": "execute_result"
    }
   ],
   "source": [
    "db1.columns"
   ]
  },
  {
   "cell_type": "code",
   "execution_count": 70,
   "id": "a75a41f0",
   "metadata": {},
   "outputs": [],
   "source": [
    "nv1['Novel_in_GWAS_Catalog']=np.where(((nv1.LEAD_SNP.isin(gw2.snp))), 'No', 'Yes')"
   ]
  },
  {
   "cell_type": "code",
   "execution_count": 71,
   "id": "9f8a37fc",
   "metadata": {},
   "outputs": [],
   "source": [
    "nv1['Novel_in_Database']=np.where(((nv1.LEAD_SNP.isin(db1.lead_SNP))), 'No', 'Yes')"
   ]
  },
  {
   "cell_type": "code",
   "execution_count": 28,
   "id": "a07e4f5a",
   "metadata": {},
   "outputs": [
    {
     "data": {
      "text/plain": [
       "Yes    35\n",
       "No      8\n",
       "Name: Novel_in_Database, dtype: int64"
      ]
     },
     "execution_count": 28,
     "metadata": {},
     "output_type": "execute_result"
    }
   ],
   "source": [
    "nv1.Novel_in_Database.value_counts()"
   ]
  },
  {
   "cell_type": "code",
   "execution_count": 30,
   "id": "2c482827",
   "metadata": {},
   "outputs": [
    {
     "ename": "ValueError",
     "evalue": "Can only compare identically-labeled Series objects",
     "output_type": "error",
     "traceback": [
      "\u001b[0;31m---------------------------------------------------------------------------\u001b[0m",
      "\u001b[0;31mValueError\u001b[0m                                Traceback (most recent call last)",
      "\u001b[0;32m<ipython-input-30-f530eb80251e>\u001b[0m in \u001b[0;36m<module>\u001b[0;34m\u001b[0m\n\u001b[0;32m----> 1\u001b[0;31m nv1['Novel_in_Database']=np.where((((nv1.MinBP >= db1.min_bp) & (nv1.MinBP <= db1.max_bp)) |\n\u001b[0m\u001b[1;32m      2\u001b[0m                                   ((nv1.MaxBP <= db1.max_bp) & (nv1.MaxBP >= db1.min_bp))), 'No', 'Yes')\n",
      "\u001b[0;32m~/.local/lib/python3.8/site-packages/pandas/core/ops/common.py\u001b[0m in \u001b[0;36mnew_method\u001b[0;34m(self, other)\u001b[0m\n\u001b[1;32m     63\u001b[0m         \u001b[0mother\u001b[0m \u001b[0;34m=\u001b[0m \u001b[0mitem_from_zerodim\u001b[0m\u001b[0;34m(\u001b[0m\u001b[0mother\u001b[0m\u001b[0;34m)\u001b[0m\u001b[0;34m\u001b[0m\u001b[0;34m\u001b[0m\u001b[0m\n\u001b[1;32m     64\u001b[0m \u001b[0;34m\u001b[0m\u001b[0m\n\u001b[0;32m---> 65\u001b[0;31m         \u001b[0;32mreturn\u001b[0m \u001b[0mmethod\u001b[0m\u001b[0;34m(\u001b[0m\u001b[0mself\u001b[0m\u001b[0;34m,\u001b[0m \u001b[0mother\u001b[0m\u001b[0;34m)\u001b[0m\u001b[0;34m\u001b[0m\u001b[0;34m\u001b[0m\u001b[0m\n\u001b[0m\u001b[1;32m     66\u001b[0m \u001b[0;34m\u001b[0m\u001b[0m\n\u001b[1;32m     67\u001b[0m     \u001b[0;32mreturn\u001b[0m \u001b[0mnew_method\u001b[0m\u001b[0;34m\u001b[0m\u001b[0;34m\u001b[0m\u001b[0m\n",
      "\u001b[0;32m~/.local/lib/python3.8/site-packages/pandas/core/arraylike.py\u001b[0m in \u001b[0;36m__ge__\u001b[0;34m(self, other)\u001b[0m\n\u001b[1;32m     47\u001b[0m     \u001b[0;34m@\u001b[0m\u001b[0munpack_zerodim_and_defer\u001b[0m\u001b[0;34m(\u001b[0m\u001b[0;34m\"__ge__\"\u001b[0m\u001b[0;34m)\u001b[0m\u001b[0;34m\u001b[0m\u001b[0;34m\u001b[0m\u001b[0m\n\u001b[1;32m     48\u001b[0m     \u001b[0;32mdef\u001b[0m \u001b[0m__ge__\u001b[0m\u001b[0;34m(\u001b[0m\u001b[0mself\u001b[0m\u001b[0;34m,\u001b[0m \u001b[0mother\u001b[0m\u001b[0;34m)\u001b[0m\u001b[0;34m:\u001b[0m\u001b[0;34m\u001b[0m\u001b[0;34m\u001b[0m\u001b[0m\n\u001b[0;32m---> 49\u001b[0;31m         \u001b[0;32mreturn\u001b[0m \u001b[0mself\u001b[0m\u001b[0;34m.\u001b[0m\u001b[0m_cmp_method\u001b[0m\u001b[0;34m(\u001b[0m\u001b[0mother\u001b[0m\u001b[0;34m,\u001b[0m \u001b[0moperator\u001b[0m\u001b[0;34m.\u001b[0m\u001b[0mge\u001b[0m\u001b[0;34m)\u001b[0m\u001b[0;34m\u001b[0m\u001b[0;34m\u001b[0m\u001b[0m\n\u001b[0m\u001b[1;32m     50\u001b[0m \u001b[0;34m\u001b[0m\u001b[0m\n\u001b[1;32m     51\u001b[0m     \u001b[0;31m# -------------------------------------------------------------\u001b[0m\u001b[0;34m\u001b[0m\u001b[0;34m\u001b[0m\u001b[0;34m\u001b[0m\u001b[0m\n",
      "\u001b[0;32m~/.local/lib/python3.8/site-packages/pandas/core/series.py\u001b[0m in \u001b[0;36m_cmp_method\u001b[0;34m(self, other, op)\u001b[0m\n\u001b[1;32m   4971\u001b[0m \u001b[0;34m\u001b[0m\u001b[0m\n\u001b[1;32m   4972\u001b[0m         \u001b[0;32mif\u001b[0m \u001b[0misinstance\u001b[0m\u001b[0;34m(\u001b[0m\u001b[0mother\u001b[0m\u001b[0;34m,\u001b[0m \u001b[0mSeries\u001b[0m\u001b[0;34m)\u001b[0m \u001b[0;32mand\u001b[0m \u001b[0;32mnot\u001b[0m \u001b[0mself\u001b[0m\u001b[0;34m.\u001b[0m\u001b[0m_indexed_same\u001b[0m\u001b[0;34m(\u001b[0m\u001b[0mother\u001b[0m\u001b[0;34m)\u001b[0m\u001b[0;34m:\u001b[0m\u001b[0;34m\u001b[0m\u001b[0;34m\u001b[0m\u001b[0m\n\u001b[0;32m-> 4973\u001b[0;31m             \u001b[0;32mraise\u001b[0m \u001b[0mValueError\u001b[0m\u001b[0;34m(\u001b[0m\u001b[0;34m\"Can only compare identically-labeled Series objects\"\u001b[0m\u001b[0;34m)\u001b[0m\u001b[0;34m\u001b[0m\u001b[0;34m\u001b[0m\u001b[0m\n\u001b[0m\u001b[1;32m   4974\u001b[0m \u001b[0;34m\u001b[0m\u001b[0m\n\u001b[1;32m   4975\u001b[0m         \u001b[0mlvalues\u001b[0m \u001b[0;34m=\u001b[0m \u001b[0mextract_array\u001b[0m\u001b[0;34m(\u001b[0m\u001b[0mself\u001b[0m\u001b[0;34m,\u001b[0m \u001b[0mextract_numpy\u001b[0m\u001b[0;34m=\u001b[0m\u001b[0;32mTrue\u001b[0m\u001b[0;34m)\u001b[0m\u001b[0;34m\u001b[0m\u001b[0;34m\u001b[0m\u001b[0m\n",
      "\u001b[0;31mValueError\u001b[0m: Can only compare identically-labeled Series objects"
     ]
    }
   ],
   "source": [
    "nv1['Novel_in_Database']=np.where((((nv1.MinBP >= db1.min_bp) & (nv1.MinBP <= db1.max_bp)) |\n",
    "                                  ((nv1.MaxBP <= db1.max_bp) & (nv1.MaxBP >= db1.min_bp))), 'No', 'Yes')"
   ]
  },
  {
   "cell_type": "code",
   "execution_count": 31,
   "id": "a8060fb0",
   "metadata": {},
   "outputs": [],
   "source": [
    "df = pd.merge(nv1.reset_index(), db1, how='cross')"
   ]
  },
  {
   "cell_type": "code",
   "execution_count": 34,
   "id": "ee5dafef",
   "metadata": {},
   "outputs": [],
   "source": [
    "df['Novel_in_Database'] = df['MinBP'].between(df['min_bp'], df['max_bp']) \\\n",
    "                        | df['MaxBP'].between(df['min_bp'], df['max_bp'])"
   ]
  },
  {
   "cell_type": "code",
   "execution_count": 35,
   "id": "ecceadaa",
   "metadata": {},
   "outputs": [],
   "source": [
    "nv1['Novel_in_Database'] = (~df.groupby('index')['Novel_in_Database'].any()) \\\n",
    "                           .replace({True: 'Yes', False: 'No'})"
   ]
  },
  {
   "cell_type": "code",
   "execution_count": 36,
   "id": "8e3d7efd",
   "metadata": {},
   "outputs": [
    {
     "data": {
      "text/html": [
       "<div>\n",
       "<style scoped>\n",
       "    .dataframe tbody tr th:only-of-type {\n",
       "        vertical-align: middle;\n",
       "    }\n",
       "\n",
       "    .dataframe tbody tr th {\n",
       "        vertical-align: top;\n",
       "    }\n",
       "\n",
       "    .dataframe thead th {\n",
       "        text-align: right;\n",
       "    }\n",
       "</style>\n",
       "<table border=\"1\" class=\"dataframe\">\n",
       "  <thead>\n",
       "    <tr style=\"text-align: right;\">\n",
       "      <th></th>\n",
       "      <th>locusnum</th>\n",
       "      <th>CHR</th>\n",
       "      <th>LEAD_SNP</th>\n",
       "      <th>LEAD_BP</th>\n",
       "      <th>MinBP</th>\n",
       "      <th>MaxBP</th>\n",
       "      <th>FDR</th>\n",
       "      <th>A1</th>\n",
       "      <th>A2</th>\n",
       "      <th>nearestGene</th>\n",
       "      <th>...</th>\n",
       "      <th>PVAL_in_DEP</th>\n",
       "      <th>Z_in_DEP</th>\n",
       "      <th>BETA_in_DEP</th>\n",
       "      <th>SE_in_DEP</th>\n",
       "      <th>PVAL_in_BMI</th>\n",
       "      <th>Z_in_BMI</th>\n",
       "      <th>BETA_in_BMI</th>\n",
       "      <th>SE_in_BMI</th>\n",
       "      <th>Novel_in_GWAS_Catalog</th>\n",
       "      <th>Novel_in_Database</th>\n",
       "    </tr>\n",
       "  </thead>\n",
       "  <tbody>\n",
       "    <tr>\n",
       "      <th>0</th>\n",
       "      <td>1</td>\n",
       "      <td>1</td>\n",
       "      <td>rs10864360</td>\n",
       "      <td>8724522</td>\n",
       "      <td>8457648</td>\n",
       "      <td>8895448</td>\n",
       "      <td>2.327713e-03</td>\n",
       "      <td>T</td>\n",
       "      <td>C</td>\n",
       "      <td>RERE</td>\n",
       "      <td>...</td>\n",
       "      <td>1.935000e-06</td>\n",
       "      <td>-4.760097</td>\n",
       "      <td>-0.0243</td>\n",
       "      <td>0.0051</td>\n",
       "      <td>4.264000e-05</td>\n",
       "      <td>-4.092689</td>\n",
       "      <td>-0.0128</td>\n",
       "      <td>0.0031</td>\n",
       "      <td>Yes</td>\n",
       "      <td>No</td>\n",
       "    </tr>\n",
       "    <tr>\n",
       "      <th>1</th>\n",
       "      <td>2</td>\n",
       "      <td>1</td>\n",
       "      <td>rs1474910</td>\n",
       "      <td>50192150</td>\n",
       "      <td>49463925</td>\n",
       "      <td>50591851</td>\n",
       "      <td>6.935200e-03</td>\n",
       "      <td>T</td>\n",
       "      <td>C</td>\n",
       "      <td>AGBL4</td>\n",
       "      <td>...</td>\n",
       "      <td>9.380000e-06</td>\n",
       "      <td>-4.430993</td>\n",
       "      <td>-0.0266</td>\n",
       "      <td>0.0060</td>\n",
       "      <td>1.192000e-04</td>\n",
       "      <td>3.847766</td>\n",
       "      <td>0.0177</td>\n",
       "      <td>0.0046</td>\n",
       "      <td>Yes</td>\n",
       "      <td>No</td>\n",
       "    </tr>\n",
       "    <tr>\n",
       "      <th>2</th>\n",
       "      <td>3</td>\n",
       "      <td>1</td>\n",
       "      <td>rs3101336</td>\n",
       "      <td>72751185</td>\n",
       "      <td>72512988</td>\n",
       "      <td>72959039</td>\n",
       "      <td>3.589741e-08</td>\n",
       "      <td>C</td>\n",
       "      <td>T</td>\n",
       "      <td>NEGR1</td>\n",
       "      <td>...</td>\n",
       "      <td>4.274000e-14</td>\n",
       "      <td>-7.552372</td>\n",
       "      <td>-0.0391</td>\n",
       "      <td>0.0052</td>\n",
       "      <td>2.661000e-26</td>\n",
       "      <td>-10.610577</td>\n",
       "      <td>-0.0334</td>\n",
       "      <td>0.0031</td>\n",
       "      <td>Yes</td>\n",
       "      <td>No</td>\n",
       "    </tr>\n",
       "    <tr>\n",
       "      <th>3</th>\n",
       "      <td>4</td>\n",
       "      <td>1</td>\n",
       "      <td>rs6680839</td>\n",
       "      <td>175902596</td>\n",
       "      <td>175902596</td>\n",
       "      <td>176416712</td>\n",
       "      <td>4.122523e-03</td>\n",
       "      <td>T</td>\n",
       "      <td>C</td>\n",
       "      <td>RP11-318C24.1</td>\n",
       "      <td>...</td>\n",
       "      <td>9.685000e-07</td>\n",
       "      <td>-4.897933</td>\n",
       "      <td>-0.0250</td>\n",
       "      <td>0.0051</td>\n",
       "      <td>2.095000e-04</td>\n",
       "      <td>3.707277</td>\n",
       "      <td>0.0152</td>\n",
       "      <td>0.0041</td>\n",
       "      <td>Yes</td>\n",
       "      <td>No</td>\n",
       "    </tr>\n",
       "    <tr>\n",
       "      <th>4</th>\n",
       "      <td>5</td>\n",
       "      <td>1</td>\n",
       "      <td>rs10489219</td>\n",
       "      <td>177326069</td>\n",
       "      <td>177309490</td>\n",
       "      <td>177428790</td>\n",
       "      <td>1.877427e-02</td>\n",
       "      <td>G</td>\n",
       "      <td>A</td>\n",
       "      <td>RP1-35C21.1</td>\n",
       "      <td>...</td>\n",
       "      <td>2.998000e-05</td>\n",
       "      <td>4.173618</td>\n",
       "      <td>0.0353</td>\n",
       "      <td>0.0085</td>\n",
       "      <td>1.126000e-03</td>\n",
       "      <td>3.256991</td>\n",
       "      <td>0.0180</td>\n",
       "      <td>0.0055</td>\n",
       "      <td>Yes</td>\n",
       "      <td>No</td>\n",
       "    </tr>\n",
       "  </tbody>\n",
       "</table>\n",
       "<p>5 rows × 26 columns</p>\n",
       "</div>"
      ],
      "text/plain": [
       "   locusnum  CHR    LEAD_SNP    LEAD_BP      MinBP      MaxBP           FDR  \\\n",
       "0         1    1  rs10864360    8724522    8457648    8895448  2.327713e-03   \n",
       "1         2    1   rs1474910   50192150   49463925   50591851  6.935200e-03   \n",
       "2         3    1   rs3101336   72751185   72512988   72959039  3.589741e-08   \n",
       "3         4    1   rs6680839  175902596  175902596  176416712  4.122523e-03   \n",
       "4         5    1  rs10489219  177326069  177309490  177428790  1.877427e-02   \n",
       "\n",
       "  A1 A2    nearestGene  ...   PVAL_in_DEP  Z_in_DEP  BETA_in_DEP SE_in_DEP  \\\n",
       "0  T  C           RERE  ...  1.935000e-06 -4.760097      -0.0243    0.0051   \n",
       "1  T  C          AGBL4  ...  9.380000e-06 -4.430993      -0.0266    0.0060   \n",
       "2  C  T          NEGR1  ...  4.274000e-14 -7.552372      -0.0391    0.0052   \n",
       "3  T  C  RP11-318C24.1  ...  9.685000e-07 -4.897933      -0.0250    0.0051   \n",
       "4  G  A    RP1-35C21.1  ...  2.998000e-05  4.173618       0.0353    0.0085   \n",
       "\n",
       "    PVAL_in_BMI   Z_in_BMI  BETA_in_BMI  SE_in_BMI  Novel_in_GWAS_Catalog  \\\n",
       "0  4.264000e-05  -4.092689      -0.0128     0.0031                    Yes   \n",
       "1  1.192000e-04   3.847766       0.0177     0.0046                    Yes   \n",
       "2  2.661000e-26 -10.610577      -0.0334     0.0031                    Yes   \n",
       "3  2.095000e-04   3.707277       0.0152     0.0041                    Yes   \n",
       "4  1.126000e-03   3.256991       0.0180     0.0055                    Yes   \n",
       "\n",
       "   Novel_in_Database  \n",
       "0                 No  \n",
       "1                 No  \n",
       "2                 No  \n",
       "3                 No  \n",
       "4                 No  \n",
       "\n",
       "[5 rows x 26 columns]"
      ]
     },
     "execution_count": 36,
     "metadata": {},
     "output_type": "execute_result"
    }
   ],
   "source": [
    "nv1.head()"
   ]
  },
  {
   "cell_type": "code",
   "execution_count": 37,
   "id": "07125d93",
   "metadata": {},
   "outputs": [
    {
     "data": {
      "text/plain": [
       "No     40\n",
       "Yes     3\n",
       "Name: Novel_in_Database, dtype: int64"
      ]
     },
     "execution_count": 37,
     "metadata": {},
     "output_type": "execute_result"
    }
   ],
   "source": [
    "nv1.Novel_in_Database.value_counts()"
   ]
  },
  {
   "cell_type": "code",
   "execution_count": 72,
   "id": "edcc85de",
   "metadata": {},
   "outputs": [],
   "source": [
    "a = nv1['MinBP'].to_numpy()\n",
    "b = nv1['MaxBP'].to_numpy()\n",
    "c1= nv1.CHR.to_numpy()\n",
    "c2= db1.chromosome.to_numpy()[:, None]\n",
    "\n",
    "# Raise the columns in db1 by a dimension to enable numpy's broadcasting\n",
    "c = db1['min_bp'].to_numpy()[:, None]\n",
    "d = db1['max_bp'].to_numpy()[:, None]\n",
    "\n",
    "result = ((c1 == c2) & (a >= c-250000) & (a <= d+250000)) | ((c1 == c2) & (b >= c-250000) & (b <= d+250000))\n",
    "nv1['Novel_in_Database'] = ~result.any(axis=0)"
   ]
  },
  {
   "cell_type": "code",
   "execution_count": 73,
   "id": "78e8276f",
   "metadata": {},
   "outputs": [
    {
     "data": {
      "text/plain": [
       "False    35\n",
       "True      8\n",
       "Name: Novel_in_Database, dtype: int64"
      ]
     },
     "execution_count": 73,
     "metadata": {},
     "output_type": "execute_result"
    }
   ],
   "source": [
    "nv1.Novel_in_Database.value_counts()"
   ]
  },
  {
   "cell_type": "code",
   "execution_count": 49,
   "id": "cb4ac62e",
   "metadata": {},
   "outputs": [
    {
     "data": {
      "text/html": [
       "<div>\n",
       "<style scoped>\n",
       "    .dataframe tbody tr th:only-of-type {\n",
       "        vertical-align: middle;\n",
       "    }\n",
       "\n",
       "    .dataframe tbody tr th {\n",
       "        vertical-align: top;\n",
       "    }\n",
       "\n",
       "    .dataframe thead th {\n",
       "        text-align: right;\n",
       "    }\n",
       "</style>\n",
       "<table border=\"1\" class=\"dataframe\">\n",
       "  <thead>\n",
       "    <tr style=\"text-align: right;\">\n",
       "      <th></th>\n",
       "      <th>locusnum</th>\n",
       "      <th>CHR</th>\n",
       "      <th>LEAD_SNP</th>\n",
       "      <th>LEAD_BP</th>\n",
       "      <th>MinBP</th>\n",
       "      <th>MaxBP</th>\n",
       "      <th>FDR</th>\n",
       "      <th>A1</th>\n",
       "      <th>A2</th>\n",
       "      <th>nearestGene</th>\n",
       "      <th>...</th>\n",
       "      <th>PVAL_in_DEP</th>\n",
       "      <th>Z_in_DEP</th>\n",
       "      <th>BETA_in_DEP</th>\n",
       "      <th>SE_in_DEP</th>\n",
       "      <th>PVAL_in_BMI</th>\n",
       "      <th>Z_in_BMI</th>\n",
       "      <th>BETA_in_BMI</th>\n",
       "      <th>SE_in_BMI</th>\n",
       "      <th>Novel_in_GWAS_Catalog</th>\n",
       "      <th>Novel_in_Database</th>\n",
       "    </tr>\n",
       "  </thead>\n",
       "  <tbody>\n",
       "    <tr>\n",
       "      <th>0</th>\n",
       "      <td>1</td>\n",
       "      <td>1</td>\n",
       "      <td>rs10864360</td>\n",
       "      <td>8724522</td>\n",
       "      <td>8457648</td>\n",
       "      <td>8895448</td>\n",
       "      <td>2.327713e-03</td>\n",
       "      <td>T</td>\n",
       "      <td>C</td>\n",
       "      <td>RERE</td>\n",
       "      <td>...</td>\n",
       "      <td>1.935000e-06</td>\n",
       "      <td>-4.760097</td>\n",
       "      <td>-0.0243</td>\n",
       "      <td>0.0051</td>\n",
       "      <td>4.264000e-05</td>\n",
       "      <td>-4.092689</td>\n",
       "      <td>-0.0128</td>\n",
       "      <td>0.0031</td>\n",
       "      <td>Yes</td>\n",
       "      <td>False</td>\n",
       "    </tr>\n",
       "    <tr>\n",
       "      <th>1</th>\n",
       "      <td>2</td>\n",
       "      <td>1</td>\n",
       "      <td>rs1474910</td>\n",
       "      <td>50192150</td>\n",
       "      <td>49463925</td>\n",
       "      <td>50591851</td>\n",
       "      <td>6.935200e-03</td>\n",
       "      <td>T</td>\n",
       "      <td>C</td>\n",
       "      <td>AGBL4</td>\n",
       "      <td>...</td>\n",
       "      <td>9.380000e-06</td>\n",
       "      <td>-4.430993</td>\n",
       "      <td>-0.0266</td>\n",
       "      <td>0.0060</td>\n",
       "      <td>1.192000e-04</td>\n",
       "      <td>3.847766</td>\n",
       "      <td>0.0177</td>\n",
       "      <td>0.0046</td>\n",
       "      <td>Yes</td>\n",
       "      <td>False</td>\n",
       "    </tr>\n",
       "    <tr>\n",
       "      <th>2</th>\n",
       "      <td>3</td>\n",
       "      <td>1</td>\n",
       "      <td>rs3101336</td>\n",
       "      <td>72751185</td>\n",
       "      <td>72512988</td>\n",
       "      <td>72959039</td>\n",
       "      <td>3.589741e-08</td>\n",
       "      <td>C</td>\n",
       "      <td>T</td>\n",
       "      <td>NEGR1</td>\n",
       "      <td>...</td>\n",
       "      <td>4.274000e-14</td>\n",
       "      <td>-7.552372</td>\n",
       "      <td>-0.0391</td>\n",
       "      <td>0.0052</td>\n",
       "      <td>2.661000e-26</td>\n",
       "      <td>-10.610577</td>\n",
       "      <td>-0.0334</td>\n",
       "      <td>0.0031</td>\n",
       "      <td>Yes</td>\n",
       "      <td>False</td>\n",
       "    </tr>\n",
       "    <tr>\n",
       "      <th>3</th>\n",
       "      <td>4</td>\n",
       "      <td>1</td>\n",
       "      <td>rs6680839</td>\n",
       "      <td>175902596</td>\n",
       "      <td>175902596</td>\n",
       "      <td>176416712</td>\n",
       "      <td>4.122523e-03</td>\n",
       "      <td>T</td>\n",
       "      <td>C</td>\n",
       "      <td>RP11-318C24.1</td>\n",
       "      <td>...</td>\n",
       "      <td>9.685000e-07</td>\n",
       "      <td>-4.897933</td>\n",
       "      <td>-0.0250</td>\n",
       "      <td>0.0051</td>\n",
       "      <td>2.095000e-04</td>\n",
       "      <td>3.707277</td>\n",
       "      <td>0.0152</td>\n",
       "      <td>0.0041</td>\n",
       "      <td>Yes</td>\n",
       "      <td>False</td>\n",
       "    </tr>\n",
       "    <tr>\n",
       "      <th>4</th>\n",
       "      <td>5</td>\n",
       "      <td>1</td>\n",
       "      <td>rs10489219</td>\n",
       "      <td>177326069</td>\n",
       "      <td>177309490</td>\n",
       "      <td>177428790</td>\n",
       "      <td>1.877427e-02</td>\n",
       "      <td>G</td>\n",
       "      <td>A</td>\n",
       "      <td>RP1-35C21.1</td>\n",
       "      <td>...</td>\n",
       "      <td>2.998000e-05</td>\n",
       "      <td>4.173618</td>\n",
       "      <td>0.0353</td>\n",
       "      <td>0.0085</td>\n",
       "      <td>1.126000e-03</td>\n",
       "      <td>3.256991</td>\n",
       "      <td>0.0180</td>\n",
       "      <td>0.0055</td>\n",
       "      <td>Yes</td>\n",
       "      <td>False</td>\n",
       "    </tr>\n",
       "  </tbody>\n",
       "</table>\n",
       "<p>5 rows × 26 columns</p>\n",
       "</div>"
      ],
      "text/plain": [
       "   locusnum  CHR    LEAD_SNP    LEAD_BP      MinBP      MaxBP           FDR  \\\n",
       "0         1    1  rs10864360    8724522    8457648    8895448  2.327713e-03   \n",
       "1         2    1   rs1474910   50192150   49463925   50591851  6.935200e-03   \n",
       "2         3    1   rs3101336   72751185   72512988   72959039  3.589741e-08   \n",
       "3         4    1   rs6680839  175902596  175902596  176416712  4.122523e-03   \n",
       "4         5    1  rs10489219  177326069  177309490  177428790  1.877427e-02   \n",
       "\n",
       "  A1 A2    nearestGene  ...   PVAL_in_DEP  Z_in_DEP  BETA_in_DEP SE_in_DEP  \\\n",
       "0  T  C           RERE  ...  1.935000e-06 -4.760097      -0.0243    0.0051   \n",
       "1  T  C          AGBL4  ...  9.380000e-06 -4.430993      -0.0266    0.0060   \n",
       "2  C  T          NEGR1  ...  4.274000e-14 -7.552372      -0.0391    0.0052   \n",
       "3  T  C  RP11-318C24.1  ...  9.685000e-07 -4.897933      -0.0250    0.0051   \n",
       "4  G  A    RP1-35C21.1  ...  2.998000e-05  4.173618       0.0353    0.0085   \n",
       "\n",
       "    PVAL_in_BMI   Z_in_BMI  BETA_in_BMI  SE_in_BMI  Novel_in_GWAS_Catalog  \\\n",
       "0  4.264000e-05  -4.092689      -0.0128     0.0031                    Yes   \n",
       "1  1.192000e-04   3.847766       0.0177     0.0046                    Yes   \n",
       "2  2.661000e-26 -10.610577      -0.0334     0.0031                    Yes   \n",
       "3  2.095000e-04   3.707277       0.0152     0.0041                    Yes   \n",
       "4  1.126000e-03   3.256991       0.0180     0.0055                    Yes   \n",
       "\n",
       "   Novel_in_Database  \n",
       "0              False  \n",
       "1              False  \n",
       "2              False  \n",
       "3              False  \n",
       "4              False  \n",
       "\n",
       "[5 rows x 26 columns]"
      ]
     },
     "execution_count": 49,
     "metadata": {},
     "output_type": "execute_result"
    }
   ],
   "source": [
    "nv1.head()"
   ]
  },
  {
   "cell_type": "code",
   "execution_count": 50,
   "id": "fac17901",
   "metadata": {},
   "outputs": [],
   "source": [
    "trait1='DEP'"
   ]
  },
  {
   "cell_type": "code",
   "execution_count": 76,
   "id": "42afc007",
   "metadata": {},
   "outputs": [],
   "source": [
    "nv1[f'Novel_in_{trait1}']=np.where(((nv1.Novel_in_GWAS_Catalog =='Yes') & (nv1.Novel_in_Database ==1)), 'Yes', 'No')"
   ]
  },
  {
   "cell_type": "code",
   "execution_count": 52,
   "id": "c64cdf8c",
   "metadata": {},
   "outputs": [
    {
     "data": {
      "text/html": [
       "<div>\n",
       "<style scoped>\n",
       "    .dataframe tbody tr th:only-of-type {\n",
       "        vertical-align: middle;\n",
       "    }\n",
       "\n",
       "    .dataframe tbody tr th {\n",
       "        vertical-align: top;\n",
       "    }\n",
       "\n",
       "    .dataframe thead th {\n",
       "        text-align: right;\n",
       "    }\n",
       "</style>\n",
       "<table border=\"1\" class=\"dataframe\">\n",
       "  <thead>\n",
       "    <tr style=\"text-align: right;\">\n",
       "      <th></th>\n",
       "      <th>locusnum</th>\n",
       "      <th>CHR</th>\n",
       "      <th>LEAD_SNP</th>\n",
       "      <th>LEAD_BP</th>\n",
       "      <th>MinBP</th>\n",
       "      <th>MaxBP</th>\n",
       "      <th>FDR</th>\n",
       "      <th>A1</th>\n",
       "      <th>A2</th>\n",
       "      <th>nearestGene</th>\n",
       "      <th>...</th>\n",
       "      <th>Z_in_DEP</th>\n",
       "      <th>BETA_in_DEP</th>\n",
       "      <th>SE_in_DEP</th>\n",
       "      <th>PVAL_in_BMI</th>\n",
       "      <th>Z_in_BMI</th>\n",
       "      <th>BETA_in_BMI</th>\n",
       "      <th>SE_in_BMI</th>\n",
       "      <th>Novel_in_GWAS_Catalog</th>\n",
       "      <th>Novel_in_Database</th>\n",
       "      <th>Novel_in_DEP</th>\n",
       "    </tr>\n",
       "  </thead>\n",
       "  <tbody>\n",
       "    <tr>\n",
       "      <th>0</th>\n",
       "      <td>1</td>\n",
       "      <td>1</td>\n",
       "      <td>rs10864360</td>\n",
       "      <td>8724522</td>\n",
       "      <td>8457648</td>\n",
       "      <td>8895448</td>\n",
       "      <td>2.327713e-03</td>\n",
       "      <td>T</td>\n",
       "      <td>C</td>\n",
       "      <td>RERE</td>\n",
       "      <td>...</td>\n",
       "      <td>-4.760097</td>\n",
       "      <td>-0.0243</td>\n",
       "      <td>0.0051</td>\n",
       "      <td>4.264000e-05</td>\n",
       "      <td>-4.092689</td>\n",
       "      <td>-0.0128</td>\n",
       "      <td>0.0031</td>\n",
       "      <td>Yes</td>\n",
       "      <td>False</td>\n",
       "      <td>No</td>\n",
       "    </tr>\n",
       "    <tr>\n",
       "      <th>1</th>\n",
       "      <td>2</td>\n",
       "      <td>1</td>\n",
       "      <td>rs1474910</td>\n",
       "      <td>50192150</td>\n",
       "      <td>49463925</td>\n",
       "      <td>50591851</td>\n",
       "      <td>6.935200e-03</td>\n",
       "      <td>T</td>\n",
       "      <td>C</td>\n",
       "      <td>AGBL4</td>\n",
       "      <td>...</td>\n",
       "      <td>-4.430993</td>\n",
       "      <td>-0.0266</td>\n",
       "      <td>0.0060</td>\n",
       "      <td>1.192000e-04</td>\n",
       "      <td>3.847766</td>\n",
       "      <td>0.0177</td>\n",
       "      <td>0.0046</td>\n",
       "      <td>Yes</td>\n",
       "      <td>False</td>\n",
       "      <td>No</td>\n",
       "    </tr>\n",
       "    <tr>\n",
       "      <th>2</th>\n",
       "      <td>3</td>\n",
       "      <td>1</td>\n",
       "      <td>rs3101336</td>\n",
       "      <td>72751185</td>\n",
       "      <td>72512988</td>\n",
       "      <td>72959039</td>\n",
       "      <td>3.589741e-08</td>\n",
       "      <td>C</td>\n",
       "      <td>T</td>\n",
       "      <td>NEGR1</td>\n",
       "      <td>...</td>\n",
       "      <td>-7.552372</td>\n",
       "      <td>-0.0391</td>\n",
       "      <td>0.0052</td>\n",
       "      <td>2.661000e-26</td>\n",
       "      <td>-10.610577</td>\n",
       "      <td>-0.0334</td>\n",
       "      <td>0.0031</td>\n",
       "      <td>Yes</td>\n",
       "      <td>False</td>\n",
       "      <td>No</td>\n",
       "    </tr>\n",
       "    <tr>\n",
       "      <th>3</th>\n",
       "      <td>4</td>\n",
       "      <td>1</td>\n",
       "      <td>rs6680839</td>\n",
       "      <td>175902596</td>\n",
       "      <td>175902596</td>\n",
       "      <td>176416712</td>\n",
       "      <td>4.122523e-03</td>\n",
       "      <td>T</td>\n",
       "      <td>C</td>\n",
       "      <td>RP11-318C24.1</td>\n",
       "      <td>...</td>\n",
       "      <td>-4.897933</td>\n",
       "      <td>-0.0250</td>\n",
       "      <td>0.0051</td>\n",
       "      <td>2.095000e-04</td>\n",
       "      <td>3.707277</td>\n",
       "      <td>0.0152</td>\n",
       "      <td>0.0041</td>\n",
       "      <td>Yes</td>\n",
       "      <td>False</td>\n",
       "      <td>No</td>\n",
       "    </tr>\n",
       "    <tr>\n",
       "      <th>4</th>\n",
       "      <td>5</td>\n",
       "      <td>1</td>\n",
       "      <td>rs10489219</td>\n",
       "      <td>177326069</td>\n",
       "      <td>177309490</td>\n",
       "      <td>177428790</td>\n",
       "      <td>1.877427e-02</td>\n",
       "      <td>G</td>\n",
       "      <td>A</td>\n",
       "      <td>RP1-35C21.1</td>\n",
       "      <td>...</td>\n",
       "      <td>4.173618</td>\n",
       "      <td>0.0353</td>\n",
       "      <td>0.0085</td>\n",
       "      <td>1.126000e-03</td>\n",
       "      <td>3.256991</td>\n",
       "      <td>0.0180</td>\n",
       "      <td>0.0055</td>\n",
       "      <td>Yes</td>\n",
       "      <td>False</td>\n",
       "      <td>No</td>\n",
       "    </tr>\n",
       "  </tbody>\n",
       "</table>\n",
       "<p>5 rows × 27 columns</p>\n",
       "</div>"
      ],
      "text/plain": [
       "   locusnum  CHR    LEAD_SNP    LEAD_BP      MinBP      MaxBP           FDR  \\\n",
       "0         1    1  rs10864360    8724522    8457648    8895448  2.327713e-03   \n",
       "1         2    1   rs1474910   50192150   49463925   50591851  6.935200e-03   \n",
       "2         3    1   rs3101336   72751185   72512988   72959039  3.589741e-08   \n",
       "3         4    1   rs6680839  175902596  175902596  176416712  4.122523e-03   \n",
       "4         5    1  rs10489219  177326069  177309490  177428790  1.877427e-02   \n",
       "\n",
       "  A1 A2    nearestGene  ...  Z_in_DEP BETA_in_DEP  SE_in_DEP   PVAL_in_BMI  \\\n",
       "0  T  C           RERE  ... -4.760097     -0.0243     0.0051  4.264000e-05   \n",
       "1  T  C          AGBL4  ... -4.430993     -0.0266     0.0060  1.192000e-04   \n",
       "2  C  T          NEGR1  ... -7.552372     -0.0391     0.0052  2.661000e-26   \n",
       "3  T  C  RP11-318C24.1  ... -4.897933     -0.0250     0.0051  2.095000e-04   \n",
       "4  G  A    RP1-35C21.1  ...  4.173618      0.0353     0.0085  1.126000e-03   \n",
       "\n",
       "    Z_in_BMI  BETA_in_BMI  SE_in_BMI  Novel_in_GWAS_Catalog  \\\n",
       "0  -4.092689      -0.0128     0.0031                    Yes   \n",
       "1   3.847766       0.0177     0.0046                    Yes   \n",
       "2 -10.610577      -0.0334     0.0031                    Yes   \n",
       "3   3.707277       0.0152     0.0041                    Yes   \n",
       "4   3.256991       0.0180     0.0055                    Yes   \n",
       "\n",
       "   Novel_in_Database  Novel_in_DEP  \n",
       "0              False            No  \n",
       "1              False            No  \n",
       "2              False            No  \n",
       "3              False            No  \n",
       "4              False            No  \n",
       "\n",
       "[5 rows x 27 columns]"
      ]
     },
     "execution_count": 52,
     "metadata": {},
     "output_type": "execute_result"
    }
   ],
   "source": [
    "nv1.head()"
   ]
  },
  {
   "cell_type": "code",
   "execution_count": null,
   "id": "076f0c7d",
   "metadata": {},
   "outputs": [],
   "source": [
    "trait2='BMI'"
   ]
  },
  {
   "cell_type": "code",
   "execution_count": 77,
   "id": "c9462b4b",
   "metadata": {},
   "outputs": [],
   "source": [
    "nv1.to_excel(f'conjFDR_0.05_{trait}_vs_{trait2}_novelty.xlsx',index=False)"
   ]
  },
  {
   "cell_type": "code",
   "execution_count": 54,
   "id": "56b41355",
   "metadata": {},
   "outputs": [
    {
     "data": {
      "text/plain": [
       "False    35\n",
       "True      8\n",
       "Name: Novel_in_Database, dtype: int64"
      ]
     },
     "execution_count": 54,
     "metadata": {},
     "output_type": "execute_result"
    }
   ],
   "source": [
    "nv1.Novel_in_Database.value_counts()"
   ]
  },
  {
   "cell_type": "code",
   "execution_count": 55,
   "id": "dd437b9c",
   "metadata": {},
   "outputs": [],
   "source": [
    "nv1.drop(['Novel_in_GWAS_Catalog','Novel_in_Database'], axis=1, inplace=True)"
   ]
  },
  {
   "cell_type": "code",
   "execution_count": 56,
   "id": "2d358e0d",
   "metadata": {},
   "outputs": [
    {
     "data": {
      "text/html": [
       "<div>\n",
       "<style scoped>\n",
       "    .dataframe tbody tr th:only-of-type {\n",
       "        vertical-align: middle;\n",
       "    }\n",
       "\n",
       "    .dataframe tbody tr th {\n",
       "        vertical-align: top;\n",
       "    }\n",
       "\n",
       "    .dataframe thead th {\n",
       "        text-align: right;\n",
       "    }\n",
       "</style>\n",
       "<table border=\"1\" class=\"dataframe\">\n",
       "  <thead>\n",
       "    <tr style=\"text-align: right;\">\n",
       "      <th></th>\n",
       "      <th>locusnum</th>\n",
       "      <th>CHR</th>\n",
       "      <th>LEAD_SNP</th>\n",
       "      <th>LEAD_BP</th>\n",
       "      <th>MinBP</th>\n",
       "      <th>MaxBP</th>\n",
       "      <th>FDR</th>\n",
       "      <th>A1</th>\n",
       "      <th>A2</th>\n",
       "      <th>nearestGene</th>\n",
       "      <th>...</th>\n",
       "      <th>commonChrState</th>\n",
       "      <th>PVAL_in_DEP</th>\n",
       "      <th>Z_in_DEP</th>\n",
       "      <th>BETA_in_DEP</th>\n",
       "      <th>SE_in_DEP</th>\n",
       "      <th>PVAL_in_BMI</th>\n",
       "      <th>Z_in_BMI</th>\n",
       "      <th>BETA_in_BMI</th>\n",
       "      <th>SE_in_BMI</th>\n",
       "      <th>Novel_in_DEP</th>\n",
       "    </tr>\n",
       "  </thead>\n",
       "  <tbody>\n",
       "    <tr>\n",
       "      <th>0</th>\n",
       "      <td>1</td>\n",
       "      <td>1</td>\n",
       "      <td>rs10864360</td>\n",
       "      <td>8724522</td>\n",
       "      <td>8457648</td>\n",
       "      <td>8895448</td>\n",
       "      <td>2.327713e-03</td>\n",
       "      <td>T</td>\n",
       "      <td>C</td>\n",
       "      <td>RERE</td>\n",
       "      <td>...</td>\n",
       "      <td>7</td>\n",
       "      <td>1.935000e-06</td>\n",
       "      <td>-4.760097</td>\n",
       "      <td>-0.0243</td>\n",
       "      <td>0.0051</td>\n",
       "      <td>4.264000e-05</td>\n",
       "      <td>-4.092689</td>\n",
       "      <td>-0.0128</td>\n",
       "      <td>0.0031</td>\n",
       "      <td>No</td>\n",
       "    </tr>\n",
       "    <tr>\n",
       "      <th>1</th>\n",
       "      <td>2</td>\n",
       "      <td>1</td>\n",
       "      <td>rs1474910</td>\n",
       "      <td>50192150</td>\n",
       "      <td>49463925</td>\n",
       "      <td>50591851</td>\n",
       "      <td>6.935200e-03</td>\n",
       "      <td>T</td>\n",
       "      <td>C</td>\n",
       "      <td>AGBL4</td>\n",
       "      <td>...</td>\n",
       "      <td>15</td>\n",
       "      <td>9.380000e-06</td>\n",
       "      <td>-4.430993</td>\n",
       "      <td>-0.0266</td>\n",
       "      <td>0.0060</td>\n",
       "      <td>1.192000e-04</td>\n",
       "      <td>3.847766</td>\n",
       "      <td>0.0177</td>\n",
       "      <td>0.0046</td>\n",
       "      <td>No</td>\n",
       "    </tr>\n",
       "    <tr>\n",
       "      <th>2</th>\n",
       "      <td>3</td>\n",
       "      <td>1</td>\n",
       "      <td>rs3101336</td>\n",
       "      <td>72751185</td>\n",
       "      <td>72512988</td>\n",
       "      <td>72959039</td>\n",
       "      <td>3.589741e-08</td>\n",
       "      <td>C</td>\n",
       "      <td>T</td>\n",
       "      <td>NEGR1</td>\n",
       "      <td>...</td>\n",
       "      <td>15</td>\n",
       "      <td>4.274000e-14</td>\n",
       "      <td>-7.552372</td>\n",
       "      <td>-0.0391</td>\n",
       "      <td>0.0052</td>\n",
       "      <td>2.661000e-26</td>\n",
       "      <td>-10.610577</td>\n",
       "      <td>-0.0334</td>\n",
       "      <td>0.0031</td>\n",
       "      <td>No</td>\n",
       "    </tr>\n",
       "    <tr>\n",
       "      <th>3</th>\n",
       "      <td>4</td>\n",
       "      <td>1</td>\n",
       "      <td>rs6680839</td>\n",
       "      <td>175902596</td>\n",
       "      <td>175902596</td>\n",
       "      <td>176416712</td>\n",
       "      <td>4.122523e-03</td>\n",
       "      <td>T</td>\n",
       "      <td>C</td>\n",
       "      <td>RP11-318C24.1</td>\n",
       "      <td>...</td>\n",
       "      <td>15</td>\n",
       "      <td>9.685000e-07</td>\n",
       "      <td>-4.897933</td>\n",
       "      <td>-0.0250</td>\n",
       "      <td>0.0051</td>\n",
       "      <td>2.095000e-04</td>\n",
       "      <td>3.707277</td>\n",
       "      <td>0.0152</td>\n",
       "      <td>0.0041</td>\n",
       "      <td>No</td>\n",
       "    </tr>\n",
       "    <tr>\n",
       "      <th>4</th>\n",
       "      <td>5</td>\n",
       "      <td>1</td>\n",
       "      <td>rs10489219</td>\n",
       "      <td>177326069</td>\n",
       "      <td>177309490</td>\n",
       "      <td>177428790</td>\n",
       "      <td>1.877427e-02</td>\n",
       "      <td>G</td>\n",
       "      <td>A</td>\n",
       "      <td>RP1-35C21.1</td>\n",
       "      <td>...</td>\n",
       "      <td>15</td>\n",
       "      <td>2.998000e-05</td>\n",
       "      <td>4.173618</td>\n",
       "      <td>0.0353</td>\n",
       "      <td>0.0085</td>\n",
       "      <td>1.126000e-03</td>\n",
       "      <td>3.256991</td>\n",
       "      <td>0.0180</td>\n",
       "      <td>0.0055</td>\n",
       "      <td>No</td>\n",
       "    </tr>\n",
       "  </tbody>\n",
       "</table>\n",
       "<p>5 rows × 25 columns</p>\n",
       "</div>"
      ],
      "text/plain": [
       "   locusnum  CHR    LEAD_SNP    LEAD_BP      MinBP      MaxBP           FDR  \\\n",
       "0         1    1  rs10864360    8724522    8457648    8895448  2.327713e-03   \n",
       "1         2    1   rs1474910   50192150   49463925   50591851  6.935200e-03   \n",
       "2         3    1   rs3101336   72751185   72512988   72959039  3.589741e-08   \n",
       "3         4    1   rs6680839  175902596  175902596  176416712  4.122523e-03   \n",
       "4         5    1  rs10489219  177326069  177309490  177428790  1.877427e-02   \n",
       "\n",
       "  A1 A2    nearestGene  ... commonChrState   PVAL_in_DEP  Z_in_DEP  \\\n",
       "0  T  C           RERE  ...              7  1.935000e-06 -4.760097   \n",
       "1  T  C          AGBL4  ...             15  9.380000e-06 -4.430993   \n",
       "2  C  T          NEGR1  ...             15  4.274000e-14 -7.552372   \n",
       "3  T  C  RP11-318C24.1  ...             15  9.685000e-07 -4.897933   \n",
       "4  G  A    RP1-35C21.1  ...             15  2.998000e-05  4.173618   \n",
       "\n",
       "  BETA_in_DEP  SE_in_DEP   PVAL_in_BMI   Z_in_BMI  BETA_in_BMI  SE_in_BMI  \\\n",
       "0     -0.0243     0.0051  4.264000e-05  -4.092689      -0.0128     0.0031   \n",
       "1     -0.0266     0.0060  1.192000e-04   3.847766       0.0177     0.0046   \n",
       "2     -0.0391     0.0052  2.661000e-26 -10.610577      -0.0334     0.0031   \n",
       "3     -0.0250     0.0051  2.095000e-04   3.707277       0.0152     0.0041   \n",
       "4      0.0353     0.0085  1.126000e-03   3.256991       0.0180     0.0055   \n",
       "\n",
       "   Novel_in_DEP  \n",
       "0            No  \n",
       "1            No  \n",
       "2            No  \n",
       "3            No  \n",
       "4            No  \n",
       "\n",
       "[5 rows x 25 columns]"
      ]
     },
     "execution_count": 56,
     "metadata": {},
     "output_type": "execute_result"
    }
   ],
   "source": [
    "nv1.head()"
   ]
  },
  {
   "cell_type": "code",
   "execution_count": 79,
   "id": "cd97ba02",
   "metadata": {},
   "outputs": [
    {
     "name": "stderr",
     "output_type": "stream",
     "text": [
      "/home/ubuntu/.local/lib/python3.8/site-packages/pandas/core/frame.py:4441: SettingWithCopyWarning: \n",
      "A value is trying to be set on a copy of a slice from a DataFrame\n",
      "\n",
      "See the caveats in the documentation: https://pandas.pydata.org/pandas-docs/stable/user_guide/indexing.html#returning-a-view-versus-a-copy\n",
      "  return super().rename(\n",
      "<ipython-input-79-d863b709aafe>:8: SettingWithCopyWarning: \n",
      "A value is trying to be set on a copy of a slice from a DataFrame.\n",
      "Try using .loc[row_indexer,col_indexer] = value instead\n",
      "\n",
      "See the caveats in the documentation: https://pandas.pydata.org/pandas-docs/stable/user_guide/indexing.html#returning-a-view-versus-a-copy\n",
      "  g2['posMap'] = np.where(g2[['posMapSNPs']]>0, \"Yes\", \"No\")\n"
     ]
    }
   ],
   "source": [
    "g1=pd.read_csv('../../../md_cvd_yunhan/fuma_output_fin1/FUMA_conj_bmi_snps_job139939/genes.txt',sep=\"\\t\")\n",
    "trait1='DEP'\n",
    "#trait2=filename.split('/')[-2].split('_')[2].upper()\n",
    "trait2='BMI'\n",
    "g2=g1.iloc[:,[0,1,2,3,4,5,6,7,8,11,12,13,14,15,16,17,18,19,20,21,22]]\n",
    "g2.rename(columns={'ensg':'Ensembl ID','symbol':'Gene','chr':'Chr','start':'Start bp','end':'End bp',\n",
    "                   'strand':'Strand','type':'Type','entrezID':'EntrezID'}, inplace=True)\n",
    "g2['posMap'] = np.where(g2[['posMapSNPs']]>0, \"Yes\", \"No\")\n",
    "g2['eqtlMap'] = np.where(g2[['eqtlMapSNPs']]>0, \"Yes\", \"No\")\n",
    "g2['Credible']=np.where(((g2.posMap =='Yes') & (g2.eqtlMap =='Yes') & (g2.ciMap=='Yes')), 'Yes', 'No')\n",
    "g3=g2.iloc[:,[0,1,2,3,4,5,6,7,8,21,9,10,22,11,12,13,14,16,17,19,20,23]]\n",
    "g3.to_excel(f'../../../md_cvd_yunhan/combined_tables/conjFDR_0.05_{trait1}_vs_{trait2}_GENEs.xlsx',index=False) "
   ]
  },
  {
   "cell_type": "code",
   "execution_count": 82,
   "id": "00eb16a9",
   "metadata": {},
   "outputs": [],
   "source": [
    "filename='../../../md_cvd_yunhan/fuma_output_fun1/FUMA_conj_bmi_lead_gene2func63257/GS.txt'\n",
    "go1=pd.read_csv(filename,sep=\"\\t\")\n",
    "trait1='DEP'\n",
    "trait2=filename.split('/')[-2].split('_')[2].upper()\n",
    "go2=go1.loc[go1.Category.isin(['GO_bp','GO_cc','GO_mf'])]\n",
    "go3=go2.iloc[:,[0,1,2,3,4,5,6]]\n",
    "go3.to_excel(f'../../../md_cvd_yunhan/combined_tables/conjFDR_0.05_{trait1}_vs_{trait2}_GO.xlsx',index=False)"
   ]
  },
  {
   "cell_type": "code",
   "execution_count": 89,
   "id": "ffbe8750",
   "metadata": {},
   "outputs": [],
   "source": [
    "filename='../../../md_cvd_yunhan/fuma_output_fun1/FUMA_conj_bmi_lead_gene2func63257/GS.txt'\n",
    "go1=pd.read_csv(filename,sep=\"\\t\")\n",
    "trait1='DEP'\n",
    "trait2=filename.split('/')[-2].split('_')[2].upper()\n",
    "path1=go1.loc[go1.Category.isin(['KEGG','Wikipathways','BioCarta'])]\n",
    "path2=path1.iloc[:,[0,1,2,3,4,5,6]]\n",
    "path2.to_excel(f'../../../md_cvd_yunhan/combined_tables/conjFDR_0.05_{trait1}_vs_{trait2}_PATHWAY.xlsx',index=False)"
   ]
  },
  {
   "cell_type": "code",
   "execution_count": 91,
   "id": "4493c2bb",
   "metadata": {},
   "outputs": [
    {
     "data": {
      "text/html": [
       "<div>\n",
       "<style scoped>\n",
       "    .dataframe tbody tr th:only-of-type {\n",
       "        vertical-align: middle;\n",
       "    }\n",
       "\n",
       "    .dataframe tbody tr th {\n",
       "        vertical-align: top;\n",
       "    }\n",
       "\n",
       "    .dataframe thead th {\n",
       "        text-align: right;\n",
       "    }\n",
       "</style>\n",
       "<table border=\"1\" class=\"dataframe\">\n",
       "  <thead>\n",
       "    <tr style=\"text-align: right;\">\n",
       "      <th></th>\n",
       "      <th>Category</th>\n",
       "      <th>GeneSet</th>\n",
       "      <th>N_genes</th>\n",
       "      <th>N_overlap</th>\n",
       "      <th>p</th>\n",
       "      <th>adjP</th>\n",
       "      <th>genes</th>\n",
       "      <th>link</th>\n",
       "    </tr>\n",
       "  </thead>\n",
       "  <tbody>\n",
       "  </tbody>\n",
       "</table>\n",
       "</div>"
      ],
      "text/plain": [
       "Empty DataFrame\n",
       "Columns: [Category, GeneSet, N_genes, N_overlap, p, adjP, genes, link]\n",
       "Index: []"
      ]
     },
     "execution_count": 91,
     "metadata": {},
     "output_type": "execute_result"
    }
   ],
   "source": [
    "path1.head()"
   ]
  },
  {
   "cell_type": "code",
   "execution_count": 86,
   "id": "1f5095ed",
   "metadata": {},
   "outputs": [],
   "source": [
    "cd1=pd.read_csv('../../../md_cvd_yunhan/combined_tables/condFDR_0.01_BMI_vs_DEP.csv')\n",
    "cd1.to_excel('../../../md_cvd_yunhan/combined_tables/condFDR_0.01_BMI_vs_DEP.xlsx',index=False)"
   ]
  },
  {
   "cell_type": "code",
   "execution_count": 87,
   "id": "a2707272",
   "metadata": {},
   "outputs": [],
   "source": [
    "cd1=pd.read_csv('../../../md_cvd_yunhan/combined_tables/condFDR_0.01_DEP_vs_BMI.csv')\n",
    "cd1.to_excel('../../../md_cvd_yunhan/combined_tables/condFDR_0.01_DEP_vs_BMI.xlsx',index=False)"
   ]
  },
  {
   "cell_type": "code",
   "execution_count": 88,
   "id": "c6a35eb7",
   "metadata": {},
   "outputs": [],
   "source": [
    "cd1=pd.read_csv('../../../md_cvd_yunhan/combined_tables/conjFDR_0.05_DEP_vs_BMI_snps.csv')\n",
    "cd1.to_excel('../../../md_cvd_yunhan/combined_tables/conjFDR_0.05_DEP_vs_BMI_SNPS.xlsx',index=False)"
   ]
  },
  {
   "cell_type": "code",
   "execution_count": 95,
   "id": "00c93e1c",
   "metadata": {},
   "outputs": [
    {
     "data": {
      "text/plain": [
       "'/home/ubuntu/body-brain/bmi/cond_fuma_combined'"
      ]
     },
     "execution_count": 95,
     "metadata": {},
     "output_type": "execute_result"
    }
   ],
   "source": [
    "os.getcwd()"
   ]
  },
  {
   "cell_type": "code",
   "execution_count": 106,
   "id": "7fc4a4c4",
   "metadata": {},
   "outputs": [],
   "source": [
    "w4 = ExcelWriter('/home/ubuntu/md_cvd_yunhan/combined_tables/condFDR_0.01_TRAIT1_vs_TRAIT2.xlsx')\n",
    "for filename in glob.glob('/home/ubuntu/md_cvd_yunhan/combined_tables/condFDR_0.01*csv'):\n",
    "    go1=pd.read_csv(filename)\n",
    "    trait1=filename.split('/')[-1].split('.')[1].split('_')[1].upper()\n",
    "    trait2=filename.split('/')[-1].split('.')[1].split('_')[3].upper()\n",
    "    go1.to_excel(w4, sheet_name=f'{trait1}_{trait2}',index=False)\n",
    "    w4.save() "
   ]
  },
  {
   "cell_type": "code",
   "execution_count": 124,
   "id": "1692497b",
   "metadata": {},
   "outputs": [
    {
     "data": {
      "text/plain": [
       "'BMI'"
      ]
     },
     "execution_count": 124,
     "metadata": {},
     "output_type": "execute_result"
    }
   ],
   "source": [
    "t1='/home/ubuntu/md_cvd_yunhan/fuma_output_fin1/FUMA_conj_bmi_snps_job139939/genes.txt'\n",
    "t1.split('/')[-2].split('_')[2].upper()"
   ]
  },
  {
   "cell_type": "code",
   "execution_count": 24,
   "id": "99ebf75c",
   "metadata": {},
   "outputs": [],
   "source": [
    "w5 = ExcelWriter('/home/ubuntu/md_cvd_yunhan/combined_tables/conjFDR_0.05_DEP_vs_TRAIT2_SNPs.xlsx')\n",
    "for filename in glob.glob('/home/ubuntu/md_cvd_yunhan/combined_tables/conjFDR_0.05_DEP_vs_*_snps.csv'):\n",
    "    go1=pd.read_csv(filename)\n",
    "    trait1=filename.split('/')[-1].split('.')[1].split('_')[1].upper()\n",
    "    trait2=filename.split('/')[-1].split('.')[1].split('_')[3].upper()\n",
    "    go1.to_excel(w5, sheet_name=f'{trait1}_{trait2}',index=False)\n",
    "    w5.save() \n",
    "\n",
    "w6 = ExcelWriter('/home/ubuntu/md_cvd_yunhan/combined_tables/conjFDR_0.05_DEP_vs_TRAIT2_LOCI.xlsx')\n",
    "for filename in glob.glob('/home/ubuntu/md_cvd_yunhan/combined_tables/conjFDR_0.05_DEP_vs_*_novelty.csv'):\n",
    "    go1=pd.read_csv(filename)\n",
    "    trait1=filename.split('/')[-1].split('.')[1].split('_')[1].upper()\n",
    "    trait2=filename.split('/')[-1].split('.')[1].split('_')[3].upper()\n",
    "    go1.to_excel(w6, sheet_name=f'{trait1}_{trait2}',index=False)\n",
    "    w6.save() \n",
    "\n",
    "w7 = ExcelWriter('/home/ubuntu/md_cvd_yunhan/combined_tables/condFDR_0.01_DEP_vs_TRAIT2_LOCI.xlsx')\n",
    "for filename in glob.glob('/home/ubuntu/md_cvd_yunhan/combined_tables/condFDR_0.01_DEP_vs_*.csv'):\n",
    "    go1=pd.read_csv(filename)\n",
    "    trait1=filename.split('/')[-1].split('.')[1].split('_')[1].upper()\n",
    "    trait2=filename.split('/')[-1].split('.')[1].split('_')[3].upper()\n",
    "    go1.to_excel(w7, sheet_name=f'{trait1}_{trait2}',index=False)\n",
    "    w7.save() \n",
    "\n",
    "w8 = ExcelWriter('/home/ubuntu/md_cvd_yunhan/combined_tables/condFDR_0.01_TRAIT2_vs_DEP_LOCI.xlsx')\n",
    "for filename in glob.glob('/home/ubuntu/md_cvd_yunhan/combined_tables/condFDR_0.01_*_vs_DEP.csv'):\n",
    "    go1=pd.read_csv(filename)\n",
    "    trait1=filename.split('/')[-1].split('.')[1].split('_')[1].upper()\n",
    "    trait2=filename.split('/')[-1].split('.')[1].split('_')[3].upper()\n",
    "    go1.to_excel(w8, sheet_name=f'{trait1}_{trait2}',index=False)\n",
    "    w8.save()"
   ]
  },
  {
   "cell_type": "code",
   "execution_count": 2,
   "id": "a5db0cf3",
   "metadata": {},
   "outputs": [
    {
     "name": "stdout",
     "output_type": "stream",
     "text": [
      "/home/ubuntu/md_cvd_yunhan/fuma_output_fin1/FUMA_conj_sbp_snps_job139952/genes.txt\n",
      "/home/ubuntu/md_cvd_yunhan/fuma_output_fin1/FUMA_conj_t2d_snps_job139954/genes.txt\n",
      "/home/ubuntu/md_cvd_yunhan/fuma_output_fin1/FUMA_conj_dbp_snps_job139945/genes.txt\n",
      "/home/ubuntu/md_cvd_yunhan/fuma_output_fin1/FUMA_conj_crp_snps_job139943/genes.txt\n",
      "/home/ubuntu/md_cvd_yunhan/fuma_output_fin1/FUMA_conj_ldl_snps_job139950/genes.txt\n",
      "/home/ubuntu/md_cvd_yunhan/fuma_output_fin1/FUMA_conj_tc_snps_job139956/genes.txt\n",
      "/home/ubuntu/md_cvd_yunhan/fuma_output_fin1/FUMA_conj_cad_snps_job139941/genes.txt\n",
      "/home/ubuntu/md_cvd_yunhan/fuma_output_fin1/FUMA_conj_hdl_snps_job139947/genes.txt\n",
      "/home/ubuntu/md_cvd_yunhan/fuma_output_fin1/FUMA_conj_bmi_snps_job139939/genes.txt\n",
      "/home/ubuntu/md_cvd_yunhan/fuma_output_fin1/FUMA_conj_tg_snps_job139958/genes.txt\n"
     ]
    }
   ],
   "source": [
    "for filename in glob.glob('/home/ubuntu/md_cvd_yunhan/fuma_output_fin1/FUMA_conj_*_snps_*/genes.txt'):\n",
    "    print(filename)"
   ]
  },
  {
   "cell_type": "code",
   "execution_count": 6,
   "id": "3dcf342c",
   "metadata": {},
   "outputs": [],
   "source": [
    "w9 = ExcelWriter('/home/ubuntu/md_cvd_yunhan/combined_tables/conjFDR_0.05_DEP_vs_TRAIT2_GENEs2.xlsx')\n",
    "for filename in glob.glob('/home/ubuntu/md_cvd_yunhan/fuma_output_fin1/FUMA_conj_*_snps_*/genes.txt'):\n",
    "    g2=pd.read_csv(filename,sep=\"\\t\")\n",
    "    trait1='DEP'\n",
    "    trait2=filename.split('/')[-2].split('_')[2].upper()\n",
    "    g2=g2.iloc[:,[0,1,2,3,4,5,6,7,8,11,12,13,14,15,16,17,18,19,20,21,22]]\n",
    "    g2.rename(columns={'ensg':'Ensembl ID','symbol':'Gene','chr':'Chr','start':'Start bp','end':'End bp',\n",
    "                   'strand':'Strand','type':'Type','entrezID':'EntrezID'}, inplace=True)\n",
    "    g2['posMap'] = np.where(g2[['posMapSNPs']]>0, \"Yes\", \"No\")\n",
    "    g2['eqtlMap'] = np.where(g2[['eqtlMapSNPs']]>0, \"Yes\", \"No\")\n",
    "    g2['Credible']=np.where(((g2.posMap =='Yes') & (g2.eqtlMap =='Yes') & (g2.ciMap=='Yes')), 'Yes', 'No')\n",
    "    g3=g2.iloc[:,[0,1,2,3,4,5,6,7,8,21,9,10,22,11,12,13,14,16,17,19,20,23]]\n",
    "    g3=g3.loc[~(((g3['Chr'] == 6) & (g3['Start bp'] > 25119106) & (g3['End bp'] < 33854733)) | \n",
    "                ((g3['Chr'] == 8) & (g3['Start bp'] > 7200000) & (g3['End bp'] < 12500000))),:]\n",
    "    g3.to_excel(w9, sheet_name=f'{trait1}_{trait2}',index=False)\n",
    "    w9.save()   "
   ]
  },
  {
   "cell_type": "code",
   "execution_count": 26,
   "id": "caea128d",
   "metadata": {},
   "outputs": [
    {
     "data": {
      "text/plain": [
       "'BMI'"
      ]
     },
     "execution_count": 26,
     "metadata": {},
     "output_type": "execute_result"
    }
   ],
   "source": [
    "t='/home/ubuntu/md_cvd_yunhan/fuma_output_fun1/FUMA_dep_bmi_gene2func65821/GS.txt'\n",
    "t.split('/')[-2].split('_')[2].upper()"
   ]
  },
  {
   "cell_type": "code",
   "execution_count": 27,
   "id": "a513f203",
   "metadata": {},
   "outputs": [],
   "source": [
    "w10 = ExcelWriter('/home/ubuntu/md_cvd_yunhan/combined_tables/conjFDR_0.05_DEP_vs_TRAIT2_GO.xlsx')\n",
    "for filename in glob.glob('/home/ubuntu/md_cvd_yunhan/fuma_output_fun1/FUMA_dep_*_gene2func*/GS.txt'):\n",
    "    go1=pd.read_csv(filename,sep=\"\\t\")\n",
    "    trait1='DEP'\n",
    "    trait2=filename.split('/')[-2].split('_')[2].upper()\n",
    "    go2=go1.loc[go1.Category.isin(['GO_bp','GO_cc','GO_mf'])]\n",
    "    go3=go2.iloc[:,[0,1,2,3,4,5,6]]\n",
    "    go3.to_excel(w10, sheet_name=f'{trait1}_{trait2}',index=False)\n",
    "    w10.save() "
   ]
  },
  {
   "cell_type": "code",
   "execution_count": 28,
   "id": "630a7053",
   "metadata": {},
   "outputs": [],
   "source": [
    "w11 = ExcelWriter('/home/ubuntu/md_cvd_yunhan/combined_tables/conjFDR_0.05_DEP_vs_TRAIT2_PATH.xlsx')\n",
    "for filename in glob.glob('/home/ubuntu/md_cvd_yunhan/fuma_output_fun1/FUMA_dep_*_gene2func*/GS.txt'):\n",
    "    go1=pd.read_csv(filename,sep=\"\\t\")\n",
    "    trait1='DEP'\n",
    "    trait2=filename.split('/')[-2].split('_')[2].upper()\n",
    "    go2=go1.loc[go1.Category.isin(['KEGG','Wikipathways','BioCarta'])]\n",
    "    go3=go2.iloc[:,[0,1,2,3,4,5,6]]\n",
    "    go3.to_excel(w11, sheet_name=f'{trait1}_{trait2}',index=False)\n",
    "    w11.save() "
   ]
  },
  {
   "cell_type": "code",
   "execution_count": 139,
   "id": "86be256b",
   "metadata": {},
   "outputs": [
    {
     "data": {
      "text/plain": [
       "'bmi'"
      ]
     },
     "execution_count": 139,
     "metadata": {},
     "output_type": "execute_result"
    }
   ],
   "source": [
    "t1='/home/ubuntu/body-brain/bmi/fuma_result_fin1/FUMA_conj_scz_bmi_snps_job136702/genes.txt'\n",
    "t1.split('/')[-2].split('_')[3]"
   ]
  },
  {
   "cell_type": "code",
   "execution_count": 7,
   "id": "2c432e24",
   "metadata": {},
   "outputs": [],
   "source": [
    "for f in glob.glob('/home/ubuntu/body-brain/bmi/combined/*csv'):\n",
    "    f1=pd.read_csv(f)\n",
    "    f1.to_csv(f,sep='\\t',index=False)"
   ]
  },
  {
   "cell_type": "code",
   "execution_count": 11,
   "id": "5e2f0d5f",
   "metadata": {},
   "outputs": [],
   "source": [
    "w12 = ExcelWriter('/home/ubuntu/body-brain/bmi/combined_tables/conjFDR_0.05_SCZ_vs_TRAIT2_SNPs.xlsx')\n",
    "for filename in glob.glob('/home/ubuntu/body-brain/bmi/combined/conjFDR_0.05_SCZ_vs_*_snps.csv'):\n",
    "    go1=pd.read_csv(filename)\n",
    "    trait1=filename.split('/')[-1].split('.')[1].split('_')[1].upper()\n",
    "    trait2=filename.split('/')[-1].split('.')[1].split('_')[3].upper()\n",
    "    go1.to_excel(w12, sheet_name=f'{trait1}_{trait2}',index=False)\n",
    "    w12.save()\n",
    "    go1.ConcordEffect.value_counts()"
   ]
  },
  {
   "cell_type": "code",
   "execution_count": 5,
   "id": "0bfe5f8e",
   "metadata": {},
   "outputs": [],
   "source": [
    "w13 = ExcelWriter('/home/ubuntu/body-brain/bmi/combined_tables/conjFDR_0.05_SCZ_vs_TRAIT2_LOCI.xlsx')\n",
    "for filename in glob.glob('/home/ubuntu/body-brain/bmi/combined/conjFDR_0.05_SCZ_vs_*_novelty.csv'):\n",
    "    go1=pd.read_csv(filename)\n",
    "    trait1=filename.split('/')[-1].split('.')[1].split('_')[1].upper()\n",
    "    trait2=filename.split('/')[-1].split('.')[1].split('_')[3].upper()\n",
    "    go1.to_excel(w13, sheet_name=f'{trait1}_{trait2}',index=False)\n",
    "    w13.save() "
   ]
  },
  {
   "cell_type": "code",
   "execution_count": 10,
   "id": "3875bd7c",
   "metadata": {},
   "outputs": [],
   "source": [
    "w14 = ExcelWriter('/home/ubuntu/body-brain/bmi/combined_tables/condFDR_0.01_SCZ_vs_TRAIT2_LOCI.xlsx')\n",
    "for filename in glob.glob('/home/ubuntu/body-brain/bmi/combined/condFDR_0.01_SCZ_vs_*.csv'):\n",
    "    go1=pd.read_csv(filename)\n",
    "    trait1=filename.split('/')[-1].split('.')[1].split('_')[1].upper()\n",
    "    trait2=filename.split('/')[-1].split('.')[1].split('_')[3].upper()\n",
    "    go1.to_excel(w14, sheet_name=f'{trait1}_{trait2}',index=False)\n",
    "    w14.save()"
   ]
  },
  {
   "cell_type": "code",
   "execution_count": 11,
   "id": "9259b104",
   "metadata": {},
   "outputs": [],
   "source": [
    "w15 = ExcelWriter('/home/ubuntu/body-brain/bmi/combined_tables/condFDR_0.01_TRAIT2_vs_SCZ_LOCI.xlsx')\n",
    "for filename in glob.glob('/home/ubuntu/body-brain/bmi/combined/condFDR_0.01_*_vs_SCZ.csv'):\n",
    "    go1=pd.read_csv(filename)\n",
    "    trait1=filename.split('/')[-1].split('.')[1].split('_')[1].upper()\n",
    "    trait2=filename.split('/')[-1].split('.')[1].split('_')[3].upper()\n",
    "    go1.to_excel(w15, sheet_name=f'{trait1}_{trait2}',index=False)\n",
    "    w15.save()"
   ]
  },
  {
   "cell_type": "code",
   "execution_count": 8,
   "id": "76bc88d0",
   "metadata": {},
   "outputs": [],
   "source": [
    "w16 = ExcelWriter('/home/ubuntu/body-brain/bmi/combined_tables/conjFDR_0.05_SCZ_vs_TRAIT2_GENEs2.xlsx')\n",
    "for filename in glob.glob('/home/ubuntu/body-brain/bmi/fuma_result_fin1/FUMA_conj_scz_*_snp*/genes.txt'):\n",
    "    g2=pd.read_csv(filename,sep=\"\\t\")\n",
    "    trait1='SCZ'\n",
    "    trait2=filename.split('/')[-2].split('_')[3].upper()\n",
    "    g2=g2.iloc[:,[0,1,2,3,4,5,6,7,8,11,12,13,14,15,16,17,18,19,20,21,22]]\n",
    "    g2.rename(columns={'ensg':'Ensembl ID','symbol':'Gene','chr':'Chr','start':'Start bp','end':'End bp',\n",
    "                   'strand':'Strand','type':'Type','entrezID':'EntrezID'}, inplace=True)\n",
    "    g2['posMap'] = np.where(g2[['posMapSNPs']]>0, \"Yes\", \"No\")\n",
    "    g2['eqtlMap'] = np.where(g2[['eqtlMapSNPs']]>0, \"Yes\", \"No\")\n",
    "    g2['Credible']=np.where(((g2.posMap =='Yes') & (g2.eqtlMap =='Yes') & (g2.ciMap=='Yes')), 'Yes', 'No')\n",
    "    g3=g2.iloc[:,[0,1,2,3,4,5,6,7,8,21,9,10,22,11,12,13,14,16,17,19,20,23]]\n",
    "    g3=g3\n",
    "    g3=g3.loc[~(((g3['Chr'] == 6) & (g3['Start bp'] > 25119106) & (g3['End bp'] < 33854733)) | \n",
    "                ((g3['Chr'] == 8) & (g3['Start bp'] > 7200000) & (g3['End bp'] < 12500000))),:]\n",
    "    g3.to_excel(w16, sheet_name=f'{trait1}_{trait2}',index=False)\n",
    "    w16.save()   "
   ]
  },
  {
   "cell_type": "code",
   "execution_count": 13,
   "id": "18a08de0",
   "metadata": {},
   "outputs": [
    {
     "data": {
      "text/plain": [
       "'TG'"
      ]
     },
     "execution_count": 13,
     "metadata": {},
     "output_type": "execute_result"
    }
   ],
   "source": [
    "t1='/home/ubuntu/body-brain/bmi/fuma_result_fun1/FUMA_scz_tg_gene2func65841/GS.txt'\n",
    "t1.split('/')[-2].split('_')[2].upper()"
   ]
  },
  {
   "cell_type": "code",
   "execution_count": 14,
   "id": "9636daf8",
   "metadata": {},
   "outputs": [],
   "source": [
    "w17 = ExcelWriter('/home/ubuntu/body-brain/bmi/combined_tables/conjFDR_0.05_SCZ_vs_TRAIT2_GO.xlsx')\n",
    "for filename in glob.glob('/home/ubuntu/body-brain/bmi/fuma_result_fun1/FUMA_scz_*_gene2func*/GS.txt'):\n",
    "    go1=pd.read_csv(filename,sep=\"\\t\")\n",
    "    trait1='SCZ'\n",
    "    trait2=filename.split('/')[-2].split('_')[2].upper()\n",
    "    go2=go1.loc[go1.Category.isin(['GO_bp','GO_cc','GO_mf'])]\n",
    "    go3=go2.iloc[:,[0,1,2,3,4,5,6]]\n",
    "    go3.to_excel(w17, sheet_name=f'{trait1}_{trait2}',index=False)\n",
    "    w17.save() "
   ]
  },
  {
   "cell_type": "code",
   "execution_count": 15,
   "id": "7a238d61",
   "metadata": {},
   "outputs": [],
   "source": [
    "w18 = ExcelWriter('/home/ubuntu/body-brain/bmi/combined_tables/conjFDR_0.05_SCZ_vs_TRAIT2_PATH.xlsx')\n",
    "for filename in glob.glob('/home/ubuntu/body-brain/bmi/fuma_result_fun1/FUMA_scz_*_gene2func*/GS.txt'):\n",
    "    go1=pd.read_csv(filename,sep=\"\\t\")\n",
    "    trait1='SCZ'\n",
    "    trait2=filename.split('/')[-2].split('_')[2].upper()\n",
    "    go2=go1.loc[go1.Category.isin(['KEGG','Wikipathways','BioCarta'])]\n",
    "    go3=go2.iloc[:,[0,1,2,3,4,5,6]]\n",
    "    go3.to_excel(w18, sheet_name=f'{trait1}_{trait2}',index=False)\n",
    "    w18.save() "
   ]
  },
  {
   "cell_type": "code",
   "execution_count": 34,
   "id": "0bc5804c",
   "metadata": {},
   "outputs": [
    {
     "name": "stdout",
     "output_type": "stream",
     "text": [
      "DEP_TG\n",
      "Yes    1093\n",
      "No       83\n",
      "Name: ConcordEffect, dtype: int64\n",
      "DEP_T2D\n",
      "Yes    57\n",
      "No     40\n",
      "Name: ConcordEffect, dtype: int64\n",
      "DEP_SBP\n",
      "No     1192\n",
      "Yes     169\n",
      "Name: ConcordEffect, dtype: int64\n",
      "DEP_LDL\n",
      "Yes    325\n",
      "No     146\n",
      "Name: ConcordEffect, dtype: int64\n",
      "DEP_CRP\n",
      "Yes    232\n",
      "No     108\n",
      "Name: ConcordEffect, dtype: int64\n",
      "DEP_CAD\n",
      "Yes    53\n",
      "No      2\n",
      "Name: ConcordEffect, dtype: int64\n",
      "DEP_DBP\n",
      "No     870\n",
      "Yes    839\n",
      "Name: ConcordEffect, dtype: int64\n",
      "DEP_HDL\n",
      "No     251\n",
      "Yes     97\n",
      "Name: ConcordEffect, dtype: int64\n",
      "DEP_TC\n",
      "Yes    551\n",
      "No     318\n",
      "Name: ConcordEffect, dtype: int64\n",
      "DEP_BMI\n",
      "Yes    464\n",
      "No     365\n",
      "Name: ConcordEffect, dtype: int64\n"
     ]
    }
   ],
   "source": [
    "for filename in glob.glob('/home/ubuntu/md_cvd_yunhan/combined_tables/conjFDR_0.05_DEP_vs_*_snps.csv'):\n",
    "    go1=pd.read_csv(filename)\n",
    "    trait1=filename.split('/')[-1].split('.')[1].split('_')[1].upper()\n",
    "    trait2=filename.split('/')[-1].split('.')[1].split('_')[3].upper()\n",
    "    print(f'{trait1}_{trait2}')\n",
    "    print(go1.ConcordEffect.value_counts())"
   ]
  },
  {
   "cell_type": "code",
   "execution_count": 3,
   "id": "47078654",
   "metadata": {},
   "outputs": [],
   "source": [
    "w13 = ExcelWriter('/home/ubuntu/body-brain/bmi/combined_tables/conjFDR_0.05_SCZ_vs_TRAIT2_only_unique_loci.xlsx')\n",
    "for filename in glob.glob('/home/ubuntu/body-brain/bmi/combined/conjFDR_0.05_SCZ_vs_*_novelty.csv'):\n",
    "    go1=pd.read_csv(filename)\n",
    "    trait1=filename.split('/')[-1].split('.')[1].split('_')[1].upper()\n",
    "    trait2=filename.split('/')[-1].split('.')[1].split('_')[3].upper()\n",
    "    go2=go1.loc[go1.is_locus_unique == 'Yes']\n",
    "    go2.to_excel(w13, sheet_name=f'{trait1}_{trait2}',index=False)\n",
    "    w13.save()"
   ]
  },
  {
   "cell_type": "code",
   "execution_count": 7,
   "id": "d7241d8a",
   "metadata": {},
   "outputs": [
    {
     "data": {
      "text/html": [
       "<div>\n",
       "<style scoped>\n",
       "    .dataframe tbody tr th:only-of-type {\n",
       "        vertical-align: middle;\n",
       "    }\n",
       "\n",
       "    .dataframe tbody tr th {\n",
       "        vertical-align: top;\n",
       "    }\n",
       "\n",
       "    .dataframe thead th {\n",
       "        text-align: right;\n",
       "    }\n",
       "</style>\n",
       "<table border=\"1\" class=\"dataframe\">\n",
       "  <thead>\n",
       "    <tr style=\"text-align: right;\">\n",
       "      <th></th>\n",
       "      <th>0</th>\n",
       "      <th>1</th>\n",
       "      <th>2</th>\n",
       "      <th>3</th>\n",
       "      <th>4</th>\n",
       "      <th>5</th>\n",
       "    </tr>\n",
       "  </thead>\n",
       "  <tbody>\n",
       "    <tr>\n",
       "      <th>0</th>\n",
       "      <td>0</td>\n",
       "      <td>1206_hubin_id00000</td>\n",
       "      <td>0</td>\n",
       "      <td>0</td>\n",
       "      <td>0</td>\n",
       "      <td>-9</td>\n",
       "    </tr>\n",
       "    <tr>\n",
       "      <th>1</th>\n",
       "      <td>0</td>\n",
       "      <td>1206_hubin_id00001</td>\n",
       "      <td>0</td>\n",
       "      <td>0</td>\n",
       "      <td>0</td>\n",
       "      <td>-9</td>\n",
       "    </tr>\n",
       "    <tr>\n",
       "      <th>2</th>\n",
       "      <td>0</td>\n",
       "      <td>1206_hubin_id00003</td>\n",
       "      <td>0</td>\n",
       "      <td>0</td>\n",
       "      <td>0</td>\n",
       "      <td>-9</td>\n",
       "    </tr>\n",
       "    <tr>\n",
       "      <th>3</th>\n",
       "      <td>0</td>\n",
       "      <td>1206_hubin_id00004</td>\n",
       "      <td>0</td>\n",
       "      <td>0</td>\n",
       "      <td>0</td>\n",
       "      <td>-9</td>\n",
       "    </tr>\n",
       "    <tr>\n",
       "      <th>4</th>\n",
       "      <td>0</td>\n",
       "      <td>1206_hubin_id00005</td>\n",
       "      <td>0</td>\n",
       "      <td>0</td>\n",
       "      <td>0</td>\n",
       "      <td>-9</td>\n",
       "    </tr>\n",
       "  </tbody>\n",
       "</table>\n",
       "</div>"
      ],
      "text/plain": [
       "   0                   1  2  3  4  5\n",
       "0  0  1206_hubin_id00000  0  0  0 -9\n",
       "1  0  1206_hubin_id00001  0  0  0 -9\n",
       "2  0  1206_hubin_id00003  0  0  0 -9\n",
       "3  0  1206_hubin_id00004  0  0  0 -9\n",
       "4  0  1206_hubin_id00005  0  0  0 -9"
      ]
     },
     "execution_count": 7,
     "metadata": {},
     "output_type": "execute_result"
    }
   ],
   "source": [
    "fam1=pd.read_csv('/home/ubuntu/imputation/for_topmed/all_batches_merged2.fam',header=None,sep=' ')\n",
    "fam1.head()"
   ]
  },
  {
   "cell_type": "code",
   "execution_count": 9,
   "id": "186a7f56",
   "metadata": {},
   "outputs": [
    {
     "data": {
      "text/html": [
       "<div>\n",
       "<style scoped>\n",
       "    .dataframe tbody tr th:only-of-type {\n",
       "        vertical-align: middle;\n",
       "    }\n",
       "\n",
       "    .dataframe tbody tr th {\n",
       "        vertical-align: top;\n",
       "    }\n",
       "\n",
       "    .dataframe thead th {\n",
       "        text-align: right;\n",
       "    }\n",
       "</style>\n",
       "<table border=\"1\" class=\"dataframe\">\n",
       "  <thead>\n",
       "    <tr style=\"text-align: right;\">\n",
       "      <th></th>\n",
       "      <th>0</th>\n",
       "      <th>1</th>\n",
       "      <th>2</th>\n",
       "    </tr>\n",
       "  </thead>\n",
       "  <tbody>\n",
       "    <tr>\n",
       "      <th>0</th>\n",
       "      <td>1206</td>\n",
       "      <td>hubin</td>\n",
       "      <td>id00000</td>\n",
       "    </tr>\n",
       "    <tr>\n",
       "      <th>1</th>\n",
       "      <td>1206</td>\n",
       "      <td>hubin</td>\n",
       "      <td>id00001</td>\n",
       "    </tr>\n",
       "    <tr>\n",
       "      <th>2</th>\n",
       "      <td>1206</td>\n",
       "      <td>hubin</td>\n",
       "      <td>id00003</td>\n",
       "    </tr>\n",
       "    <tr>\n",
       "      <th>3</th>\n",
       "      <td>1206</td>\n",
       "      <td>hubin</td>\n",
       "      <td>id00004</td>\n",
       "    </tr>\n",
       "    <tr>\n",
       "      <th>4</th>\n",
       "      <td>1206</td>\n",
       "      <td>hubin</td>\n",
       "      <td>id00005</td>\n",
       "    </tr>\n",
       "  </tbody>\n",
       "</table>\n",
       "</div>"
      ],
      "text/plain": [
       "      0      1        2\n",
       "0  1206  hubin  id00000\n",
       "1  1206  hubin  id00001\n",
       "2  1206  hubin  id00003\n",
       "3  1206  hubin  id00004\n",
       "4  1206  hubin  id00005"
      ]
     },
     "execution_count": 9,
     "metadata": {},
     "output_type": "execute_result"
    }
   ],
   "source": [
    "plate1=fam1.iloc[:,1].str.split('_',expand=True)\n",
    "plate1.head()"
   ]
  },
  {
   "cell_type": "code",
   "execution_count": 15,
   "id": "39387216",
   "metadata": {},
   "outputs": [
    {
     "name": "stdout",
     "output_type": "stream",
     "text": [
      "28400 28403\n"
     ]
    }
   ],
   "source": [
    "myarr =['A','B','C','D','E','F','G','H']*int(len(fam1)/8)\n",
    "print(len(myarr),len(fam1))"
   ]
  },
  {
   "cell_type": "code",
   "execution_count": 18,
   "id": "ba6ff154",
   "metadata": {},
   "outputs": [
    {
     "name": "stdout",
     "output_type": "stream",
     "text": [
      "28400 28403 28392\n"
     ]
    }
   ],
   "source": [
    "myarr2=['1','2','3','4','5','6','7','8','9','10','11','12']*int(len(fam1)/12)\n",
    "print(len(myarr),len(fam1),len(myarr2))"
   ]
  },
  {
   "cell_type": "code",
   "execution_count": 22,
   "id": "b2cc2766",
   "metadata": {},
   "outputs": [],
   "source": [
    "myarr3 = [i + j for i, j in zip(myarr, myarr2)]"
   ]
  },
  {
   "cell_type": "code",
   "execution_count": 30,
   "id": "13b0e726",
   "metadata": {},
   "outputs": [],
   "source": [
    "myarr4=pd.Series(myarr3)"
   ]
  },
  {
   "cell_type": "code",
   "execution_count": 31,
   "id": "64bfd63b",
   "metadata": {},
   "outputs": [],
   "source": [
    "fam1['Well'] = myarr4"
   ]
  },
  {
   "cell_type": "code",
   "execution_count": 32,
   "id": "dc7d5aa6",
   "metadata": {},
   "outputs": [
    {
     "data": {
      "text/html": [
       "<div>\n",
       "<style scoped>\n",
       "    .dataframe tbody tr th:only-of-type {\n",
       "        vertical-align: middle;\n",
       "    }\n",
       "\n",
       "    .dataframe tbody tr th {\n",
       "        vertical-align: top;\n",
       "    }\n",
       "\n",
       "    .dataframe thead th {\n",
       "        text-align: right;\n",
       "    }\n",
       "</style>\n",
       "<table border=\"1\" class=\"dataframe\">\n",
       "  <thead>\n",
       "    <tr style=\"text-align: right;\">\n",
       "      <th></th>\n",
       "      <th>0</th>\n",
       "      <th>1</th>\n",
       "      <th>2</th>\n",
       "      <th>3</th>\n",
       "      <th>4</th>\n",
       "      <th>5</th>\n",
       "      <th>Well</th>\n",
       "    </tr>\n",
       "  </thead>\n",
       "  <tbody>\n",
       "    <tr>\n",
       "      <th>0</th>\n",
       "      <td>0</td>\n",
       "      <td>1206_hubin_id00000</td>\n",
       "      <td>0</td>\n",
       "      <td>0</td>\n",
       "      <td>0</td>\n",
       "      <td>-9</td>\n",
       "      <td>A1</td>\n",
       "    </tr>\n",
       "    <tr>\n",
       "      <th>1</th>\n",
       "      <td>0</td>\n",
       "      <td>1206_hubin_id00001</td>\n",
       "      <td>0</td>\n",
       "      <td>0</td>\n",
       "      <td>0</td>\n",
       "      <td>-9</td>\n",
       "      <td>B2</td>\n",
       "    </tr>\n",
       "    <tr>\n",
       "      <th>2</th>\n",
       "      <td>0</td>\n",
       "      <td>1206_hubin_id00003</td>\n",
       "      <td>0</td>\n",
       "      <td>0</td>\n",
       "      <td>0</td>\n",
       "      <td>-9</td>\n",
       "      <td>C3</td>\n",
       "    </tr>\n",
       "    <tr>\n",
       "      <th>3</th>\n",
       "      <td>0</td>\n",
       "      <td>1206_hubin_id00004</td>\n",
       "      <td>0</td>\n",
       "      <td>0</td>\n",
       "      <td>0</td>\n",
       "      <td>-9</td>\n",
       "      <td>D4</td>\n",
       "    </tr>\n",
       "    <tr>\n",
       "      <th>4</th>\n",
       "      <td>0</td>\n",
       "      <td>1206_hubin_id00005</td>\n",
       "      <td>0</td>\n",
       "      <td>0</td>\n",
       "      <td>0</td>\n",
       "      <td>-9</td>\n",
       "      <td>E5</td>\n",
       "    </tr>\n",
       "  </tbody>\n",
       "</table>\n",
       "</div>"
      ],
      "text/plain": [
       "   0                   1  2  3  4  5 Well\n",
       "0  0  1206_hubin_id00000  0  0  0 -9   A1\n",
       "1  0  1206_hubin_id00001  0  0  0 -9   B2\n",
       "2  0  1206_hubin_id00003  0  0  0 -9   C3\n",
       "3  0  1206_hubin_id00004  0  0  0 -9   D4\n",
       "4  0  1206_hubin_id00005  0  0  0 -9   E5"
      ]
     },
     "execution_count": 32,
     "metadata": {},
     "output_type": "execute_result"
    }
   ],
   "source": [
    "fam1.head()"
   ]
  },
  {
   "cell_type": "code",
   "execution_count": 37,
   "id": "0e2fcfe6",
   "metadata": {},
   "outputs": [
    {
     "data": {
      "text/html": [
       "<div>\n",
       "<style scoped>\n",
       "    .dataframe tbody tr th:only-of-type {\n",
       "        vertical-align: middle;\n",
       "    }\n",
       "\n",
       "    .dataframe tbody tr th {\n",
       "        vertical-align: top;\n",
       "    }\n",
       "\n",
       "    .dataframe thead th {\n",
       "        text-align: right;\n",
       "    }\n",
       "</style>\n",
       "<table border=\"1\" class=\"dataframe\">\n",
       "  <thead>\n",
       "    <tr style=\"text-align: right;\">\n",
       "      <th></th>\n",
       "      <th>1</th>\n",
       "      <th>Well</th>\n",
       "      <th>1</th>\n",
       "    </tr>\n",
       "  </thead>\n",
       "  <tbody>\n",
       "    <tr>\n",
       "      <th>0</th>\n",
       "      <td>1206_hubin_id00000</td>\n",
       "      <td>A1</td>\n",
       "      <td>hubin</td>\n",
       "    </tr>\n",
       "    <tr>\n",
       "      <th>1</th>\n",
       "      <td>1206_hubin_id00001</td>\n",
       "      <td>B2</td>\n",
       "      <td>hubin</td>\n",
       "    </tr>\n",
       "    <tr>\n",
       "      <th>2</th>\n",
       "      <td>1206_hubin_id00003</td>\n",
       "      <td>C3</td>\n",
       "      <td>hubin</td>\n",
       "    </tr>\n",
       "    <tr>\n",
       "      <th>3</th>\n",
       "      <td>1206_hubin_id00004</td>\n",
       "      <td>D4</td>\n",
       "      <td>hubin</td>\n",
       "    </tr>\n",
       "    <tr>\n",
       "      <th>4</th>\n",
       "      <td>1206_hubin_id00005</td>\n",
       "      <td>E5</td>\n",
       "      <td>hubin</td>\n",
       "    </tr>\n",
       "  </tbody>\n",
       "</table>\n",
       "</div>"
      ],
      "text/plain": [
       "                    1 Well      1\n",
       "0  1206_hubin_id00000   A1  hubin\n",
       "1  1206_hubin_id00001   B2  hubin\n",
       "2  1206_hubin_id00003   C3  hubin\n",
       "3  1206_hubin_id00004   D4  hubin\n",
       "4  1206_hubin_id00005   E5  hubin"
      ]
     },
     "execution_count": 37,
     "metadata": {},
     "output_type": "execute_result"
    }
   ],
   "source": [
    "fam2=pd.concat([pd.DataFrame(fam1.iloc[:,1]),pd.DataFrame(fam1['Well']),pd.DataFrame(plate1.iloc[:,1])],axis=1)\n",
    "fam2.head()"
   ]
  },
  {
   "cell_type": "code",
   "execution_count": 40,
   "id": "468559a4",
   "metadata": {},
   "outputs": [
    {
     "data": {
      "text/html": [
       "<div>\n",
       "<style scoped>\n",
       "    .dataframe tbody tr th:only-of-type {\n",
       "        vertical-align: middle;\n",
       "    }\n",
       "\n",
       "    .dataframe tbody tr th {\n",
       "        vertical-align: top;\n",
       "    }\n",
       "\n",
       "    .dataframe thead th {\n",
       "        text-align: right;\n",
       "    }\n",
       "</style>\n",
       "<table border=\"1\" class=\"dataframe\">\n",
       "  <thead>\n",
       "    <tr style=\"text-align: right;\">\n",
       "      <th></th>\n",
       "      <th>ID</th>\n",
       "      <th>Well</th>\n",
       "      <th>Plate</th>\n",
       "    </tr>\n",
       "  </thead>\n",
       "  <tbody>\n",
       "    <tr>\n",
       "      <th>0</th>\n",
       "      <td>1206_hubin_id00000</td>\n",
       "      <td>A1</td>\n",
       "      <td>hubin</td>\n",
       "    </tr>\n",
       "    <tr>\n",
       "      <th>1</th>\n",
       "      <td>1206_hubin_id00001</td>\n",
       "      <td>B2</td>\n",
       "      <td>hubin</td>\n",
       "    </tr>\n",
       "    <tr>\n",
       "      <th>2</th>\n",
       "      <td>1206_hubin_id00003</td>\n",
       "      <td>C3</td>\n",
       "      <td>hubin</td>\n",
       "    </tr>\n",
       "    <tr>\n",
       "      <th>3</th>\n",
       "      <td>1206_hubin_id00004</td>\n",
       "      <td>D4</td>\n",
       "      <td>hubin</td>\n",
       "    </tr>\n",
       "    <tr>\n",
       "      <th>4</th>\n",
       "      <td>1206_hubin_id00005</td>\n",
       "      <td>E5</td>\n",
       "      <td>hubin</td>\n",
       "    </tr>\n",
       "  </tbody>\n",
       "</table>\n",
       "</div>"
      ],
      "text/plain": [
       "                   ID Well  Plate\n",
       "0  1206_hubin_id00000   A1  hubin\n",
       "1  1206_hubin_id00001   B2  hubin\n",
       "2  1206_hubin_id00003   C3  hubin\n",
       "3  1206_hubin_id00004   D4  hubin\n",
       "4  1206_hubin_id00005   E5  hubin"
      ]
     },
     "execution_count": 40,
     "metadata": {},
     "output_type": "execute_result"
    }
   ],
   "source": [
    "fam2.columns=['ID','Well','Plate']\n",
    "fam2.head()"
   ]
  },
  {
   "cell_type": "code",
   "execution_count": 41,
   "id": "db0a8176",
   "metadata": {},
   "outputs": [],
   "source": [
    "fam2.to_csv('/home/ubuntu/imputation/for_topmed/dlb-plates.csv',index=False)"
   ]
  },
  {
   "cell_type": "code",
   "execution_count": 3,
   "id": "0acbc93a",
   "metadata": {},
   "outputs": [
    {
     "data": {
      "text/html": [
       "<div>\n",
       "<style scoped>\n",
       "    .dataframe tbody tr th:only-of-type {\n",
       "        vertical-align: middle;\n",
       "    }\n",
       "\n",
       "    .dataframe tbody tr th {\n",
       "        vertical-align: top;\n",
       "    }\n",
       "\n",
       "    .dataframe thead th {\n",
       "        text-align: right;\n",
       "    }\n",
       "</style>\n",
       "<table border=\"1\" class=\"dataframe\">\n",
       "  <thead>\n",
       "    <tr style=\"text-align: right;\">\n",
       "      <th></th>\n",
       "      <th>locusnum</th>\n",
       "      <th>CHR</th>\n",
       "      <th>LEAD_SNP</th>\n",
       "      <th>LEAD_BP</th>\n",
       "      <th>MinBP</th>\n",
       "      <th>MaxBP</th>\n",
       "      <th>FDR</th>\n",
       "      <th>A1</th>\n",
       "      <th>A2</th>\n",
       "      <th>nearestGene</th>\n",
       "      <th>...</th>\n",
       "      <th>minChrState</th>\n",
       "      <th>commonChrState</th>\n",
       "      <th>PVAL_in_BMI</th>\n",
       "      <th>Z_in_BMI</th>\n",
       "      <th>BETA_in_BMI</th>\n",
       "      <th>SE_in_BMI</th>\n",
       "      <th>PVAL_in_DEP</th>\n",
       "      <th>Z_in_DEP</th>\n",
       "      <th>BETA_in_DEP</th>\n",
       "      <th>SE_in_DEP</th>\n",
       "    </tr>\n",
       "  </thead>\n",
       "  <tbody>\n",
       "    <tr>\n",
       "      <th>0</th>\n",
       "      <td>1</td>\n",
       "      <td>1</td>\n",
       "      <td>rs9660180</td>\n",
       "      <td>1723031</td>\n",
       "      <td>1663452</td>\n",
       "      <td>1879084</td>\n",
       "      <td>0.000172</td>\n",
       "      <td>A</td>\n",
       "      <td>G</td>\n",
       "      <td>GNB1</td>\n",
       "      <td>...</td>\n",
       "      <td>4</td>\n",
       "      <td>4</td>\n",
       "      <td>8.071000e-07</td>\n",
       "      <td>4.933643</td>\n",
       "      <td>0.0171</td>\n",
       "      <td>0.0035</td>\n",
       "      <td>0.107200</td>\n",
       "      <td>1.610907</td>\n",
       "      <td>0.0081</td>\n",
       "      <td>0.0050</td>\n",
       "    </tr>\n",
       "    <tr>\n",
       "      <th>1</th>\n",
       "      <td>2</td>\n",
       "      <td>1</td>\n",
       "      <td>rs7535528</td>\n",
       "      <td>2444414</td>\n",
       "      <td>2427712</td>\n",
       "      <td>2754512</td>\n",
       "      <td>0.004582</td>\n",
       "      <td>G</td>\n",
       "      <td>A</td>\n",
       "      <td>PANK4</td>\n",
       "      <td>...</td>\n",
       "      <td>4</td>\n",
       "      <td>4</td>\n",
       "      <td>3.195000e-05</td>\n",
       "      <td>-4.159103</td>\n",
       "      <td>-0.0183</td>\n",
       "      <td>0.0044</td>\n",
       "      <td>0.048610</td>\n",
       "      <td>1.971997</td>\n",
       "      <td>0.0105</td>\n",
       "      <td>0.0053</td>\n",
       "    </tr>\n",
       "    <tr>\n",
       "      <th>2</th>\n",
       "      <td>3</td>\n",
       "      <td>1</td>\n",
       "      <td>rs10864361</td>\n",
       "      <td>8726721</td>\n",
       "      <td>8481016</td>\n",
       "      <td>8895448</td>\n",
       "      <td>0.000735</td>\n",
       "      <td>C</td>\n",
       "      <td>T</td>\n",
       "      <td>RERE</td>\n",
       "      <td>...</td>\n",
       "      <td>2</td>\n",
       "      <td>7</td>\n",
       "      <td>3.665000e-05</td>\n",
       "      <td>-4.127643</td>\n",
       "      <td>-0.0129</td>\n",
       "      <td>0.0031</td>\n",
       "      <td>0.000002</td>\n",
       "      <td>4.755761</td>\n",
       "      <td>0.0244</td>\n",
       "      <td>0.0051</td>\n",
       "    </tr>\n",
       "    <tr>\n",
       "      <th>3</th>\n",
       "      <td>4</td>\n",
       "      <td>1</td>\n",
       "      <td>rs10779751</td>\n",
       "      <td>11284336</td>\n",
       "      <td>11111976</td>\n",
       "      <td>11372913</td>\n",
       "      <td>0.004202</td>\n",
       "      <td>G</td>\n",
       "      <td>A</td>\n",
       "      <td>MTOR</td>\n",
       "      <td>...</td>\n",
       "      <td>4</td>\n",
       "      <td>5</td>\n",
       "      <td>8.537000e-06</td>\n",
       "      <td>4.451255</td>\n",
       "      <td>0.0151</td>\n",
       "      <td>0.0034</td>\n",
       "      <td>0.921200</td>\n",
       "      <td>0.098922</td>\n",
       "      <td>0.0006</td>\n",
       "      <td>0.0056</td>\n",
       "    </tr>\n",
       "    <tr>\n",
       "      <th>4</th>\n",
       "      <td>5</td>\n",
       "      <td>1</td>\n",
       "      <td>rs4655145</td>\n",
       "      <td>23404671</td>\n",
       "      <td>23285856</td>\n",
       "      <td>23425973</td>\n",
       "      <td>0.004650</td>\n",
       "      <td>G</td>\n",
       "      <td>A</td>\n",
       "      <td>KDM1A:RP1-184J9.2</td>\n",
       "      <td>...</td>\n",
       "      <td>4</td>\n",
       "      <td>4</td>\n",
       "      <td>5.002000e-05</td>\n",
       "      <td>4.055534</td>\n",
       "      <td>0.0219</td>\n",
       "      <td>0.0054</td>\n",
       "      <td>0.016350</td>\n",
       "      <td>2.401008</td>\n",
       "      <td>0.0170</td>\n",
       "      <td>0.0071</td>\n",
       "    </tr>\n",
       "  </tbody>\n",
       "</table>\n",
       "<p>5 rows × 24 columns</p>\n",
       "</div>"
      ],
      "text/plain": [
       "   locusnum  CHR    LEAD_SNP   LEAD_BP     MinBP     MaxBP       FDR A1 A2  \\\n",
       "0         1    1   rs9660180   1723031   1663452   1879084  0.000172  A  G   \n",
       "1         2    1   rs7535528   2444414   2427712   2754512  0.004582  G  A   \n",
       "2         3    1  rs10864361   8726721   8481016   8895448  0.000735  C  T   \n",
       "3         4    1  rs10779751  11284336  11111976  11372913  0.004202  G  A   \n",
       "4         5    1   rs4655145  23404671  23285856  23425973  0.004650  G  A   \n",
       "\n",
       "         nearestGene  ... minChrState commonChrState   PVAL_in_BMI  Z_in_BMI  \\\n",
       "0               GNB1  ...           4              4  8.071000e-07  4.933643   \n",
       "1              PANK4  ...           4              4  3.195000e-05 -4.159103   \n",
       "2               RERE  ...           2              7  3.665000e-05 -4.127643   \n",
       "3               MTOR  ...           4              5  8.537000e-06  4.451255   \n",
       "4  KDM1A:RP1-184J9.2  ...           4              4  5.002000e-05  4.055534   \n",
       "\n",
       "   BETA_in_BMI  SE_in_BMI  PVAL_in_DEP  Z_in_DEP  BETA_in_DEP  SE_in_DEP  \n",
       "0       0.0171     0.0035     0.107200  1.610907       0.0081     0.0050  \n",
       "1      -0.0183     0.0044     0.048610  1.971997       0.0105     0.0053  \n",
       "2      -0.0129     0.0031     0.000002  4.755761       0.0244     0.0051  \n",
       "3       0.0151     0.0034     0.921200  0.098922       0.0006     0.0056  \n",
       "4       0.0219     0.0054     0.016350  2.401008       0.0170     0.0071  \n",
       "\n",
       "[5 rows x 24 columns]"
      ]
     },
     "execution_count": 3,
     "metadata": {},
     "output_type": "execute_result"
    }
   ],
   "source": [
    "conj1=pd.read_csv('/home/ubuntu/md_cvd_yunhan/combined_tables/conjFDR_0.05_DEP_vs_BMI_novelty.csv')\n",
    "#conj1.head()\n",
    "cond1=pd.read_csv('/home/ubuntu/md_cvd_yunhan/combined_tables/condFDR_0.01_DEP_vs_BMI.csv')\n",
    "#cond1.head()\n",
    "cond11=pd.read_csv('/home/ubuntu/md_cvd_yunhan/combined_tables/condFDR_0.01_BMI_vs_DEP.csv')\n",
    "cond11.head()"
   ]
  },
  {
   "cell_type": "code",
   "execution_count": 4,
   "id": "eea79a4f",
   "metadata": {},
   "outputs": [],
   "source": [
    "min1=conj1.MinBP.to_numpy()\n",
    "max1=conj1.MaxBP.to_numpy()\n",
    "c1=conj1.CHR.to_numpy()\n",
    "min12=cond1.MinBP.to_numpy()[:,None]\n",
    "max12=cond1.MaxBP.to_numpy()[:,None]\n",
    "c12=cond1.CHR.to_numpy()[:,None]\n",
    "min21=cond11.MinBP.to_numpy()[:,None]\n",
    "max21=cond11.MaxBP.to_numpy()[:,None]\n",
    "c21=cond11.CHR.to_numpy()[:,None]"
   ]
  },
  {
   "cell_type": "code",
   "execution_count": 10,
   "id": "1d2f24a8",
   "metadata": {},
   "outputs": [],
   "source": [
    "result1=(((c1==c12) & (min1>=min12) & (min1>=max12)) | ((c1==c12) & (max1>=min12) & (max1<=max12)) |\n",
    "         ((c1==c12) & (min1<=min12) & (max1>=max12)))"
   ]
  },
  {
   "cell_type": "code",
   "execution_count": 14,
   "id": "c14155c0",
   "metadata": {},
   "outputs": [
    {
     "data": {
      "text/plain": [
       "(49, 43)"
      ]
     },
     "execution_count": 14,
     "metadata": {},
     "output_type": "execute_result"
    }
   ],
   "source": [
    "result1.shape"
   ]
  },
  {
   "cell_type": "code",
   "execution_count": 15,
   "id": "6cb126f8",
   "metadata": {},
   "outputs": [
    {
     "data": {
      "text/plain": [
       "(43,)"
      ]
     },
     "execution_count": 15,
     "metadata": {},
     "output_type": "execute_result"
    }
   ],
   "source": [
    "min1.shape"
   ]
  },
  {
   "cell_type": "code",
   "execution_count": 16,
   "id": "f9cf178a",
   "metadata": {},
   "outputs": [
    {
     "data": {
      "text/plain": [
       "(49, 1)"
      ]
     },
     "execution_count": 16,
     "metadata": {},
     "output_type": "execute_result"
    }
   ],
   "source": [
    "min12.shape"
   ]
  },
  {
   "cell_type": "code",
   "execution_count": 17,
   "id": "67b2c9da",
   "metadata": {},
   "outputs": [
    {
     "data": {
      "text/plain": [
       "(309, 1)"
      ]
     },
     "execution_count": 17,
     "metadata": {},
     "output_type": "execute_result"
    }
   ],
   "source": [
    "min21.shape"
   ]
  },
  {
   "cell_type": "code",
   "execution_count": 21,
   "id": "2c7f5912",
   "metadata": {},
   "outputs": [
    {
     "data": {
      "text/plain": [
       "(43,)"
      ]
     },
     "execution_count": 21,
     "metadata": {},
     "output_type": "execute_result"
    }
   ],
   "source": [
    "result1.any(axis=0).shape"
   ]
  },
  {
   "cell_type": "code",
   "execution_count": 8,
   "id": "247c9eca",
   "metadata": {},
   "outputs": [
    {
     "data": {
      "text/plain": [
       "array([[ True,  True,  True, ..., False, False, False],\n",
       "       [ True,  True,  True, ..., False, False, False],\n",
       "       [ True,  True,  True, ..., False, False, False],\n",
       "       ...,\n",
       "       [False, False, False, ...,  True, False, False],\n",
       "       [False, False, False, ..., False,  True, False],\n",
       "       [False, False, False, ..., False, False,  True]])"
      ]
     },
     "execution_count": 8,
     "metadata": {},
     "output_type": "execute_result"
    }
   ],
   "source": [
    "c1==c12"
   ]
  },
  {
   "cell_type": "code",
   "execution_count": 7,
   "id": "fd45ba0d",
   "metadata": {},
   "outputs": [
    {
     "data": {
      "text/plain": [
       "array([[False, False, False, ..., False, False, False],\n",
       "       [ True, False, False, ..., False,  True,  True],\n",
       "       [ True,  True, False, ...,  True,  True,  True],\n",
       "       ...,\n",
       "       [ True,  True, False, ...,  True,  True,  True],\n",
       "       [ True, False, False, ..., False, False, False],\n",
       "       [ True, False, False, ..., False,  True, False]])"
      ]
     },
     "execution_count": 7,
     "metadata": {},
     "output_type": "execute_result"
    }
   ],
   "source": [
    "min1<min12"
   ]
  },
  {
   "cell_type": "code",
   "execution_count": 11,
   "id": "fe5227df",
   "metadata": {},
   "outputs": [],
   "source": [
    "result2=((c1==c21) & (min1>=min21) & (min1>=max21) | (c1==c21) & (max1>=min21) & (max1<=max21) |\n",
    "         (c1==c21) & (min1<=min21) & (max1>=max21))"
   ]
  },
  {
   "cell_type": "code",
   "execution_count": 18,
   "id": "38cc2b21",
   "metadata": {},
   "outputs": [],
   "source": [
    "tr1='/home/ubuntu/md_cvd_yunhan/combined_tables/condFDR_0.01_DEP_vs_BMI.csv'\n",
    "tr2=tr1.split('/')[-1].split('_')[-1].split('.')[0]"
   ]
  },
  {
   "cell_type": "code",
   "execution_count": 19,
   "id": "6be9c088",
   "metadata": {},
   "outputs": [],
   "source": [
    "conj1[f'Overlapping_with_condFDR_DEP|{tr2}']=np.where(result1.any(axis=0), 'Yes', 'No')"
   ]
  },
  {
   "cell_type": "code",
   "execution_count": 20,
   "id": "676844be",
   "metadata": {},
   "outputs": [
    {
     "data": {
      "text/html": [
       "<div>\n",
       "<style scoped>\n",
       "    .dataframe tbody tr th:only-of-type {\n",
       "        vertical-align: middle;\n",
       "    }\n",
       "\n",
       "    .dataframe tbody tr th {\n",
       "        vertical-align: top;\n",
       "    }\n",
       "\n",
       "    .dataframe thead th {\n",
       "        text-align: right;\n",
       "    }\n",
       "</style>\n",
       "<table border=\"1\" class=\"dataframe\">\n",
       "  <thead>\n",
       "    <tr style=\"text-align: right;\">\n",
       "      <th></th>\n",
       "      <th>locusnum</th>\n",
       "      <th>CHR</th>\n",
       "      <th>LEAD_SNP</th>\n",
       "      <th>LEAD_BP</th>\n",
       "      <th>MinBP</th>\n",
       "      <th>MaxBP</th>\n",
       "      <th>FDR</th>\n",
       "      <th>A1</th>\n",
       "      <th>A2</th>\n",
       "      <th>nearestGene</th>\n",
       "      <th>...</th>\n",
       "      <th>SE_in_BMI</th>\n",
       "      <th>A1_in_DEP</th>\n",
       "      <th>A1_in_BMI</th>\n",
       "      <th>Z_recalculated_in_DEP</th>\n",
       "      <th>Z_recalculated_in_BMI</th>\n",
       "      <th>ConcordEffect</th>\n",
       "      <th>Novel_in_DEP</th>\n",
       "      <th>is_locus_unique</th>\n",
       "      <th>Overlapping_with_condFDR_DEP|{tr2}</th>\n",
       "      <th>Overlapping_with_condFDR_DEP|BMI</th>\n",
       "    </tr>\n",
       "  </thead>\n",
       "  <tbody>\n",
       "    <tr>\n",
       "      <th>0</th>\n",
       "      <td>1</td>\n",
       "      <td>1</td>\n",
       "      <td>rs10864360</td>\n",
       "      <td>8724522</td>\n",
       "      <td>8457648</td>\n",
       "      <td>8895448</td>\n",
       "      <td>2.327713e-03</td>\n",
       "      <td>T</td>\n",
       "      <td>C</td>\n",
       "      <td>RERE</td>\n",
       "      <td>...</td>\n",
       "      <td>0.0031</td>\n",
       "      <td>T</td>\n",
       "      <td>C</td>\n",
       "      <td>-4.760097</td>\n",
       "      <td>4.092689</td>\n",
       "      <td>No</td>\n",
       "      <td>No</td>\n",
       "      <td>No</td>\n",
       "      <td>No</td>\n",
       "      <td>No</td>\n",
       "    </tr>\n",
       "    <tr>\n",
       "      <th>1</th>\n",
       "      <td>2</td>\n",
       "      <td>1</td>\n",
       "      <td>rs1474910</td>\n",
       "      <td>50192150</td>\n",
       "      <td>49463925</td>\n",
       "      <td>50591851</td>\n",
       "      <td>6.935200e-03</td>\n",
       "      <td>T</td>\n",
       "      <td>C</td>\n",
       "      <td>AGBL4</td>\n",
       "      <td>...</td>\n",
       "      <td>0.0046</td>\n",
       "      <td>T</td>\n",
       "      <td>C</td>\n",
       "      <td>-4.430993</td>\n",
       "      <td>-3.847766</td>\n",
       "      <td>Yes</td>\n",
       "      <td>No</td>\n",
       "      <td>Yes</td>\n",
       "      <td>Yes</td>\n",
       "      <td>Yes</td>\n",
       "    </tr>\n",
       "    <tr>\n",
       "      <th>2</th>\n",
       "      <td>3</td>\n",
       "      <td>1</td>\n",
       "      <td>rs3101336</td>\n",
       "      <td>72751185</td>\n",
       "      <td>72512988</td>\n",
       "      <td>72959039</td>\n",
       "      <td>3.589741e-08</td>\n",
       "      <td>C</td>\n",
       "      <td>T</td>\n",
       "      <td>NEGR1</td>\n",
       "      <td>...</td>\n",
       "      <td>0.0031</td>\n",
       "      <td>T</td>\n",
       "      <td>T</td>\n",
       "      <td>7.552372</td>\n",
       "      <td>10.610577</td>\n",
       "      <td>Yes</td>\n",
       "      <td>No</td>\n",
       "      <td>No</td>\n",
       "      <td>Yes</td>\n",
       "      <td>Yes</td>\n",
       "    </tr>\n",
       "    <tr>\n",
       "      <th>3</th>\n",
       "      <td>4</td>\n",
       "      <td>1</td>\n",
       "      <td>rs6680839</td>\n",
       "      <td>175902596</td>\n",
       "      <td>175902596</td>\n",
       "      <td>176416712</td>\n",
       "      <td>4.122523e-03</td>\n",
       "      <td>T</td>\n",
       "      <td>C</td>\n",
       "      <td>RP11-318C24.1</td>\n",
       "      <td>...</td>\n",
       "      <td>0.0041</td>\n",
       "      <td>T</td>\n",
       "      <td>C</td>\n",
       "      <td>-4.897933</td>\n",
       "      <td>-3.707277</td>\n",
       "      <td>Yes</td>\n",
       "      <td>No</td>\n",
       "      <td>Yes</td>\n",
       "      <td>Yes</td>\n",
       "      <td>Yes</td>\n",
       "    </tr>\n",
       "    <tr>\n",
       "      <th>4</th>\n",
       "      <td>5</td>\n",
       "      <td>1</td>\n",
       "      <td>rs10489219</td>\n",
       "      <td>177326069</td>\n",
       "      <td>177309490</td>\n",
       "      <td>177428790</td>\n",
       "      <td>1.877427e-02</td>\n",
       "      <td>G</td>\n",
       "      <td>A</td>\n",
       "      <td>RP1-35C21.1</td>\n",
       "      <td>...</td>\n",
       "      <td>0.0055</td>\n",
       "      <td>A</td>\n",
       "      <td>A</td>\n",
       "      <td>-4.173618</td>\n",
       "      <td>-3.256991</td>\n",
       "      <td>Yes</td>\n",
       "      <td>No</td>\n",
       "      <td>Yes</td>\n",
       "      <td>Yes</td>\n",
       "      <td>Yes</td>\n",
       "    </tr>\n",
       "  </tbody>\n",
       "</table>\n",
       "<p>5 rows × 33 columns</p>\n",
       "</div>"
      ],
      "text/plain": [
       "   locusnum  CHR    LEAD_SNP    LEAD_BP      MinBP      MaxBP           FDR  \\\n",
       "0         1    1  rs10864360    8724522    8457648    8895448  2.327713e-03   \n",
       "1         2    1   rs1474910   50192150   49463925   50591851  6.935200e-03   \n",
       "2         3    1   rs3101336   72751185   72512988   72959039  3.589741e-08   \n",
       "3         4    1   rs6680839  175902596  175902596  176416712  4.122523e-03   \n",
       "4         5    1  rs10489219  177326069  177309490  177428790  1.877427e-02   \n",
       "\n",
       "  A1 A2    nearestGene  ... SE_in_BMI A1_in_DEP  A1_in_BMI  \\\n",
       "0  T  C           RERE  ...    0.0031         T          C   \n",
       "1  T  C          AGBL4  ...    0.0046         T          C   \n",
       "2  C  T          NEGR1  ...    0.0031         T          T   \n",
       "3  T  C  RP11-318C24.1  ...    0.0041         T          C   \n",
       "4  G  A    RP1-35C21.1  ...    0.0055         A          A   \n",
       "\n",
       "  Z_recalculated_in_DEP  Z_recalculated_in_BMI  ConcordEffect  Novel_in_DEP  \\\n",
       "0             -4.760097               4.092689             No            No   \n",
       "1             -4.430993              -3.847766            Yes            No   \n",
       "2              7.552372              10.610577            Yes            No   \n",
       "3             -4.897933              -3.707277            Yes            No   \n",
       "4             -4.173618              -3.256991            Yes            No   \n",
       "\n",
       "   is_locus_unique  Overlapping_with_condFDR_DEP|{tr2}  \\\n",
       "0               No                                  No   \n",
       "1              Yes                                 Yes   \n",
       "2               No                                 Yes   \n",
       "3              Yes                                 Yes   \n",
       "4              Yes                                 Yes   \n",
       "\n",
       "   Overlapping_with_condFDR_DEP|BMI  \n",
       "0                                No  \n",
       "1                               Yes  \n",
       "2                               Yes  \n",
       "3                               Yes  \n",
       "4                               Yes  \n",
       "\n",
       "[5 rows x 33 columns]"
      ]
     },
     "execution_count": 20,
     "metadata": {},
     "output_type": "execute_result"
    }
   ],
   "source": [
    "conj1.head()"
   ]
  },
  {
   "cell_type": "code",
   "execution_count": 21,
   "id": "7b96485f",
   "metadata": {},
   "outputs": [
    {
     "data": {
      "text/html": [
       "<div>\n",
       "<style scoped>\n",
       "    .dataframe tbody tr th:only-of-type {\n",
       "        vertical-align: middle;\n",
       "    }\n",
       "\n",
       "    .dataframe tbody tr th {\n",
       "        vertical-align: top;\n",
       "    }\n",
       "\n",
       "    .dataframe thead th {\n",
       "        text-align: right;\n",
       "    }\n",
       "</style>\n",
       "<table border=\"1\" class=\"dataframe\">\n",
       "  <thead>\n",
       "    <tr style=\"text-align: right;\">\n",
       "      <th></th>\n",
       "      <th>locusnum</th>\n",
       "      <th>CHR</th>\n",
       "      <th>LEAD_SNP</th>\n",
       "      <th>LEAD_BP</th>\n",
       "      <th>MinBP</th>\n",
       "      <th>MaxBP</th>\n",
       "      <th>FDR</th>\n",
       "      <th>A1</th>\n",
       "      <th>A2</th>\n",
       "      <th>nearestGene</th>\n",
       "      <th>...</th>\n",
       "      <th>A1_in_DEP</th>\n",
       "      <th>A1_in_BMI</th>\n",
       "      <th>Z_recalculated_in_DEP</th>\n",
       "      <th>Z_recalculated_in_BMI</th>\n",
       "      <th>ConcordEffect</th>\n",
       "      <th>Novel_in_DEP</th>\n",
       "      <th>is_locus_unique</th>\n",
       "      <th>Overlapping_with_condFDR_DEP|{tr2}</th>\n",
       "      <th>Overlapping_with_condFDR_DEP|BMI</th>\n",
       "      <th>Overlapping_with_condFDR_BMI|DEP</th>\n",
       "    </tr>\n",
       "  </thead>\n",
       "  <tbody>\n",
       "    <tr>\n",
       "      <th>0</th>\n",
       "      <td>1</td>\n",
       "      <td>1</td>\n",
       "      <td>rs10864360</td>\n",
       "      <td>8724522</td>\n",
       "      <td>8457648</td>\n",
       "      <td>8895448</td>\n",
       "      <td>2.327713e-03</td>\n",
       "      <td>T</td>\n",
       "      <td>C</td>\n",
       "      <td>RERE</td>\n",
       "      <td>...</td>\n",
       "      <td>T</td>\n",
       "      <td>C</td>\n",
       "      <td>-4.760097</td>\n",
       "      <td>4.092689</td>\n",
       "      <td>No</td>\n",
       "      <td>No</td>\n",
       "      <td>No</td>\n",
       "      <td>No</td>\n",
       "      <td>No</td>\n",
       "      <td>Yes</td>\n",
       "    </tr>\n",
       "    <tr>\n",
       "      <th>1</th>\n",
       "      <td>2</td>\n",
       "      <td>1</td>\n",
       "      <td>rs1474910</td>\n",
       "      <td>50192150</td>\n",
       "      <td>49463925</td>\n",
       "      <td>50591851</td>\n",
       "      <td>6.935200e-03</td>\n",
       "      <td>T</td>\n",
       "      <td>C</td>\n",
       "      <td>AGBL4</td>\n",
       "      <td>...</td>\n",
       "      <td>T</td>\n",
       "      <td>C</td>\n",
       "      <td>-4.430993</td>\n",
       "      <td>-3.847766</td>\n",
       "      <td>Yes</td>\n",
       "      <td>No</td>\n",
       "      <td>Yes</td>\n",
       "      <td>Yes</td>\n",
       "      <td>Yes</td>\n",
       "      <td>Yes</td>\n",
       "    </tr>\n",
       "    <tr>\n",
       "      <th>2</th>\n",
       "      <td>3</td>\n",
       "      <td>1</td>\n",
       "      <td>rs3101336</td>\n",
       "      <td>72751185</td>\n",
       "      <td>72512988</td>\n",
       "      <td>72959039</td>\n",
       "      <td>3.589741e-08</td>\n",
       "      <td>C</td>\n",
       "      <td>T</td>\n",
       "      <td>NEGR1</td>\n",
       "      <td>...</td>\n",
       "      <td>T</td>\n",
       "      <td>T</td>\n",
       "      <td>7.552372</td>\n",
       "      <td>10.610577</td>\n",
       "      <td>Yes</td>\n",
       "      <td>No</td>\n",
       "      <td>No</td>\n",
       "      <td>Yes</td>\n",
       "      <td>Yes</td>\n",
       "      <td>Yes</td>\n",
       "    </tr>\n",
       "    <tr>\n",
       "      <th>3</th>\n",
       "      <td>4</td>\n",
       "      <td>1</td>\n",
       "      <td>rs6680839</td>\n",
       "      <td>175902596</td>\n",
       "      <td>175902596</td>\n",
       "      <td>176416712</td>\n",
       "      <td>4.122523e-03</td>\n",
       "      <td>T</td>\n",
       "      <td>C</td>\n",
       "      <td>RP11-318C24.1</td>\n",
       "      <td>...</td>\n",
       "      <td>T</td>\n",
       "      <td>C</td>\n",
       "      <td>-4.897933</td>\n",
       "      <td>-3.707277</td>\n",
       "      <td>Yes</td>\n",
       "      <td>No</td>\n",
       "      <td>Yes</td>\n",
       "      <td>Yes</td>\n",
       "      <td>Yes</td>\n",
       "      <td>Yes</td>\n",
       "    </tr>\n",
       "    <tr>\n",
       "      <th>4</th>\n",
       "      <td>5</td>\n",
       "      <td>1</td>\n",
       "      <td>rs10489219</td>\n",
       "      <td>177326069</td>\n",
       "      <td>177309490</td>\n",
       "      <td>177428790</td>\n",
       "      <td>1.877427e-02</td>\n",
       "      <td>G</td>\n",
       "      <td>A</td>\n",
       "      <td>RP1-35C21.1</td>\n",
       "      <td>...</td>\n",
       "      <td>A</td>\n",
       "      <td>A</td>\n",
       "      <td>-4.173618</td>\n",
       "      <td>-3.256991</td>\n",
       "      <td>Yes</td>\n",
       "      <td>No</td>\n",
       "      <td>Yes</td>\n",
       "      <td>Yes</td>\n",
       "      <td>Yes</td>\n",
       "      <td>Yes</td>\n",
       "    </tr>\n",
       "  </tbody>\n",
       "</table>\n",
       "<p>5 rows × 34 columns</p>\n",
       "</div>"
      ],
      "text/plain": [
       "   locusnum  CHR    LEAD_SNP    LEAD_BP      MinBP      MaxBP           FDR  \\\n",
       "0         1    1  rs10864360    8724522    8457648    8895448  2.327713e-03   \n",
       "1         2    1   rs1474910   50192150   49463925   50591851  6.935200e-03   \n",
       "2         3    1   rs3101336   72751185   72512988   72959039  3.589741e-08   \n",
       "3         4    1   rs6680839  175902596  175902596  176416712  4.122523e-03   \n",
       "4         5    1  rs10489219  177326069  177309490  177428790  1.877427e-02   \n",
       "\n",
       "  A1 A2    nearestGene  ... A1_in_DEP A1_in_BMI  Z_recalculated_in_DEP  \\\n",
       "0  T  C           RERE  ...         T         C              -4.760097   \n",
       "1  T  C          AGBL4  ...         T         C              -4.430993   \n",
       "2  C  T          NEGR1  ...         T         T               7.552372   \n",
       "3  T  C  RP11-318C24.1  ...         T         C              -4.897933   \n",
       "4  G  A    RP1-35C21.1  ...         A         A              -4.173618   \n",
       "\n",
       "  Z_recalculated_in_BMI  ConcordEffect  Novel_in_DEP  is_locus_unique  \\\n",
       "0              4.092689             No            No               No   \n",
       "1             -3.847766            Yes            No              Yes   \n",
       "2             10.610577            Yes            No               No   \n",
       "3             -3.707277            Yes            No              Yes   \n",
       "4             -3.256991            Yes            No              Yes   \n",
       "\n",
       "   Overlapping_with_condFDR_DEP|{tr2}  Overlapping_with_condFDR_DEP|BMI  \\\n",
       "0                                  No                                No   \n",
       "1                                 Yes                               Yes   \n",
       "2                                 Yes                               Yes   \n",
       "3                                 Yes                               Yes   \n",
       "4                                 Yes                               Yes   \n",
       "\n",
       "   Overlapping_with_condFDR_BMI|DEP  \n",
       "0                               Yes  \n",
       "1                               Yes  \n",
       "2                               Yes  \n",
       "3                               Yes  \n",
       "4                               Yes  \n",
       "\n",
       "[5 rows x 34 columns]"
      ]
     },
     "execution_count": 21,
     "metadata": {},
     "output_type": "execute_result"
    }
   ],
   "source": [
    "conj1[f'Overlapping_with_condFDR_{tr2}|DEP']=np.where(result2.any(axis=0), 'Yes', 'No')\n",
    "conj1.head()"
   ]
  },
  {
   "cell_type": "code",
   "execution_count": 22,
   "id": "32c98fed",
   "metadata": {},
   "outputs": [
    {
     "data": {
      "text/plain": [
       "Yes    42\n",
       "No      1\n",
       "Name: Overlapping_with_condFDR_BMI|DEP, dtype: int64"
      ]
     },
     "execution_count": 22,
     "metadata": {},
     "output_type": "execute_result"
    }
   ],
   "source": [
    "conj1[f'Overlapping_with_condFDR_{tr2}|DEP'].value_counts()"
   ]
  },
  {
   "cell_type": "code",
   "execution_count": 24,
   "id": "26bb0e79",
   "metadata": {},
   "outputs": [
    {
     "data": {
      "text/plain": [
       "Yes    36\n",
       "No      7\n",
       "Name: Overlapping_with_condFDR_DEP|BMI, dtype: int64"
      ]
     },
     "execution_count": 24,
     "metadata": {},
     "output_type": "execute_result"
    }
   ],
   "source": [
    "conj1[f'Overlapping_with_condFDR_DEP|{tr2}'].value_counts()"
   ]
  },
  {
   "cell_type": "code",
   "execution_count": 25,
   "id": "3a2aa863",
   "metadata": {},
   "outputs": [],
   "source": [
    "def overlapping_loci(conj,cond,cond2):\n",
    "    \n",
    "    #Read the inputs as dataframe\n",
    "    conj1=pd.read_csv(conj)\n",
    "    cond1=pd.read_csv(cond)\n",
    "    cond11=pd.read_csv(cond2)\n",
    "    \n",
    "    #Convert the related columns into numpy array\n",
    "    min1=conj1.MinBP.to_numpy()\n",
    "    max1=conj1.MaxBP.to_numpy()\n",
    "    c1=conj1.CHR.to_numpy()\n",
    "    min12=cond1.MinBP.to_numpy()[:,None]\n",
    "    max12=cond1.MaxBP.to_numpy()[:,None]\n",
    "    c12=cond1.CHR.to_numpy()[:,None]\n",
    "    min21=cond11.MinBP.to_numpy()[:,None]\n",
    "    max21=cond11.MaxBP.to_numpy()[:,None]\n",
    "    c21=cond11.CHR.to_numpy()[:,None]\n",
    "    \n",
    "    #Define the conditions of overlaps\n",
    "    result1=(((c1==c12) & (min1>=min12) & (min1<=max12)) | ((c1==c12) & (max1>=min12) & (max1<=max12)) |\n",
    "         ((c1==c12) & (min1<=min12) & (max1>=max12)))\n",
    "    result2=(((c1==c21) & (min1>=min21) & (min1<=max21)) | ((c1==c21) & (max1>=min21) & (max1<=max21)) |\n",
    "         ((c1==c21) & (min1<=min21) & (max1>=max21)))\n",
    "    \n",
    "    #Trait name\n",
    "    tr2=cond.split('/')[-1].split('_')[-1].split('.')[0]\n",
    "    \n",
    "    #Populate new columns with above conditions\n",
    "    conj1[f'Overlapping_with_condFDR_DEP|{tr2}']=np.where(result1.any(axis=0), 'Yes', 'No')\n",
    "    conj1[f'Overlapping_with_condFDR_{tr2}|DEP']=np.where(result2.any(axis=0), 'Yes', 'No')\n",
    "    \n",
    "    #Write results and get outputs\n",
    "    conj1.to_csv(f'/home/ubuntu/md_cvd_yunhan/combined_tables/conjFDR_0.05_DEP_vs_{tr2}_novelty_with_overlaps.csv',index=False)\n",
    "    \n",
    "    return conj1[f'Overlapping_with_condFDR_DEP|{tr2}'].value_counts(),conj1[f'Overlapping_with_condFDR_{tr2}|DEP'].value_counts()"
   ]
  },
  {
   "cell_type": "code",
   "execution_count": 41,
   "id": "5b94eca4",
   "metadata": {},
   "outputs": [
    {
     "data": {
      "text/plain": [
       "(Yes    25\n",
       " No     18\n",
       " Name: Overlapping_with_condFDR_DEP|BMI, dtype: int64,\n",
       " Yes    27\n",
       " No     16\n",
       " Name: Overlapping_with_condFDR_BMI|DEP, dtype: int64)"
      ]
     },
     "execution_count": 41,
     "metadata": {},
     "output_type": "execute_result"
    }
   ],
   "source": [
    "overlapping_loci('/home/ubuntu/md_cvd_yunhan/combined_tables/conjFDR_0.05_DEP_vs_BMI_novelty.csv',\n",
    "                '/home/ubuntu/md_cvd_yunhan/combined_tables/condFDR_0.01_DEP_vs_BMI.csv',\n",
    "                '/home/ubuntu/md_cvd_yunhan/combined_tables/condFDR_0.01_BMI_vs_DEP.csv')"
   ]
  },
  {
   "cell_type": "code",
   "execution_count": 27,
   "id": "0e892f8e",
   "metadata": {},
   "outputs": [
    {
     "data": {
      "text/plain": [
       "(Yes    4\n",
       " No     2\n",
       " Name: Overlapping_with_condFDR_DEP|CAD, dtype: int64,\n",
       " Yes    3\n",
       " No     3\n",
       " Name: Overlapping_with_condFDR_CAD|DEP, dtype: int64)"
      ]
     },
     "execution_count": 27,
     "metadata": {},
     "output_type": "execute_result"
    }
   ],
   "source": [
    "overlapping_loci('/home/ubuntu/md_cvd_yunhan/combined_tables/conjFDR_0.05_DEP_vs_CAD_novelty.csv',\n",
    "                '/home/ubuntu/md_cvd_yunhan/combined_tables/condFDR_0.01_DEP_vs_CAD.csv',\n",
    "                '/home/ubuntu/md_cvd_yunhan/combined_tables/condFDR_0.01_CAD_vs_DEP.csv')"
   ]
  },
  {
   "cell_type": "code",
   "execution_count": 28,
   "id": "a66a63b9",
   "metadata": {},
   "outputs": [
    {
     "data": {
      "text/plain": [
       "(No     5\n",
       " Yes    3\n",
       " Name: Overlapping_with_condFDR_DEP|CRP, dtype: int64,\n",
       " Yes    4\n",
       " No     4\n",
       " Name: Overlapping_with_condFDR_CRP|DEP, dtype: int64)"
      ]
     },
     "execution_count": 28,
     "metadata": {},
     "output_type": "execute_result"
    }
   ],
   "source": [
    "overlapping_loci('/home/ubuntu/md_cvd_yunhan/combined_tables/conjFDR_0.05_DEP_vs_CRP_novelty.csv',\n",
    "                '/home/ubuntu/md_cvd_yunhan/combined_tables/condFDR_0.01_DEP_vs_CRP.csv',\n",
    "                '/home/ubuntu/md_cvd_yunhan/combined_tables/condFDR_0.01_CRP_vs_DEP.csv')"
   ]
  },
  {
   "cell_type": "code",
   "execution_count": 29,
   "id": "7aae41c3",
   "metadata": {},
   "outputs": [
    {
     "data": {
      "text/plain": [
       "(Yes    16\n",
       " No     15\n",
       " Name: Overlapping_with_condFDR_DEP|DBP, dtype: int64,\n",
       " Yes    18\n",
       " No     13\n",
       " Name: Overlapping_with_condFDR_DBP|DEP, dtype: int64)"
      ]
     },
     "execution_count": 29,
     "metadata": {},
     "output_type": "execute_result"
    }
   ],
   "source": [
    "overlapping_loci('/home/ubuntu/md_cvd_yunhan/combined_tables/conjFDR_0.05_DEP_vs_DBP_novelty.csv',\n",
    "                '/home/ubuntu/md_cvd_yunhan/combined_tables/condFDR_0.01_DEP_vs_DBP.csv',\n",
    "                '/home/ubuntu/md_cvd_yunhan/combined_tables/condFDR_0.01_DBP_vs_DEP.csv')"
   ]
  },
  {
   "cell_type": "code",
   "execution_count": 30,
   "id": "7a29ef6c",
   "metadata": {},
   "outputs": [
    {
     "data": {
      "text/plain": [
       "(No     8\n",
       " Yes    6\n",
       " Name: Overlapping_with_condFDR_DEP|HDL, dtype: int64,\n",
       " Yes    9\n",
       " No     5\n",
       " Name: Overlapping_with_condFDR_HDL|DEP, dtype: int64)"
      ]
     },
     "execution_count": 30,
     "metadata": {},
     "output_type": "execute_result"
    }
   ],
   "source": [
    "overlapping_loci('/home/ubuntu/md_cvd_yunhan/combined_tables/conjFDR_0.05_DEP_vs_HDL_novelty.csv',\n",
    "                '/home/ubuntu/md_cvd_yunhan/combined_tables/condFDR_0.01_DEP_vs_HDL.csv',\n",
    "                '/home/ubuntu/md_cvd_yunhan/combined_tables/condFDR_0.01_HDL_vs_DEP.csv')"
   ]
  },
  {
   "cell_type": "code",
   "execution_count": 31,
   "id": "448f8ff8",
   "metadata": {},
   "outputs": [
    {
     "data": {
      "text/plain": [
       "(Yes    9\n",
       " No     1\n",
       " Name: Overlapping_with_condFDR_DEP|LDL, dtype: int64,\n",
       " No     5\n",
       " Yes    5\n",
       " Name: Overlapping_with_condFDR_LDL|DEP, dtype: int64)"
      ]
     },
     "execution_count": 31,
     "metadata": {},
     "output_type": "execute_result"
    }
   ],
   "source": [
    "overlapping_loci('/home/ubuntu/md_cvd_yunhan/combined_tables/conjFDR_0.05_DEP_vs_LDL_novelty.csv',\n",
    "                '/home/ubuntu/md_cvd_yunhan/combined_tables/condFDR_0.01_DEP_vs_LDL.csv',\n",
    "                '/home/ubuntu/md_cvd_yunhan/combined_tables/condFDR_0.01_LDL_vs_DEP.csv')"
   ]
  },
  {
   "cell_type": "code",
   "execution_count": 32,
   "id": "d633c171",
   "metadata": {},
   "outputs": [
    {
     "data": {
      "text/plain": [
       "(No     21\n",
       " Yes    17\n",
       " Name: Overlapping_with_condFDR_DEP|SBP, dtype: int64,\n",
       " Yes    26\n",
       " No     12\n",
       " Name: Overlapping_with_condFDR_SBP|DEP, dtype: int64)"
      ]
     },
     "execution_count": 32,
     "metadata": {},
     "output_type": "execute_result"
    }
   ],
   "source": [
    "overlapping_loci('/home/ubuntu/md_cvd_yunhan/combined_tables/conjFDR_0.05_DEP_vs_SBP_novelty.csv',\n",
    "                '/home/ubuntu/md_cvd_yunhan/combined_tables/condFDR_0.01_DEP_vs_SBP.csv',\n",
    "                '/home/ubuntu/md_cvd_yunhan/combined_tables/condFDR_0.01_SBP_vs_DEP.csv')"
   ]
  },
  {
   "cell_type": "code",
   "execution_count": 33,
   "id": "ad657598",
   "metadata": {},
   "outputs": [
    {
     "data": {
      "text/plain": [
       "(No     5\n",
       " Yes    4\n",
       " Name: Overlapping_with_condFDR_DEP|T2D, dtype: int64,\n",
       " No     6\n",
       " Yes    3\n",
       " Name: Overlapping_with_condFDR_T2D|DEP, dtype: int64)"
      ]
     },
     "execution_count": 33,
     "metadata": {},
     "output_type": "execute_result"
    }
   ],
   "source": [
    "overlapping_loci('/home/ubuntu/md_cvd_yunhan/combined_tables/conjFDR_0.05_DEP_vs_T2D_novelty.csv',\n",
    "                '/home/ubuntu/md_cvd_yunhan/combined_tables/condFDR_0.01_DEP_vs_T2D.csv',\n",
    "                '/home/ubuntu/md_cvd_yunhan/combined_tables/condFDR_0.01_T2D_vs_DEP.csv')"
   ]
  },
  {
   "cell_type": "code",
   "execution_count": 34,
   "id": "c8f01d6c",
   "metadata": {},
   "outputs": [
    {
     "data": {
      "text/plain": [
       "(Yes    9\n",
       " No     2\n",
       " Name: Overlapping_with_condFDR_DEP|TC, dtype: int64,\n",
       " Yes    8\n",
       " No     3\n",
       " Name: Overlapping_with_condFDR_TC|DEP, dtype: int64)"
      ]
     },
     "execution_count": 34,
     "metadata": {},
     "output_type": "execute_result"
    }
   ],
   "source": [
    "overlapping_loci('/home/ubuntu/md_cvd_yunhan/combined_tables/conjFDR_0.05_DEP_vs_TC_novelty.csv',\n",
    "                '/home/ubuntu/md_cvd_yunhan/combined_tables/condFDR_0.01_DEP_vs_TC.csv',\n",
    "                '/home/ubuntu/md_cvd_yunhan/combined_tables/condFDR_0.01_TC_vs_DEP.csv')"
   ]
  },
  {
   "cell_type": "code",
   "execution_count": 35,
   "id": "84d0e350",
   "metadata": {},
   "outputs": [
    {
     "data": {
      "text/plain": [
       "(No     8\n",
       " Yes    6\n",
       " Name: Overlapping_with_condFDR_DEP|TG, dtype: int64,\n",
       " Yes    13\n",
       " No      1\n",
       " Name: Overlapping_with_condFDR_TG|DEP, dtype: int64)"
      ]
     },
     "execution_count": 35,
     "metadata": {},
     "output_type": "execute_result"
    }
   ],
   "source": [
    "overlapping_loci('/home/ubuntu/md_cvd_yunhan/combined_tables/conjFDR_0.05_DEP_vs_TG_novelty.csv',\n",
    "                '/home/ubuntu/md_cvd_yunhan/combined_tables/condFDR_0.01_DEP_vs_TG.csv',\n",
    "                '/home/ubuntu/md_cvd_yunhan/combined_tables/condFDR_0.01_TG_vs_DEP.csv')"
   ]
  },
  {
   "cell_type": "code",
   "execution_count": 38,
   "id": "8ff650d6",
   "metadata": {},
   "outputs": [
    {
     "data": {
      "text/plain": [
       "'BMI'"
      ]
     },
     "execution_count": 38,
     "metadata": {},
     "output_type": "execute_result"
    }
   ],
   "source": [
    "tr2='/home/ubuntu/md_cvd_yunhan/combined_tables/conjFDR_0.05_DEP_vs_BMI_novelty_with_overlaps.csv'\n",
    "tr2.split('/')[-1].split('_')[4]"
   ]
  },
  {
   "cell_type": "code",
   "execution_count": 40,
   "id": "989a790a",
   "metadata": {},
   "outputs": [],
   "source": [
    "w14 = ExcelWriter('/home/ubuntu/md_cvd_yunhan/combined_tables/conjFDR_0.05_DEP_vs_TRAIT2_novelty_with_overlap.xlsx')\n",
    "for filename in glob.glob('/home/ubuntu/md_cvd_yunhan/combined_tables/conjFDR_0.05_DEP_vs_*_novelty_with_overlaps.csv'):\n",
    "    go1=pd.read_csv(filename)\n",
    "    trait1=filename.split('/')[-1].split('_')[2].upper()\n",
    "    trait2=filename.split('/')[-1].split('_')[4].upper()\n",
    "    #go2=go1.loc[go1.is_locus_unique == 'Yes']\n",
    "    go1.to_excel(w14, sheet_name=f'{trait1}_{trait2}',index=False)\n",
    "    w14.save()"
   ]
  },
  {
   "cell_type": "code",
   "execution_count": 43,
   "id": "6184f0e6",
   "metadata": {},
   "outputs": [
    {
     "data": {
      "text/html": [
       "<div>\n",
       "<style scoped>\n",
       "    .dataframe tbody tr th:only-of-type {\n",
       "        vertical-align: middle;\n",
       "    }\n",
       "\n",
       "    .dataframe tbody tr th {\n",
       "        vertical-align: top;\n",
       "    }\n",
       "\n",
       "    .dataframe thead th {\n",
       "        text-align: right;\n",
       "    }\n",
       "</style>\n",
       "<table border=\"1\" class=\"dataframe\">\n",
       "  <thead>\n",
       "    <tr style=\"text-align: right;\">\n",
       "      <th></th>\n",
       "      <th>locusnum</th>\n",
       "      <th>CHR</th>\n",
       "      <th>LEAD_SNP</th>\n",
       "      <th>LEAD_BP</th>\n",
       "      <th>MinBP</th>\n",
       "      <th>MaxBP</th>\n",
       "      <th>FDR</th>\n",
       "      <th>is_locus_lead</th>\n",
       "    </tr>\n",
       "  </thead>\n",
       "  <tbody>\n",
       "    <tr>\n",
       "      <th>0</th>\n",
       "      <td>1</td>\n",
       "      <td>1</td>\n",
       "      <td>rs10890013</td>\n",
       "      <td>73639751</td>\n",
       "      <td>73282691</td>\n",
       "      <td>73758117</td>\n",
       "      <td>0.003334</td>\n",
       "      <td>True</td>\n",
       "    </tr>\n",
       "    <tr>\n",
       "      <th>1</th>\n",
       "      <td>2</td>\n",
       "      <td>6</td>\n",
       "      <td>rs9266242</td>\n",
       "      <td>31325620</td>\n",
       "      <td>31252396</td>\n",
       "      <td>31346898</td>\n",
       "      <td>0.003529</td>\n",
       "      <td>True</td>\n",
       "    </tr>\n",
       "    <tr>\n",
       "      <th>2</th>\n",
       "      <td>3</td>\n",
       "      <td>10</td>\n",
       "      <td>rs7073340</td>\n",
       "      <td>76402277</td>\n",
       "      <td>75867193</td>\n",
       "      <td>76421529</td>\n",
       "      <td>0.027694</td>\n",
       "      <td>True</td>\n",
       "    </tr>\n",
       "    <tr>\n",
       "      <th>3</th>\n",
       "      <td>4</td>\n",
       "      <td>11</td>\n",
       "      <td>rs174541</td>\n",
       "      <td>61565908</td>\n",
       "      <td>61542006</td>\n",
       "      <td>61624181</td>\n",
       "      <td>0.041173</td>\n",
       "      <td>True</td>\n",
       "    </tr>\n",
       "    <tr>\n",
       "      <th>4</th>\n",
       "      <td>5</td>\n",
       "      <td>12</td>\n",
       "      <td>rs2004910</td>\n",
       "      <td>121374727</td>\n",
       "      <td>121189116</td>\n",
       "      <td>121378566</td>\n",
       "      <td>0.009746</td>\n",
       "      <td>True</td>\n",
       "    </tr>\n",
       "  </tbody>\n",
       "</table>\n",
       "</div>"
      ],
      "text/plain": [
       "   locusnum  CHR    LEAD_SNP    LEAD_BP      MinBP      MaxBP       FDR  \\\n",
       "0         1    1  rs10890013   73639751   73282691   73758117  0.003334   \n",
       "1         2    6   rs9266242   31325620   31252396   31346898  0.003529   \n",
       "2         3   10   rs7073340   76402277   75867193   76421529  0.027694   \n",
       "3         4   11    rs174541   61565908   61542006   61624181  0.041173   \n",
       "4         5   12   rs2004910  121374727  121189116  121378566  0.009746   \n",
       "\n",
       "   is_locus_lead  \n",
       "0           True  \n",
       "1           True  \n",
       "2           True  \n",
       "3           True  \n",
       "4           True  "
      ]
     },
     "execution_count": 43,
     "metadata": {},
     "output_type": "execute_result"
    }
   ],
   "source": [
    "car1=pd.read_csv('/home/ubuntu/md_cvd_yunhan/pleiofdr_mdd/PGC_MDD_2018_with23andMe_noUKBB_vs_CARDIOGRAM_CAD_2017_UKB_conjfdr/conj.result.clump.lead.csv',sep='\\t')\n",
    "car1.head()"
   ]
  },
  {
   "cell_type": "code",
   "execution_count": 51,
   "id": "d6d229b4",
   "metadata": {},
   "outputs": [
    {
     "data": {
      "text/html": [
       "<div>\n",
       "<style scoped>\n",
       "    .dataframe tbody tr th:only-of-type {\n",
       "        vertical-align: middle;\n",
       "    }\n",
       "\n",
       "    .dataframe tbody tr th {\n",
       "        vertical-align: top;\n",
       "    }\n",
       "\n",
       "    .dataframe thead th {\n",
       "        text-align: right;\n",
       "    }\n",
       "</style>\n",
       "<table border=\"1\" class=\"dataframe\">\n",
       "  <thead>\n",
       "    <tr style=\"text-align: right;\">\n",
       "      <th></th>\n",
       "      <th>locusnum</th>\n",
       "      <th>CHR</th>\n",
       "      <th>LEAD_SNP</th>\n",
       "      <th>LEAD_BP</th>\n",
       "      <th>MinBP</th>\n",
       "      <th>MaxBP</th>\n",
       "      <th>FDR</th>\n",
       "      <th>is_locus_lead</th>\n",
       "    </tr>\n",
       "  </thead>\n",
       "  <tbody>\n",
       "    <tr>\n",
       "      <th>0</th>\n",
       "      <td>1</td>\n",
       "      <td>1</td>\n",
       "      <td>rs10890013</td>\n",
       "      <td>73639751</td>\n",
       "      <td>73282691</td>\n",
       "      <td>73758117</td>\n",
       "      <td>0.003334</td>\n",
       "      <td>True</td>\n",
       "    </tr>\n",
       "    <tr>\n",
       "      <th>1</th>\n",
       "      <td>2</td>\n",
       "      <td>6</td>\n",
       "      <td>rs9266242</td>\n",
       "      <td>31325620</td>\n",
       "      <td>31252396</td>\n",
       "      <td>31346898</td>\n",
       "      <td>0.003529</td>\n",
       "      <td>True</td>\n",
       "    </tr>\n",
       "    <tr>\n",
       "      <th>2</th>\n",
       "      <td>3</td>\n",
       "      <td>10</td>\n",
       "      <td>rs7073340</td>\n",
       "      <td>76402277</td>\n",
       "      <td>75867193</td>\n",
       "      <td>76421529</td>\n",
       "      <td>0.027694</td>\n",
       "      <td>True</td>\n",
       "    </tr>\n",
       "    <tr>\n",
       "      <th>3</th>\n",
       "      <td>4</td>\n",
       "      <td>11</td>\n",
       "      <td>rs174541</td>\n",
       "      <td>61565908</td>\n",
       "      <td>61542006</td>\n",
       "      <td>61624181</td>\n",
       "      <td>0.041173</td>\n",
       "      <td>True</td>\n",
       "    </tr>\n",
       "    <tr>\n",
       "      <th>4</th>\n",
       "      <td>5</td>\n",
       "      <td>12</td>\n",
       "      <td>rs2004910</td>\n",
       "      <td>121374727</td>\n",
       "      <td>121189116</td>\n",
       "      <td>121378566</td>\n",
       "      <td>0.009746</td>\n",
       "      <td>True</td>\n",
       "    </tr>\n",
       "    <tr>\n",
       "      <th>5</th>\n",
       "      <td>6</td>\n",
       "      <td>14</td>\n",
       "      <td>rs59618196</td>\n",
       "      <td>42297825</td>\n",
       "      <td>42213816</td>\n",
       "      <td>42319865</td>\n",
       "      <td>0.021259</td>\n",
       "      <td>True</td>\n",
       "    </tr>\n",
       "  </tbody>\n",
       "</table>\n",
       "</div>"
      ],
      "text/plain": [
       "   locusnum  CHR    LEAD_SNP    LEAD_BP      MinBP      MaxBP       FDR  \\\n",
       "0         1    1  rs10890013   73639751   73282691   73758117  0.003334   \n",
       "1         2    6   rs9266242   31325620   31252396   31346898  0.003529   \n",
       "2         3   10   rs7073340   76402277   75867193   76421529  0.027694   \n",
       "3         4   11    rs174541   61565908   61542006   61624181  0.041173   \n",
       "4         5   12   rs2004910  121374727  121189116  121378566  0.009746   \n",
       "5         6   14  rs59618196   42297825   42213816   42319865  0.021259   \n",
       "\n",
       "   is_locus_lead  \n",
       "0           True  \n",
       "1           True  \n",
       "2           True  \n",
       "3           True  \n",
       "4           True  \n",
       "5           True  "
      ]
     },
     "execution_count": 51,
     "metadata": {},
     "output_type": "execute_result"
    }
   ],
   "source": [
    "car2=car1.loc[car1.is_locus_lead==True]\n",
    "car2"
   ]
  },
  {
   "cell_type": "code",
   "execution_count": 54,
   "id": "df9bcc5a",
   "metadata": {},
   "outputs": [
    {
     "data": {
      "text/html": [
       "<div>\n",
       "<style scoped>\n",
       "    .dataframe tbody tr th:only-of-type {\n",
       "        vertical-align: middle;\n",
       "    }\n",
       "\n",
       "    .dataframe tbody tr th {\n",
       "        vertical-align: top;\n",
       "    }\n",
       "\n",
       "    .dataframe thead th {\n",
       "        text-align: right;\n",
       "    }\n",
       "</style>\n",
       "<table border=\"1\" class=\"dataframe\">\n",
       "  <thead>\n",
       "    <tr style=\"text-align: right;\">\n",
       "      <th></th>\n",
       "      <th>LEAD_SNP</th>\n",
       "      <th>LEAD_SNP</th>\n",
       "    </tr>\n",
       "  </thead>\n",
       "  <tbody>\n",
       "    <tr>\n",
       "      <th>0</th>\n",
       "      <td>rs10890013</td>\n",
       "      <td>rs10890013</td>\n",
       "    </tr>\n",
       "    <tr>\n",
       "      <th>1</th>\n",
       "      <td>rs9266242</td>\n",
       "      <td>rs9266242</td>\n",
       "    </tr>\n",
       "    <tr>\n",
       "      <th>2</th>\n",
       "      <td>rs7073340</td>\n",
       "      <td>rs7073340</td>\n",
       "    </tr>\n",
       "    <tr>\n",
       "      <th>3</th>\n",
       "      <td>rs174541</td>\n",
       "      <td>rs174541</td>\n",
       "    </tr>\n",
       "    <tr>\n",
       "      <th>4</th>\n",
       "      <td>rs2004910</td>\n",
       "      <td>rs2004910</td>\n",
       "    </tr>\n",
       "    <tr>\n",
       "      <th>5</th>\n",
       "      <td>rs59618196</td>\n",
       "      <td>rs59618196</td>\n",
       "    </tr>\n",
       "  </tbody>\n",
       "</table>\n",
       "</div>"
      ],
      "text/plain": [
       "     LEAD_SNP    LEAD_SNP\n",
       "0  rs10890013  rs10890013\n",
       "1   rs9266242   rs9266242\n",
       "2   rs7073340   rs7073340\n",
       "3    rs174541    rs174541\n",
       "4   rs2004910   rs2004910\n",
       "5  rs59618196  rs59618196"
      ]
     },
     "execution_count": 54,
     "metadata": {},
     "output_type": "execute_result"
    }
   ],
   "source": [
    "car3=car2.iloc[:,[2,2]]\n",
    "car3"
   ]
  },
  {
   "cell_type": "code",
   "execution_count": 56,
   "id": "42b7136c",
   "metadata": {},
   "outputs": [
    {
     "data": {
      "text/plain": [
       "'CAD'"
      ]
     },
     "execution_count": 56,
     "metadata": {},
     "output_type": "execute_result"
    }
   ],
   "source": [
    "cl1='/home/ubuntu/md_cvd_yunhan/pleiofdr_mdd/PGC_MDD_2018_with23andMe_noUKBB_vs_CARDIOGRAM_CAD_2017_UKB_conjfdr/conj.result.clump.lead.csv'\n",
    "cl1.split('/')[-2].split('_')[7]"
   ]
  },
  {
   "cell_type": "code",
   "execution_count": 7,
   "id": "51444dd8",
   "metadata": {},
   "outputs": [],
   "source": [
    "def snplist(clump):\n",
    "    car1=pd.read_csv(clump,sep='\\t')\n",
    "    car2=car1.loc[car1.is_locus_lead==True]\n",
    "    car3=car2.iloc[:,[2,2]]\n",
    "    cl1=clump.split('/')[-2].split('_')[7]\n",
    "    car3.to_csv(f'/home/ubuntu/md_cvd_yunhan/md_cvd_from_saga/DEP_{cl1}_lead_snp_annot.csv',index=False,header=None,sep='\\t')"
   ]
  },
  {
   "cell_type": "code",
   "execution_count": 9,
   "id": "1e0519d3",
   "metadata": {},
   "outputs": [],
   "source": [
    "snplist('/home/ubuntu/md_cvd_yunhan/md_cvd_from_saga/md_cvd/PGC_MD_2018_with23andMe_noUKBB_vs_CARDIOGRAM_CAD_2017_UKB_conjfdr/conj.result.clump.lead.csv')"
   ]
  },
  {
   "cell_type": "code",
   "execution_count": 12,
   "id": "9c673646",
   "metadata": {},
   "outputs": [],
   "source": [
    "snplist('/home/ubuntu/md_cvd_yunhan/md_cvd_from_saga/md_cvd/PGC_MD_2018_with23andMe_noUKBB_vs_MVP_LDL_2018_LDL_EUR_conjfdr/conj.result.clump.lead.csv')"
   ]
  },
  {
   "cell_type": "code",
   "execution_count": 13,
   "id": "9c8cdccb",
   "metadata": {},
   "outputs": [],
   "source": [
    "snplist('/home/ubuntu/md_cvd_yunhan/md_cvd_from_saga/md_cvd/PGC_MD_2018_with23andMe_noUKBB_vs_UKB_SBP_2018_SBP_withICBP_conjfdr/conj.result.clump.lead.csv')"
   ]
  },
  {
   "cell_type": "code",
   "execution_count": 4,
   "id": "d4a3a72c",
   "metadata": {},
   "outputs": [],
   "source": [
    "cr1=pd.read_csv('../md_cvd_yunhan/combined_tables/conjFDR_0.05_DEP_vs_CAD_novelty.csv')\n",
    "cr2=cr1.iloc[:,[2,9]]\n",
    "cr2.to_csv('../md_cvd_yunhan/pleiofdr_mdd/DEP_CAD_lead_gene_annot.csv',header=None,index=False,sep='\\t')"
   ]
  },
  {
   "cell_type": "code",
   "execution_count": 5,
   "id": "08f72f9d",
   "metadata": {},
   "outputs": [],
   "source": [
    "cr1=pd.read_csv('../md_cvd_yunhan/combined_tables/conjFDR_0.05_DEP_vs_SBP_novelty.csv')\n",
    "cr2=cr1.iloc[:,[2,9]]\n",
    "cr2.to_csv('../md_cvd_yunhan/pleiofdr_mdd/DEP_SBP_lead_gene_annot.csv',header=None,index=False,sep='\\t')"
   ]
  },
  {
   "cell_type": "code",
   "execution_count": 6,
   "id": "71bcc5b5",
   "metadata": {},
   "outputs": [],
   "source": [
    "cr1=pd.read_csv('../md_cvd_yunhan/combined_tables/conjFDR_0.05_DEP_vs_LDL_novelty.csv')\n",
    "cr2=cr1.iloc[:,[2,9]]\n",
    "cr2.to_csv('../md_cvd_yunhan/pleiofdr_mdd/DEP_LDL_lead_gene_annot.csv',header=None,index=False,sep='\\t')"
   ]
  },
  {
   "cell_type": "code",
   "execution_count": 14,
   "id": "a4787b44",
   "metadata": {},
   "outputs": [],
   "source": [
    "w15 = ExcelWriter('/home/ubuntu/immunesystem_md/from_nadine/fuma_fdr_tables/conjFDR_0.05_SCZ_vs_TRAIT2_SNPs.xlsx')\n",
    "for filename in glob.glob('/home/ubuntu/immunesystem_md/from_nadine/fuma_fdr_tables/conjFDR_0.05_SCZ_vs_*_snps.csv'):\n",
    "    go1=pd.read_csv(filename)\n",
    "    trait1=filename.split('/')[-1].split('.')[1].split('_')[1].upper()\n",
    "    trait2=filename.split('/')[-1].split('.')[1].split('_')[3].upper()\n",
    "    go1.to_excel(w15, sheet_name=f'{trait1}_{trait2}',index=False)\n",
    "    w15.save() \n",
    "\n",
    "w17 = ExcelWriter('/home/ubuntu/immunesystem_md/from_nadine/fuma_fdr_tables/condFDR_0.01_SCZ_vs_TRAIT2_LOCI.xlsx')\n",
    "for filename in glob.glob('/home/ubuntu/immunesystem_md/from_nadine/fuma_fdr_tables/condFDR_0.01_SCZ_vs_*.csv'):\n",
    "    go1=pd.read_csv(filename)\n",
    "    trait1=filename.split('/')[-1].split('.')[1].split('_')[1].upper()\n",
    "    trait2=filename.split('/')[-1].split('.')[1].split('_')[3].upper()\n",
    "    go1.to_excel(w17, sheet_name=f'{trait1}_{trait2}',index=False)\n",
    "    w17.save() \n",
    "\n",
    "w18 = ExcelWriter('/home/ubuntu/immunesystem_md/from_nadine/fuma_fdr_tables/condFDR_0.01_TRAIT2_vs_SCZ_LOCI.xlsx')\n",
    "for filename in glob.glob('/home/ubuntu/immunesystem_md/from_nadine/fuma_fdr_tables/condFDR_0.01_*_vs_SCZ.csv'):\n",
    "    go1=pd.read_csv(filename)\n",
    "    trait1=filename.split('/')[-1].split('.')[1].split('_')[1].upper()\n",
    "    trait2=filename.split('/')[-1].split('.')[1].split('_')[3].upper()\n",
    "    go1.to_excel(w18, sheet_name=f'{trait1}_{trait2}',index=False)\n",
    "    w18.save()"
   ]
  },
  {
   "cell_type": "code",
   "execution_count": 15,
   "id": "4871db6a",
   "metadata": {},
   "outputs": [],
   "source": [
    "w16 = ExcelWriter('/home/ubuntu/immunesystem_md/from_nadine/fuma_fdr_tables/conjFDR_0.05_SCZ_vs_TRAIT2_LOCI.xlsx')\n",
    "for filename in glob.glob('/home/ubuntu/immunesystem_md/from_nadine/fuma_fdr_tables/conjFDR_0.05_SCZ_vs_*_novelty.csv'):\n",
    "    go1=pd.read_csv(filename)\n",
    "    trait1=filename.split('/')[-1].split('.')[1].split('_')[1].upper()\n",
    "    trait2=filename.split('/')[-1].split('.')[1].split('_')[3].upper()\n",
    "    go1.to_excel(w16, sheet_name=f'{trait1}_{trait2}',index=False)\n",
    "    w16.save() \n"
   ]
  },
  {
   "cell_type": "code",
   "execution_count": 17,
   "id": "a2e602b0",
   "metadata": {},
   "outputs": [],
   "source": [
    "tr1='/home/ubuntu/immunesystem_md/from_fuma/new/FUMA_scz_basophil_conj_snps_job159309/genes.txt'"
   ]
  },
  {
   "cell_type": "code",
   "execution_count": 19,
   "id": "accfa65c",
   "metadata": {},
   "outputs": [
    {
     "data": {
      "text/plain": [
       "'basophil'"
      ]
     },
     "execution_count": 19,
     "metadata": {},
     "output_type": "execute_result"
    }
   ],
   "source": [
    "tr1.split('/')[-2].split('_')[2]"
   ]
  },
  {
   "cell_type": "code",
   "execution_count": 20,
   "id": "8596c3f0",
   "metadata": {},
   "outputs": [],
   "source": [
    "w19 = ExcelWriter('/home/ubuntu/immunesystem_md/from_nadine/fuma_fdr_tables/conjFDR_0.05_SCZ_vs_TRAIT2_GENEs2.xlsx')\n",
    "for filename in glob.glob('/home/ubuntu/immunesystem_md/from_fuma/new/FUMA_scz_*_conj_snp*/genes.txt'):\n",
    "    g2=pd.read_csv(filename,sep=\"\\t\")\n",
    "    trait1='SCZ'\n",
    "    trait2=filename.split('/')[-2].split('_')[2].upper()\n",
    "    g2=g2.iloc[:,[0,1,2,3,4,5,6,7,8,11,12,13,14,15,16,17,18,19,20,21,22]]\n",
    "    g2.rename(columns={'ensg':'Ensembl ID','symbol':'Gene','chr':'Chr','start':'Start bp','end':'End bp',\n",
    "                   'strand':'Strand','type':'Type','entrezID':'EntrezID'}, inplace=True)\n",
    "    g2['posMap'] = np.where(g2[['posMapSNPs']]>0, \"Yes\", \"No\")\n",
    "    g2['eqtlMap'] = np.where(g2[['eqtlMapSNPs']]>0, \"Yes\", \"No\")\n",
    "    g2['Credible']=np.where(((g2.posMap =='Yes') & (g2.eqtlMap =='Yes') & (g2.ciMap=='Yes')), 'Yes', 'No')\n",
    "    g3=g2.iloc[:,[0,1,2,3,4,5,6,7,8,21,9,10,22,11,12,13,14,16,17,19,20,23]]\n",
    "    g3=g3.loc[~(((g3['Chr'] == 6) & (g3['Start bp'] > 25119106) & (g3['End bp'] < 33854733)) | \n",
    "                ((g3['Chr'] == 8) & (g3['Start bp'] > 7200000) & (g3['End bp'] < 12500000))),:]\n",
    "    g3.to_excel(w19, sheet_name=f'{trait1}_{trait2}',index=False)\n",
    "    w19.save()  \n",
    "    \n",
    "    \n",
    "w20 = ExcelWriter('/home/ubuntu/immunesystem_md/from_nadine/fuma_fdr_tables/conjFDR_0.05_SCZ_vs_TRAIT2_GENEs.xlsx')\n",
    "for filename in glob.glob('/home/ubuntu/immunesystem_md/from_fuma/new/FUMA_scz_*_conj_snp*/genes.txt'):\n",
    "    g2=pd.read_csv(filename,sep=\"\\t\")\n",
    "    trait1='SCZ'\n",
    "    trait2=filename.split('/')[-2].split('_')[2].upper()\n",
    "    g2=g2.iloc[:,[0,1,2,3,4,5,6,7,8,11,12,13,14,15,16,17,18,19,20,21,22]]\n",
    "    g2.rename(columns={'ensg':'Ensembl ID','symbol':'Gene','chr':'Chr','start':'Start bp','end':'End bp',\n",
    "                   'strand':'Strand','type':'Type','entrezID':'EntrezID'}, inplace=True)\n",
    "    g2['posMap'] = np.where(g2[['posMapSNPs']]>0, \"Yes\", \"No\")\n",
    "    g2['eqtlMap'] = np.where(g2[['eqtlMapSNPs']]>0, \"Yes\", \"No\")\n",
    "    g2['Credible']=np.where(((g2.posMap =='Yes') & (g2.eqtlMap =='Yes') & (g2.ciMap=='Yes')), 'Yes', 'No')\n",
    "    g3=g2.iloc[:,[0,1,2,3,4,5,6,7,8,21,9,10,22,11,12,13,14,16,17,19,20,23]]\n",
    "    #g3=g3.loc[~(((g3['Chr'] == 6) & (g3['Start bp'] > 25119106) & (g3['End bp'] < 33854733)) | \n",
    "     #           ((g3['Chr'] == 8) & (g3['Start bp'] > 7200000) & (g3['End bp'] < 12500000))),:]\n",
    "    g3.to_excel(w20, sheet_name=f'{trait1}_{trait2}',index=False)\n",
    "    w20.save()   "
   ]
  },
  {
   "cell_type": "code",
   "execution_count": 2,
   "id": "90714faa",
   "metadata": {},
   "outputs": [
    {
     "ename": "NameError",
     "evalue": "name 'w20' is not defined",
     "output_type": "error",
     "traceback": [
      "\u001b[0;31m---------------------------------------------------------------------------\u001b[0m",
      "\u001b[0;31mNameError\u001b[0m                                 Traceback (most recent call last)",
      "\u001b[0;32m/tmp/ipykernel_27641/3607683754.py\u001b[0m in \u001b[0;36m<module>\u001b[0;34m\u001b[0m\n\u001b[1;32m     64\u001b[0m      \u001b[0;31m#           ((g3['Chr'] == 8) & (g3['Start bp'] > 7200000) & (g3['End bp'] < 12500000))),:]\u001b[0m\u001b[0;34m\u001b[0m\u001b[0;34m\u001b[0m\u001b[0;34m\u001b[0m\u001b[0m\n\u001b[1;32m     65\u001b[0m     \u001b[0mg3\u001b[0m\u001b[0;34m.\u001b[0m\u001b[0mto_excel\u001b[0m\u001b[0;34m(\u001b[0m\u001b[0mw26\u001b[0m\u001b[0;34m,\u001b[0m \u001b[0msheet_name\u001b[0m\u001b[0;34m=\u001b[0m\u001b[0;34mf'{trait1}_{trait2}'\u001b[0m\u001b[0;34m,\u001b[0m\u001b[0mindex\u001b[0m\u001b[0;34m=\u001b[0m\u001b[0;32mFalse\u001b[0m\u001b[0;34m)\u001b[0m\u001b[0;34m\u001b[0m\u001b[0;34m\u001b[0m\u001b[0m\n\u001b[0;32m---> 66\u001b[0;31m     \u001b[0mw20\u001b[0m\u001b[0;34m.\u001b[0m\u001b[0msave\u001b[0m\u001b[0;34m(\u001b[0m\u001b[0;34m)\u001b[0m\u001b[0;34m\u001b[0m\u001b[0;34m\u001b[0m\u001b[0m\n\u001b[0m\u001b[1;32m     67\u001b[0m \u001b[0;34m\u001b[0m\u001b[0m\n\u001b[1;32m     68\u001b[0m \u001b[0mw27\u001b[0m \u001b[0;34m=\u001b[0m \u001b[0mExcelWriter\u001b[0m\u001b[0;34m(\u001b[0m\u001b[0;34m'/home/ubuntu/immunesystem_md/from_nadine/fuma_fdr_tables/conjFDR_0.05_SCZ_vs_TRAIT2_GENEs_excluded.xlsx'\u001b[0m\u001b[0;34m)\u001b[0m\u001b[0;34m\u001b[0m\u001b[0;34m\u001b[0m\u001b[0m\n",
      "\u001b[0;31mNameError\u001b[0m: name 'w20' is not defined"
     ]
    }
   ],
   "source": [
    "w21 = ExcelWriter('/home/ubuntu/immunesystem_md/from_nadine/fuma_fdr_tables_new/conjFDR_0.05_SCZ_vs_TRAIT2_SNPs.xlsx')\n",
    "for filename in glob.glob('/home/ubuntu/immunesystem_md/from_nadine/fuma_fdr_tables_new/conjFDR_0.05_SCZ_vs_*_snps.csv'):\n",
    "    go1=pd.read_csv(filename)\n",
    "    trait1=filename.split('/')[-1].split('.')[1].split('_')[1].upper()\n",
    "    trait2=filename.split('/')[-1].split('.')[1].split('_')[3].upper()\n",
    "    go1.to_excel(w21, sheet_name=f'{trait1}_{trait2}',index=False)\n",
    "    w21.save() \n",
    "\n",
    "w22 = ExcelWriter('/home/ubuntu/immunesystem_md/from_nadine/fuma_fdr_tables_new/condFDR_0.01_SCZ_vs_TRAIT2_LOCI.xlsx')\n",
    "for filename in glob.glob('/home/ubuntu/immunesystem_md/from_nadine/fuma_fdr_tables_new/condFDR_0.01_SCZ_vs_*.csv'):\n",
    "    go1=pd.read_csv(filename)\n",
    "    trait1=filename.split('/')[-1].split('.')[1].split('_')[1].upper()\n",
    "    trait2=filename.split('/')[-1].split('.')[1].split('_')[3].upper()\n",
    "    go1.to_excel(w22, sheet_name=f'{trait1}_{trait2}',index=False)\n",
    "    w22.save() \n",
    "\n",
    "w23 = ExcelWriter('/home/ubuntu/immunesystem_md/from_nadine/fuma_fdr_tables_new/condFDR_0.01_TRAIT2_vs_SCZ_LOCI.xlsx')\n",
    "for filename in glob.glob('/home/ubuntu/immunesystem_md/from_nadine/fuma_fdr_tables_new/condFDR_0.01_*_vs_SCZ.csv'):\n",
    "    go1=pd.read_csv(filename)\n",
    "    trait1=filename.split('/')[-1].split('.')[1].split('_')[1].upper()\n",
    "    trait2=filename.split('/')[-1].split('.')[1].split('_')[3].upper()\n",
    "    go1.to_excel(w23, sheet_name=f'{trait1}_{trait2}',index=False)\n",
    "    w23.save()\n",
    "\n",
    "w24 = ExcelWriter('/home/ubuntu/immunesystem_md/from_nadine/fuma_fdr_tables_new/conjFDR_0.05_SCZ_vs_TRAIT2_LOCI.xlsx')\n",
    "for filename in glob.glob('/home/ubuntu/immunesystem_md/from_nadine/fuma_fdr_tables_new/conjFDR_0.05_SCZ_vs_*_novelty.csv'):\n",
    "    go1=pd.read_csv(filename)\n",
    "    trait1=filename.split('/')[-1].split('.')[1].split('_')[1].upper()\n",
    "    trait2=filename.split('/')[-1].split('.')[1].split('_')[3].upper()\n",
    "    go1.to_excel(w24, sheet_name=f'{trait1}_{trait2}',index=False)\n",
    "    w24.save() \n",
    "\n",
    "w25 = ExcelWriter('/home/ubuntu/immunesystem_md/from_nadine/fuma_fdr_tables_new/conjFDR_0.05_SCZ_vs_TRAIT2_GENEs2.xlsx')\n",
    "for filename in glob.glob('/home/ubuntu/immunesystem_md/from_fuma/new2/FUMA_scz_*_conj_snp*/genes.txt'):\n",
    "    g2=pd.read_csv(filename,sep=\"\\t\")\n",
    "    trait1='SCZ'\n",
    "    trait2=filename.split('/')[-2].split('_')[2].upper()\n",
    "    g2=g2.iloc[:,[0,1,2,3,4,5,6,7,8,11,12,13,14,15,16,17,18,19,20,21,22]]\n",
    "    g2.rename(columns={'ensg':'Ensembl ID','symbol':'Gene','chr':'Chr','start':'Start bp','end':'End bp',\n",
    "                   'strand':'Strand','type':'Type','entrezID':'EntrezID'}, inplace=True)\n",
    "    g2['posMap'] = np.where(g2[['posMapSNPs']]>0, \"Yes\", \"No\")\n",
    "    g2['eqtlMap'] = np.where(g2[['eqtlMapSNPs']]>0, \"Yes\", \"No\")\n",
    "    g2['Credible']=np.where(((g2.posMap =='Yes') & (g2.eqtlMap =='Yes') & (g2.ciMap=='Yes')), 'Yes', 'No')\n",
    "    g3=g2.iloc[:,[0,1,2,3,4,5,6,7,8,21,9,10,22,11,12,13,14,16,17,19,20,23]]\n",
    "    g3=g3.loc[~(((g3['Chr'] == 6) & (g3['Start bp'] > 25119106) & (g3['End bp'] < 33854733)) | \n",
    "                ((g3['Chr'] == 8) & (g3['Start bp'] > 7200000) & (g3['End bp'] < 12500000))),:]\n",
    "    g3.to_excel(w25, sheet_name=f'{trait1}_{trait2}',index=False)\n",
    "    w25.save()  \n",
    "    \n",
    "    \n",
    "w26 = ExcelWriter('/home/ubuntu/immunesystem_md/from_nadine/fuma_fdr_tables/conjFDR_0.05_SCZ_vs_TRAIT2_GENEs.xlsx')\n",
    "for filename in glob.glob('/home/ubuntu/immunesystem_md/from_fuma/new2/FUMA_scz_*_conj_snp*/genes.txt'):\n",
    "    g2=pd.read_csv(filename,sep=\"\\t\")\n",
    "    trait1='SCZ'\n",
    "    trait2=filename.split('/')[-2].split('_')[2].upper()\n",
    "    g2=g2.iloc[:,[0,1,2,3,4,5,6,7,8,11,12,13,14,15,16,17,18,19,20,21,22]]\n",
    "    g2.rename(columns={'ensg':'Ensembl ID','symbol':'Gene','chr':'Chr','start':'Start bp','end':'End bp',\n",
    "                   'strand':'Strand','type':'Type','entrezID':'EntrezID'}, inplace=True)\n",
    "    g2['posMap'] = np.where(g2[['posMapSNPs']]>0, \"Yes\", \"No\")\n",
    "    g2['eqtlMap'] = np.where(g2[['eqtlMapSNPs']]>0, \"Yes\", \"No\")\n",
    "    g2['Credible']=np.where(((g2.posMap =='Yes') & (g2.eqtlMap =='Yes') & (g2.ciMap=='Yes')), 'Yes', 'No')\n",
    "    g3=g2.iloc[:,[0,1,2,3,4,5,6,7,8,21,9,10,22,11,12,13,14,16,17,19,20,23]]\n",
    "    #g3=g3.loc[~(((g3['Chr'] == 6) & (g3['Start bp'] > 25119106) & (g3['End bp'] < 33854733)) | \n",
    "     #           ((g3['Chr'] == 8) & (g3['Start bp'] > 7200000) & (g3['End bp'] < 12500000))),:]\n",
    "    g3.to_excel(w26, sheet_name=f'{trait1}_{trait2}',index=False)\n",
    "    w26.save()   \n",
    "\n",
    "w27 = ExcelWriter('/home/ubuntu/immunesystem_md/from_nadine/fuma_fdr_tables/conjFDR_0.05_SCZ_vs_TRAIT2_GENEs_excluded.xlsx')\n",
    "for filename in glob.glob('/home/ubuntu/immunesystem_md/from_fuma/new2/FUMA_scz_*_conj_snp*/genes.txt'):\n",
    "    g2=pd.read_csv(filename,sep=\"\\t\")\n",
    "    trait1='SCZ'\n",
    "    trait2=filename.split('/')[-2].split('_')[2].upper()\n",
    "    g2=g2.iloc[:,[0,1,2,3,4,5,6,7,8,11,12,13,14,15,16,17,18,19,20,21,22]]\n",
    "    g2.rename(columns={'ensg':'Ensembl ID','symbol':'Gene','chr':'Chr','start':'Start bp','end':'End bp',\n",
    "                   'strand':'Strand','type':'Type','entrezID':'EntrezID'}, inplace=True)\n",
    "    g2['posMap'] = np.where(g2[['posMapSNPs']]>0, \"Yes\", \"No\")\n",
    "    g2['eqtlMap'] = np.where(g2[['eqtlMapSNPs']]>0, \"Yes\", \"No\")\n",
    "    g2['Credible']=np.where(((g2.posMap =='Yes') & (g2.eqtlMap =='Yes') & (g2.ciMap=='Yes')), 'Yes', 'No')\n",
    "    g3=g2.iloc[:,[0,1,2,3,4,5,6,7,8,21,9,10,22,11,12,13,14,16,17,19,20,23]]\n",
    "    g3=g3.loc[(((g3['Chr'] == 6) & (g3['Start bp'] > 25119106) & (g3['End bp'] < 33854733)) | \n",
    "                ((g3['Chr'] == 8) & (g3['Start bp'] > 7200000) & (g3['End bp'] < 12500000))),:]\n",
    "    g3.to_excel(w27, sheet_name=f'{trait1}_{trait2}',index=False)\n",
    "    w27.save()   "
   ]
  },
  {
   "cell_type": "code",
   "execution_count": 3,
   "id": "b2629e37",
   "metadata": {},
   "outputs": [],
   "source": [
    "w26 = ExcelWriter('/home/ubuntu/immunesystem_md/from_nadine/fuma_fdr_tables/conjFDR_0.05_SCZ_vs_TRAIT2_GENEs.xlsx')\n",
    "for filename in glob.glob('/home/ubuntu/immunesystem_md/from_fuma/new2/FUMA_scz_*_conj_snp*/genes.txt'):\n",
    "    g2=pd.read_csv(filename,sep=\"\\t\")\n",
    "    trait1='SCZ'\n",
    "    trait2=filename.split('/')[-2].split('_')[2].upper()\n",
    "    g2=g2.iloc[:,[0,1,2,3,4,5,6,7,8,11,12,13,14,15,16,17,18,19,20,21,22]]\n",
    "    g2.rename(columns={'ensg':'Ensembl ID','symbol':'Gene','chr':'Chr','start':'Start bp','end':'End bp',\n",
    "                   'strand':'Strand','type':'Type','entrezID':'EntrezID'}, inplace=True)\n",
    "    g2['posMap'] = np.where(g2[['posMapSNPs']]>0, \"Yes\", \"No\")\n",
    "    g2['eqtlMap'] = np.where(g2[['eqtlMapSNPs']]>0, \"Yes\", \"No\")\n",
    "    g2['Credible']=np.where(((g2.posMap =='Yes') & (g2.eqtlMap =='Yes') & (g2.ciMap=='Yes')), 'Yes', 'No')\n",
    "    g3=g2.iloc[:,[0,1,2,3,4,5,6,7,8,21,9,10,22,11,12,13,14,16,17,19,20,23]]\n",
    "    #g3=g3.loc[~(((g3['Chr'] == 6) & (g3['Start bp'] > 25119106) & (g3['End bp'] < 33854733)) | \n",
    "     #           ((g3['Chr'] == 8) & (g3['Start bp'] > 7200000) & (g3['End bp'] < 12500000))),:]\n",
    "    g3.to_excel(w26, sheet_name=f'{trait1}_{trait2}',index=False)\n",
    "    w26.save()   \n"
   ]
  },
  {
   "cell_type": "code",
   "execution_count": 9,
   "id": "ec71d1e4",
   "metadata": {},
   "outputs": [],
   "source": [
    "l1=pd.read_csv('from_nadine/fuma_fdr_tables_new/condFDR_0.01_SCZ_vs_trait2_all_loci.csv',sep='\\t',header=None,dtype=str)\n",
    "l1.to_csv('from_nadine/fuma_fdr_tables_new/condFDR_0.01_SCZ_vs_trait2_all_loci.csv',sep='\\t',index=False,header=None)"
   ]
  },
  {
   "cell_type": "code",
   "execution_count": 4,
   "id": "28db7609",
   "metadata": {},
   "outputs": [
    {
     "data": {
      "text/plain": [
       "'/home/ubuntu/immunesystem_md'"
      ]
     },
     "execution_count": 4,
     "metadata": {},
     "output_type": "execute_result"
    }
   ],
   "source": [
    "os.getcwd()"
   ]
  },
  {
   "cell_type": "code",
   "execution_count": null,
   "id": "009b9878",
   "metadata": {},
   "outputs": [],
   "source": []
  }
 ],
 "metadata": {
  "kernelspec": {
   "display_name": "Python 3 (ipykernel)",
   "language": "python",
   "name": "python3"
  },
  "language_info": {
   "codemirror_mode": {
    "name": "ipython",
    "version": 3
   },
   "file_extension": ".py",
   "mimetype": "text/x-python",
   "name": "python",
   "nbconvert_exporter": "python",
   "pygments_lexer": "ipython3",
   "version": "3.8.10"
  }
 },
 "nbformat": 4,
 "nbformat_minor": 5
}
